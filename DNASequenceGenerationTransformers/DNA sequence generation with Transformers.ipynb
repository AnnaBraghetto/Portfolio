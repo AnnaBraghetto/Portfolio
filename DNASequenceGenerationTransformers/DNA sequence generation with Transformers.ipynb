{
 "cells": [
  {
   "cell_type": "markdown",
   "id": "e5e7bdfe-d269-495e-a63e-0bad952c9af8",
   "metadata": {
    "id": "e5e7bdfe-d269-495e-a63e-0bad952c9af8"
   },
   "source": [
    "# Gene type prediction with Transformers\n",
    "\n",
    "Data collected from [Kaggle](https://www.kaggle.com/datasets/harshvardhan21/dna-sequence-prediction?resource=download&select=validation.csv) referes to nuocletide sequences and gene type encoded within them."
   ]
  },
  {
   "cell_type": "code",
   "execution_count": 1,
   "id": "K7A8uA39GbxJ",
   "metadata": {
    "executionInfo": {
     "elapsed": 329,
     "status": "ok",
     "timestamp": 1759566277418,
     "user": {
      "displayName": "Anna Braghetto",
      "userId": "08361497697639421184"
     },
     "user_tz": -120
    },
    "id": "K7A8uA39GbxJ"
   },
   "outputs": [],
   "source": [
    "import pandas as pd"
   ]
  },
  {
   "cell_type": "code",
   "execution_count": 3,
   "id": "9b84d1e5",
   "metadata": {
    "executionInfo": {
     "elapsed": 8598,
     "status": "ok",
     "timestamp": 1759566320238,
     "user": {
      "displayName": "Anna Braghetto",
      "userId": "08361497697639421184"
     },
     "user_tz": -120
    },
    "id": "9b84d1e5"
   },
   "outputs": [],
   "source": [
    "from eda import SequenceEDA\n",
    "from preprocess import SequencePreprocess, detokenize, kmers_to_sequence\n",
    "from model import TransformerGenerator"
   ]
  },
  {
   "cell_type": "code",
   "execution_count": 4,
   "id": "59b5659e-bc3a-4740-8ea9-b6bbdfa890b8",
   "metadata": {
    "colab": {
     "base_uri": "https://localhost:8080/"
    },
    "executionInfo": {
     "elapsed": 3542,
     "status": "ok",
     "timestamp": 1759566323787,
     "user": {
      "displayName": "Anna Braghetto",
      "userId": "08361497697639421184"
     },
     "user_tz": -120
    },
    "id": "59b5659e-bc3a-4740-8ea9-b6bbdfa890b8",
    "outputId": "fe4f8425-fbf7-4c08-dabf-c39f1c8ad57d"
   },
   "outputs": [
    {
     "name": "stdout",
     "output_type": "stream",
     "text": [
      "Training data shape: (22593, 7)\n",
      "Validation data shape: (4577, 7)\n",
      "Test data shape: (8326, 7)\n"
     ]
    }
   ],
   "source": [
    "#load the datasets\n",
    "train_df = pd.read_csv('train.csv', encoding='ascii')\n",
    "val_df = pd.read_csv('validation.csv', encoding='ascii')\n",
    "test_df = pd.read_csv('test.csv', encoding='ascii')\n",
    "\n",
    "#dump on screen the shapes of the datasets\n",
    "print('Training data shape:', train_df.shape)\n",
    "print('Validation data shape:', val_df.shape)\n",
    "print('Test data shape:', test_df.shape)"
   ]
  },
  {
   "cell_type": "code",
   "execution_count": 5,
   "id": "f353e655",
   "metadata": {
    "colab": {
     "base_uri": "https://localhost:8080/",
     "height": 238
    },
    "executionInfo": {
     "elapsed": 436,
     "status": "ok",
     "timestamp": 1759566324228,
     "user": {
      "displayName": "Anna Braghetto",
      "userId": "08361497697639421184"
     },
     "user_tz": -120
    },
    "id": "f353e655",
    "outputId": "46b62ebe-7be2-4189-c00d-556ffe88b84f"
   },
   "outputs": [
    {
     "data": {
      "application/vnd.google.colaboratory.intrinsic+json": {
       "summary": "{\n  \"name\": \"train_df\",\n  \"rows\": 22593,\n  \"fields\": [\n    {\n      \"column\": \"Unnamed: 0\",\n      \"properties\": {\n        \"dtype\": \"number\",\n        \"std\": 5345,\n        \"min\": 0,\n        \"max\": 19021,\n        \"num_unique_values\": 18474,\n        \"samples\": [\n          17401,\n          17291,\n          9934\n        ],\n        \"semantic_type\": \"\",\n        \"description\": \"\"\n      }\n    },\n    {\n      \"column\": \"NCBIGeneID\",\n      \"properties\": {\n        \"dtype\": \"number\",\n        \"std\": 43289961,\n        \"min\": 63,\n        \"max\": 124909496,\n        \"num_unique_values\": 22593,\n        \"samples\": [\n          101060189,\n          107075232,\n          106480358\n        ],\n        \"semantic_type\": \"\",\n        \"description\": \"\"\n      }\n    },\n    {\n      \"column\": \"Symbol\",\n      \"properties\": {\n        \"dtype\": \"string\",\n        \"num_unique_values\": 22530,\n        \"samples\": [\n          \"HMGN2P10\",\n          \"RN7SL478P\",\n          \"RNA5SP35\"\n        ],\n        \"semantic_type\": \"\",\n        \"description\": \"\"\n      }\n    },\n    {\n      \"column\": \"Description\",\n      \"properties\": {\n        \"dtype\": \"string\",\n        \"num_unique_values\": 21034,\n        \"samples\": [\n          \"uncharacterized LOC124903626\",\n          \"eukaryotic translation initiation factor 3 subunit K pseudogene 2\",\n          \"peptidylprolyl isomerase A pseudogene 1\"\n        ],\n        \"semantic_type\": \"\",\n        \"description\": \"\"\n      }\n    },\n    {\n      \"column\": \"GeneType\",\n      \"properties\": {\n        \"dtype\": \"category\",\n        \"num_unique_values\": 10,\n        \"samples\": [\n          \"scRNA\",\n          \"BIOLOGICAL_REGION\",\n          \"ncRNA\"\n        ],\n        \"semantic_type\": \"\",\n        \"description\": \"\"\n      }\n    },\n    {\n      \"column\": \"GeneGroupMethod\",\n      \"properties\": {\n        \"dtype\": \"category\",\n        \"num_unique_values\": 1,\n        \"samples\": [\n          \"NCBI Ortholog\"\n        ],\n        \"semantic_type\": \"\",\n        \"description\": \"\"\n      }\n    },\n    {\n      \"column\": \"NucleotideSequence\",\n      \"properties\": {\n        \"dtype\": \"string\",\n        \"num_unique_values\": 21884,\n        \"samples\": [\n          \"<GGCTTCGTGGCTTAGCTGGTTAAAGCGCCTGTCTAGTAAACAGGAGATCCTGGGTTCGAATCCCAGCGAGGCCT>\"\n        ],\n        \"semantic_type\": \"\",\n        \"description\": \"\"\n      }\n    }\n  ]\n}",
       "type": "dataframe",
       "variable_name": "train_df"
      },
      "text/html": [
       "\n",
       "  <div id=\"df-42658cd6-df75-467d-8343-8eee5d85ca40\" class=\"colab-df-container\">\n",
       "    <div>\n",
       "<style scoped>\n",
       "    .dataframe tbody tr th:only-of-type {\n",
       "        vertical-align: middle;\n",
       "    }\n",
       "\n",
       "    .dataframe tbody tr th {\n",
       "        vertical-align: top;\n",
       "    }\n",
       "\n",
       "    .dataframe thead th {\n",
       "        text-align: right;\n",
       "    }\n",
       "</style>\n",
       "<table border=\"1\" class=\"dataframe\">\n",
       "  <thead>\n",
       "    <tr style=\"text-align: right;\">\n",
       "      <th></th>\n",
       "      <th>Unnamed: 0</th>\n",
       "      <th>NCBIGeneID</th>\n",
       "      <th>Symbol</th>\n",
       "      <th>Description</th>\n",
       "      <th>GeneType</th>\n",
       "      <th>GeneGroupMethod</th>\n",
       "      <th>NucleotideSequence</th>\n",
       "    </tr>\n",
       "  </thead>\n",
       "  <tbody>\n",
       "    <tr>\n",
       "      <th>0</th>\n",
       "      <td>0</td>\n",
       "      <td>106481178</td>\n",
       "      <td>RNU4-21P</td>\n",
       "      <td>RNA, U4 small nuclear 21, pseudogene</td>\n",
       "      <td>PSEUDO</td>\n",
       "      <td>NCBI Ortholog</td>\n",
       "      <td>&lt;AGCTTAGCACAGTGGCAGTATCATAGGCAGTGAGGTTTATCCGAG...</td>\n",
       "    </tr>\n",
       "    <tr>\n",
       "      <th>1</th>\n",
       "      <td>1</td>\n",
       "      <td>123477792</td>\n",
       "      <td>LOC123477792</td>\n",
       "      <td>Sharpr-MPRA regulatory region 12926</td>\n",
       "      <td>BIOLOGICAL_REGION</td>\n",
       "      <td>NCBI Ortholog</td>\n",
       "      <td>&lt;CTGGAGCGGCCACGATGTGAACTGTCACCGGCCACTGCTGCTCCG...</td>\n",
       "    </tr>\n",
       "    <tr>\n",
       "      <th>2</th>\n",
       "      <td>2</td>\n",
       "      <td>113174975</td>\n",
       "      <td>LOC113174975</td>\n",
       "      <td>Sharpr-MPRA regulatory region 7591</td>\n",
       "      <td>BIOLOGICAL_REGION</td>\n",
       "      <td>NCBI Ortholog</td>\n",
       "      <td>&lt;TTCCCAATTTTTCCTCTGCTTTTTAATTTTCTAGTTTCCTTTTTC...</td>\n",
       "    </tr>\n",
       "    <tr>\n",
       "      <th>3</th>\n",
       "      <td>3</td>\n",
       "      <td>116216107</td>\n",
       "      <td>LOC116216107</td>\n",
       "      <td>CRISPRi-validated cis-regulatory element chr10...</td>\n",
       "      <td>BIOLOGICAL_REGION</td>\n",
       "      <td>NCBI Ortholog</td>\n",
       "      <td>&lt;CGCCCAGGCTGGAGTGCAGTGGCGCCATCTCGGCTCACTGCAGGC...</td>\n",
       "    </tr>\n",
       "    <tr>\n",
       "      <th>4</th>\n",
       "      <td>4</td>\n",
       "      <td>28502</td>\n",
       "      <td>IGHD2-21</td>\n",
       "      <td>immunoglobulin heavy diversity 2-21</td>\n",
       "      <td>OTHER</td>\n",
       "      <td>NCBI Ortholog</td>\n",
       "      <td>&lt;AGCATATTGTGGTGGTGACTGCTATTCC&gt;</td>\n",
       "    </tr>\n",
       "  </tbody>\n",
       "</table>\n",
       "</div>\n",
       "    <div class=\"colab-df-buttons\">\n",
       "\n",
       "  <div class=\"colab-df-container\">\n",
       "    <button class=\"colab-df-convert\" onclick=\"convertToInteractive('df-42658cd6-df75-467d-8343-8eee5d85ca40')\"\n",
       "            title=\"Convert this dataframe to an interactive table.\"\n",
       "            style=\"display:none;\">\n",
       "\n",
       "  <svg xmlns=\"http://www.w3.org/2000/svg\" height=\"24px\" viewBox=\"0 -960 960 960\">\n",
       "    <path d=\"M120-120v-720h720v720H120Zm60-500h600v-160H180v160Zm220 220h160v-160H400v160Zm0 220h160v-160H400v160ZM180-400h160v-160H180v160Zm440 0h160v-160H620v160ZM180-180h160v-160H180v160Zm440 0h160v-160H620v160Z\"/>\n",
       "  </svg>\n",
       "    </button>\n",
       "\n",
       "  <style>\n",
       "    .colab-df-container {\n",
       "      display:flex;\n",
       "      gap: 12px;\n",
       "    }\n",
       "\n",
       "    .colab-df-convert {\n",
       "      background-color: #E8F0FE;\n",
       "      border: none;\n",
       "      border-radius: 50%;\n",
       "      cursor: pointer;\n",
       "      display: none;\n",
       "      fill: #1967D2;\n",
       "      height: 32px;\n",
       "      padding: 0 0 0 0;\n",
       "      width: 32px;\n",
       "    }\n",
       "\n",
       "    .colab-df-convert:hover {\n",
       "      background-color: #E2EBFA;\n",
       "      box-shadow: 0px 1px 2px rgba(60, 64, 67, 0.3), 0px 1px 3px 1px rgba(60, 64, 67, 0.15);\n",
       "      fill: #174EA6;\n",
       "    }\n",
       "\n",
       "    .colab-df-buttons div {\n",
       "      margin-bottom: 4px;\n",
       "    }\n",
       "\n",
       "    [theme=dark] .colab-df-convert {\n",
       "      background-color: #3B4455;\n",
       "      fill: #D2E3FC;\n",
       "    }\n",
       "\n",
       "    [theme=dark] .colab-df-convert:hover {\n",
       "      background-color: #434B5C;\n",
       "      box-shadow: 0px 1px 3px 1px rgba(0, 0, 0, 0.15);\n",
       "      filter: drop-shadow(0px 1px 2px rgba(0, 0, 0, 0.3));\n",
       "      fill: #FFFFFF;\n",
       "    }\n",
       "  </style>\n",
       "\n",
       "    <script>\n",
       "      const buttonEl =\n",
       "        document.querySelector('#df-42658cd6-df75-467d-8343-8eee5d85ca40 button.colab-df-convert');\n",
       "      buttonEl.style.display =\n",
       "        google.colab.kernel.accessAllowed ? 'block' : 'none';\n",
       "\n",
       "      async function convertToInteractive(key) {\n",
       "        const element = document.querySelector('#df-42658cd6-df75-467d-8343-8eee5d85ca40');\n",
       "        const dataTable =\n",
       "          await google.colab.kernel.invokeFunction('convertToInteractive',\n",
       "                                                    [key], {});\n",
       "        if (!dataTable) return;\n",
       "\n",
       "        const docLinkHtml = 'Like what you see? Visit the ' +\n",
       "          '<a target=\"_blank\" href=https://colab.research.google.com/notebooks/data_table.ipynb>data table notebook</a>'\n",
       "          + ' to learn more about interactive tables.';\n",
       "        element.innerHTML = '';\n",
       "        dataTable['output_type'] = 'display_data';\n",
       "        await google.colab.output.renderOutput(dataTable, element);\n",
       "        const docLink = document.createElement('div');\n",
       "        docLink.innerHTML = docLinkHtml;\n",
       "        element.appendChild(docLink);\n",
       "      }\n",
       "    </script>\n",
       "  </div>\n",
       "\n",
       "\n",
       "    <div id=\"df-f49f0416-152a-4b29-8342-4fd5c6507856\">\n",
       "      <button class=\"colab-df-quickchart\" onclick=\"quickchart('df-f49f0416-152a-4b29-8342-4fd5c6507856')\"\n",
       "                title=\"Suggest charts\"\n",
       "                style=\"display:none;\">\n",
       "\n",
       "<svg xmlns=\"http://www.w3.org/2000/svg\" height=\"24px\"viewBox=\"0 0 24 24\"\n",
       "     width=\"24px\">\n",
       "    <g>\n",
       "        <path d=\"M19 3H5c-1.1 0-2 .9-2 2v14c0 1.1.9 2 2 2h14c1.1 0 2-.9 2-2V5c0-1.1-.9-2-2-2zM9 17H7v-7h2v7zm4 0h-2V7h2v10zm4 0h-2v-4h2v4z\"/>\n",
       "    </g>\n",
       "</svg>\n",
       "      </button>\n",
       "\n",
       "<style>\n",
       "  .colab-df-quickchart {\n",
       "      --bg-color: #E8F0FE;\n",
       "      --fill-color: #1967D2;\n",
       "      --hover-bg-color: #E2EBFA;\n",
       "      --hover-fill-color: #174EA6;\n",
       "      --disabled-fill-color: #AAA;\n",
       "      --disabled-bg-color: #DDD;\n",
       "  }\n",
       "\n",
       "  [theme=dark] .colab-df-quickchart {\n",
       "      --bg-color: #3B4455;\n",
       "      --fill-color: #D2E3FC;\n",
       "      --hover-bg-color: #434B5C;\n",
       "      --hover-fill-color: #FFFFFF;\n",
       "      --disabled-bg-color: #3B4455;\n",
       "      --disabled-fill-color: #666;\n",
       "  }\n",
       "\n",
       "  .colab-df-quickchart {\n",
       "    background-color: var(--bg-color);\n",
       "    border: none;\n",
       "    border-radius: 50%;\n",
       "    cursor: pointer;\n",
       "    display: none;\n",
       "    fill: var(--fill-color);\n",
       "    height: 32px;\n",
       "    padding: 0;\n",
       "    width: 32px;\n",
       "  }\n",
       "\n",
       "  .colab-df-quickchart:hover {\n",
       "    background-color: var(--hover-bg-color);\n",
       "    box-shadow: 0 1px 2px rgba(60, 64, 67, 0.3), 0 1px 3px 1px rgba(60, 64, 67, 0.15);\n",
       "    fill: var(--button-hover-fill-color);\n",
       "  }\n",
       "\n",
       "  .colab-df-quickchart-complete:disabled,\n",
       "  .colab-df-quickchart-complete:disabled:hover {\n",
       "    background-color: var(--disabled-bg-color);\n",
       "    fill: var(--disabled-fill-color);\n",
       "    box-shadow: none;\n",
       "  }\n",
       "\n",
       "  .colab-df-spinner {\n",
       "    border: 2px solid var(--fill-color);\n",
       "    border-color: transparent;\n",
       "    border-bottom-color: var(--fill-color);\n",
       "    animation:\n",
       "      spin 1s steps(1) infinite;\n",
       "  }\n",
       "\n",
       "  @keyframes spin {\n",
       "    0% {\n",
       "      border-color: transparent;\n",
       "      border-bottom-color: var(--fill-color);\n",
       "      border-left-color: var(--fill-color);\n",
       "    }\n",
       "    20% {\n",
       "      border-color: transparent;\n",
       "      border-left-color: var(--fill-color);\n",
       "      border-top-color: var(--fill-color);\n",
       "    }\n",
       "    30% {\n",
       "      border-color: transparent;\n",
       "      border-left-color: var(--fill-color);\n",
       "      border-top-color: var(--fill-color);\n",
       "      border-right-color: var(--fill-color);\n",
       "    }\n",
       "    40% {\n",
       "      border-color: transparent;\n",
       "      border-right-color: var(--fill-color);\n",
       "      border-top-color: var(--fill-color);\n",
       "    }\n",
       "    60% {\n",
       "      border-color: transparent;\n",
       "      border-right-color: var(--fill-color);\n",
       "    }\n",
       "    80% {\n",
       "      border-color: transparent;\n",
       "      border-right-color: var(--fill-color);\n",
       "      border-bottom-color: var(--fill-color);\n",
       "    }\n",
       "    90% {\n",
       "      border-color: transparent;\n",
       "      border-bottom-color: var(--fill-color);\n",
       "    }\n",
       "  }\n",
       "</style>\n",
       "\n",
       "      <script>\n",
       "        async function quickchart(key) {\n",
       "          const quickchartButtonEl =\n",
       "            document.querySelector('#' + key + ' button');\n",
       "          quickchartButtonEl.disabled = true;  // To prevent multiple clicks.\n",
       "          quickchartButtonEl.classList.add('colab-df-spinner');\n",
       "          try {\n",
       "            const charts = await google.colab.kernel.invokeFunction(\n",
       "                'suggestCharts', [key], {});\n",
       "          } catch (error) {\n",
       "            console.error('Error during call to suggestCharts:', error);\n",
       "          }\n",
       "          quickchartButtonEl.classList.remove('colab-df-spinner');\n",
       "          quickchartButtonEl.classList.add('colab-df-quickchart-complete');\n",
       "        }\n",
       "        (() => {\n",
       "          let quickchartButtonEl =\n",
       "            document.querySelector('#df-f49f0416-152a-4b29-8342-4fd5c6507856 button');\n",
       "          quickchartButtonEl.style.display =\n",
       "            google.colab.kernel.accessAllowed ? 'block' : 'none';\n",
       "        })();\n",
       "      </script>\n",
       "    </div>\n",
       "\n",
       "    </div>\n",
       "  </div>\n"
      ],
      "text/plain": [
       "   Unnamed: 0  NCBIGeneID        Symbol  \\\n",
       "0           0   106481178      RNU4-21P   \n",
       "1           1   123477792  LOC123477792   \n",
       "2           2   113174975  LOC113174975   \n",
       "3           3   116216107  LOC116216107   \n",
       "4           4       28502      IGHD2-21   \n",
       "\n",
       "                                         Description           GeneType  \\\n",
       "0               RNA, U4 small nuclear 21, pseudogene             PSEUDO   \n",
       "1                Sharpr-MPRA regulatory region 12926  BIOLOGICAL_REGION   \n",
       "2                 Sharpr-MPRA regulatory region 7591  BIOLOGICAL_REGION   \n",
       "3  CRISPRi-validated cis-regulatory element chr10...  BIOLOGICAL_REGION   \n",
       "4                immunoglobulin heavy diversity 2-21              OTHER   \n",
       "\n",
       "  GeneGroupMethod                                 NucleotideSequence  \n",
       "0   NCBI Ortholog  <AGCTTAGCACAGTGGCAGTATCATAGGCAGTGAGGTTTATCCGAG...  \n",
       "1   NCBI Ortholog  <CTGGAGCGGCCACGATGTGAACTGTCACCGGCCACTGCTGCTCCG...  \n",
       "2   NCBI Ortholog  <TTCCCAATTTTTCCTCTGCTTTTTAATTTTCTAGTTTCCTTTTTC...  \n",
       "3   NCBI Ortholog  <CGCCCAGGCTGGAGTGCAGTGGCGCCATCTCGGCTCACTGCAGGC...  \n",
       "4   NCBI Ortholog                     <AGCATATTGTGGTGGTGACTGCTATTCC>  "
      ]
     },
     "execution_count": 5,
     "metadata": {},
     "output_type": "execute_result"
    }
   ],
   "source": [
    "#dump first five raws on screen\n",
    "train_df.head()"
   ]
  },
  {
   "cell_type": "code",
   "execution_count": 6,
   "id": "BACHfk-T6AYh",
   "metadata": {
    "colab": {
     "base_uri": "https://localhost:8080/",
     "height": 238
    },
    "executionInfo": {
     "elapsed": 58,
     "status": "ok",
     "timestamp": 1759566324290,
     "user": {
      "displayName": "Anna Braghetto",
      "userId": "08361497697639421184"
     },
     "user_tz": -120
    },
    "id": "BACHfk-T6AYh",
    "outputId": "d86739f2-08c0-495e-8e35-f35fe74b48b6"
   },
   "outputs": [
    {
     "data": {
      "application/vnd.google.colaboratory.intrinsic+json": {
       "summary": "{\n  \"name\": \"train_df\",\n  \"rows\": 22593,\n  \"fields\": [\n    {\n      \"column\": \"GeneType\",\n      \"properties\": {\n        \"dtype\": \"category\",\n        \"num_unique_values\": 10,\n        \"samples\": [\n          \"scRNA\",\n          \"BIOLOGICAL_REGION\",\n          \"ncRNA\"\n        ],\n        \"semantic_type\": \"\",\n        \"description\": \"\"\n      }\n    },\n    {\n      \"column\": \"NucleotideSequence\",\n      \"properties\": {\n        \"dtype\": \"string\",\n        \"num_unique_values\": 21884,\n        \"samples\": [\n          \"<GGCTTCGTGGCTTAGCTGGTTAAAGCGCCTGTCTAGTAAACAGGAGATCCTGGGTTCGAATCCCAGCGAGGCCT>\",\n          \"<TGTCCTCTAGCACCTCTCTCTATCCCTCCCTCCCCGTCCCCCCGCCCCACTCCCCCAGCTCTGGGAGCGCATGCGGGGGCGGGGTCCTAGGAGGATGTGAGCCCATGGACACGCGGGCGGGATGTTTTTCTCCTCGTCATTGTTCTCCCATGCCCATTGTGTGCGCTGAGAGCAGCACGTCACCAAGTCGCCTGGCAGGCTCTCAGCAGAGCTGGGGAATGTTTCCGGAGTGGACTAATCCATTATGAATGGCCGAAACTTTTTAAAAGCTCTGGCGTTTCTTTGCATGGCCAGA>\",\n          \"<CCTGAGCTGCAGGAGGAGAGCCTGCAGGCCTCCTGGGTGAAACTGCACCTTCACGATAATGGGAATGGGAGCAGTGTTTCAGCCTCAGCTTCTATTTAAAATGGTGACATGAAAAAAGTACTGCTGGATTTCCAGCATGAGTCCGGATAGAGATAGGTCTAAGTTCTCCCTGTGACAGCCCACCTCATTCACAGATATCATGGGATACTAATAGGGCTTCTGAAACAGAAACCCAAAGAATTCACGCAAAAAACAGCTCTCCATCTGAGCAAGATTATATCAAGAGAAAATAAAAAGTTAAAAGCATCTTTAAAAACAAAACTCAGATTAGATATAATATTGATCAAGTCCACCAGAAAATATTCCTCTAAAAAAATATTTCTCTTTAAATACCCAAAGTGCACAACTATTCTCAGCGTGAGAAACATGAGCGTTATAAAGAAACGGGACAGGCCAGTTGCGGTGGCTCATACCTGTAATCCCAGCACTT>\"\n        ],\n        \"semantic_type\": \"\",\n        \"description\": \"\"\n      }\n    }\n  ]\n}",
       "type": "dataframe",
       "variable_name": "train_df"
      },
      "text/html": [
       "\n",
       "  <div id=\"df-e2348240-f65e-453b-9232-e7d332e16427\" class=\"colab-df-container\">\n",
       "    <div>\n",
       "<style scoped>\n",
       "    .dataframe tbody tr th:only-of-type {\n",
       "        vertical-align: middle;\n",
       "    }\n",
       "\n",
       "    .dataframe tbody tr th {\n",
       "        vertical-align: top;\n",
       "    }\n",
       "\n",
       "    .dataframe thead th {\n",
       "        text-align: right;\n",
       "    }\n",
       "</style>\n",
       "<table border=\"1\" class=\"dataframe\">\n",
       "  <thead>\n",
       "    <tr style=\"text-align: right;\">\n",
       "      <th></th>\n",
       "      <th>GeneType</th>\n",
       "      <th>NucleotideSequence</th>\n",
       "    </tr>\n",
       "  </thead>\n",
       "  <tbody>\n",
       "    <tr>\n",
       "      <th>0</th>\n",
       "      <td>PSEUDO</td>\n",
       "      <td>&lt;AGCTTAGCACAGTGGCAGTATCATAGGCAGTGAGGTTTATCCGAG...</td>\n",
       "    </tr>\n",
       "    <tr>\n",
       "      <th>1</th>\n",
       "      <td>BIOLOGICAL_REGION</td>\n",
       "      <td>&lt;CTGGAGCGGCCACGATGTGAACTGTCACCGGCCACTGCTGCTCCG...</td>\n",
       "    </tr>\n",
       "    <tr>\n",
       "      <th>2</th>\n",
       "      <td>BIOLOGICAL_REGION</td>\n",
       "      <td>&lt;TTCCCAATTTTTCCTCTGCTTTTTAATTTTCTAGTTTCCTTTTTC...</td>\n",
       "    </tr>\n",
       "    <tr>\n",
       "      <th>3</th>\n",
       "      <td>BIOLOGICAL_REGION</td>\n",
       "      <td>&lt;CGCCCAGGCTGGAGTGCAGTGGCGCCATCTCGGCTCACTGCAGGC...</td>\n",
       "    </tr>\n",
       "    <tr>\n",
       "      <th>4</th>\n",
       "      <td>OTHER</td>\n",
       "      <td>&lt;AGCATATTGTGGTGGTGACTGCTATTCC&gt;</td>\n",
       "    </tr>\n",
       "  </tbody>\n",
       "</table>\n",
       "</div>\n",
       "    <div class=\"colab-df-buttons\">\n",
       "\n",
       "  <div class=\"colab-df-container\">\n",
       "    <button class=\"colab-df-convert\" onclick=\"convertToInteractive('df-e2348240-f65e-453b-9232-e7d332e16427')\"\n",
       "            title=\"Convert this dataframe to an interactive table.\"\n",
       "            style=\"display:none;\">\n",
       "\n",
       "  <svg xmlns=\"http://www.w3.org/2000/svg\" height=\"24px\" viewBox=\"0 -960 960 960\">\n",
       "    <path d=\"M120-120v-720h720v720H120Zm60-500h600v-160H180v160Zm220 220h160v-160H400v160Zm0 220h160v-160H400v160ZM180-400h160v-160H180v160Zm440 0h160v-160H620v160ZM180-180h160v-160H180v160Zm440 0h160v-160H620v160Z\"/>\n",
       "  </svg>\n",
       "    </button>\n",
       "\n",
       "  <style>\n",
       "    .colab-df-container {\n",
       "      display:flex;\n",
       "      gap: 12px;\n",
       "    }\n",
       "\n",
       "    .colab-df-convert {\n",
       "      background-color: #E8F0FE;\n",
       "      border: none;\n",
       "      border-radius: 50%;\n",
       "      cursor: pointer;\n",
       "      display: none;\n",
       "      fill: #1967D2;\n",
       "      height: 32px;\n",
       "      padding: 0 0 0 0;\n",
       "      width: 32px;\n",
       "    }\n",
       "\n",
       "    .colab-df-convert:hover {\n",
       "      background-color: #E2EBFA;\n",
       "      box-shadow: 0px 1px 2px rgba(60, 64, 67, 0.3), 0px 1px 3px 1px rgba(60, 64, 67, 0.15);\n",
       "      fill: #174EA6;\n",
       "    }\n",
       "\n",
       "    .colab-df-buttons div {\n",
       "      margin-bottom: 4px;\n",
       "    }\n",
       "\n",
       "    [theme=dark] .colab-df-convert {\n",
       "      background-color: #3B4455;\n",
       "      fill: #D2E3FC;\n",
       "    }\n",
       "\n",
       "    [theme=dark] .colab-df-convert:hover {\n",
       "      background-color: #434B5C;\n",
       "      box-shadow: 0px 1px 3px 1px rgba(0, 0, 0, 0.15);\n",
       "      filter: drop-shadow(0px 1px 2px rgba(0, 0, 0, 0.3));\n",
       "      fill: #FFFFFF;\n",
       "    }\n",
       "  </style>\n",
       "\n",
       "    <script>\n",
       "      const buttonEl =\n",
       "        document.querySelector('#df-e2348240-f65e-453b-9232-e7d332e16427 button.colab-df-convert');\n",
       "      buttonEl.style.display =\n",
       "        google.colab.kernel.accessAllowed ? 'block' : 'none';\n",
       "\n",
       "      async function convertToInteractive(key) {\n",
       "        const element = document.querySelector('#df-e2348240-f65e-453b-9232-e7d332e16427');\n",
       "        const dataTable =\n",
       "          await google.colab.kernel.invokeFunction('convertToInteractive',\n",
       "                                                    [key], {});\n",
       "        if (!dataTable) return;\n",
       "\n",
       "        const docLinkHtml = 'Like what you see? Visit the ' +\n",
       "          '<a target=\"_blank\" href=https://colab.research.google.com/notebooks/data_table.ipynb>data table notebook</a>'\n",
       "          + ' to learn more about interactive tables.';\n",
       "        element.innerHTML = '';\n",
       "        dataTable['output_type'] = 'display_data';\n",
       "        await google.colab.output.renderOutput(dataTable, element);\n",
       "        const docLink = document.createElement('div');\n",
       "        docLink.innerHTML = docLinkHtml;\n",
       "        element.appendChild(docLink);\n",
       "      }\n",
       "    </script>\n",
       "  </div>\n",
       "\n",
       "\n",
       "    <div id=\"df-d1e63f03-63c2-4d41-94fd-fc9833405ed1\">\n",
       "      <button class=\"colab-df-quickchart\" onclick=\"quickchart('df-d1e63f03-63c2-4d41-94fd-fc9833405ed1')\"\n",
       "                title=\"Suggest charts\"\n",
       "                style=\"display:none;\">\n",
       "\n",
       "<svg xmlns=\"http://www.w3.org/2000/svg\" height=\"24px\"viewBox=\"0 0 24 24\"\n",
       "     width=\"24px\">\n",
       "    <g>\n",
       "        <path d=\"M19 3H5c-1.1 0-2 .9-2 2v14c0 1.1.9 2 2 2h14c1.1 0 2-.9 2-2V5c0-1.1-.9-2-2-2zM9 17H7v-7h2v7zm4 0h-2V7h2v10zm4 0h-2v-4h2v4z\"/>\n",
       "    </g>\n",
       "</svg>\n",
       "      </button>\n",
       "\n",
       "<style>\n",
       "  .colab-df-quickchart {\n",
       "      --bg-color: #E8F0FE;\n",
       "      --fill-color: #1967D2;\n",
       "      --hover-bg-color: #E2EBFA;\n",
       "      --hover-fill-color: #174EA6;\n",
       "      --disabled-fill-color: #AAA;\n",
       "      --disabled-bg-color: #DDD;\n",
       "  }\n",
       "\n",
       "  [theme=dark] .colab-df-quickchart {\n",
       "      --bg-color: #3B4455;\n",
       "      --fill-color: #D2E3FC;\n",
       "      --hover-bg-color: #434B5C;\n",
       "      --hover-fill-color: #FFFFFF;\n",
       "      --disabled-bg-color: #3B4455;\n",
       "      --disabled-fill-color: #666;\n",
       "  }\n",
       "\n",
       "  .colab-df-quickchart {\n",
       "    background-color: var(--bg-color);\n",
       "    border: none;\n",
       "    border-radius: 50%;\n",
       "    cursor: pointer;\n",
       "    display: none;\n",
       "    fill: var(--fill-color);\n",
       "    height: 32px;\n",
       "    padding: 0;\n",
       "    width: 32px;\n",
       "  }\n",
       "\n",
       "  .colab-df-quickchart:hover {\n",
       "    background-color: var(--hover-bg-color);\n",
       "    box-shadow: 0 1px 2px rgba(60, 64, 67, 0.3), 0 1px 3px 1px rgba(60, 64, 67, 0.15);\n",
       "    fill: var(--button-hover-fill-color);\n",
       "  }\n",
       "\n",
       "  .colab-df-quickchart-complete:disabled,\n",
       "  .colab-df-quickchart-complete:disabled:hover {\n",
       "    background-color: var(--disabled-bg-color);\n",
       "    fill: var(--disabled-fill-color);\n",
       "    box-shadow: none;\n",
       "  }\n",
       "\n",
       "  .colab-df-spinner {\n",
       "    border: 2px solid var(--fill-color);\n",
       "    border-color: transparent;\n",
       "    border-bottom-color: var(--fill-color);\n",
       "    animation:\n",
       "      spin 1s steps(1) infinite;\n",
       "  }\n",
       "\n",
       "  @keyframes spin {\n",
       "    0% {\n",
       "      border-color: transparent;\n",
       "      border-bottom-color: var(--fill-color);\n",
       "      border-left-color: var(--fill-color);\n",
       "    }\n",
       "    20% {\n",
       "      border-color: transparent;\n",
       "      border-left-color: var(--fill-color);\n",
       "      border-top-color: var(--fill-color);\n",
       "    }\n",
       "    30% {\n",
       "      border-color: transparent;\n",
       "      border-left-color: var(--fill-color);\n",
       "      border-top-color: var(--fill-color);\n",
       "      border-right-color: var(--fill-color);\n",
       "    }\n",
       "    40% {\n",
       "      border-color: transparent;\n",
       "      border-right-color: var(--fill-color);\n",
       "      border-top-color: var(--fill-color);\n",
       "    }\n",
       "    60% {\n",
       "      border-color: transparent;\n",
       "      border-right-color: var(--fill-color);\n",
       "    }\n",
       "    80% {\n",
       "      border-color: transparent;\n",
       "      border-right-color: var(--fill-color);\n",
       "      border-bottom-color: var(--fill-color);\n",
       "    }\n",
       "    90% {\n",
       "      border-color: transparent;\n",
       "      border-bottom-color: var(--fill-color);\n",
       "    }\n",
       "  }\n",
       "</style>\n",
       "\n",
       "      <script>\n",
       "        async function quickchart(key) {\n",
       "          const quickchartButtonEl =\n",
       "            document.querySelector('#' + key + ' button');\n",
       "          quickchartButtonEl.disabled = true;  // To prevent multiple clicks.\n",
       "          quickchartButtonEl.classList.add('colab-df-spinner');\n",
       "          try {\n",
       "            const charts = await google.colab.kernel.invokeFunction(\n",
       "                'suggestCharts', [key], {});\n",
       "          } catch (error) {\n",
       "            console.error('Error during call to suggestCharts:', error);\n",
       "          }\n",
       "          quickchartButtonEl.classList.remove('colab-df-spinner');\n",
       "          quickchartButtonEl.classList.add('colab-df-quickchart-complete');\n",
       "        }\n",
       "        (() => {\n",
       "          let quickchartButtonEl =\n",
       "            document.querySelector('#df-d1e63f03-63c2-4d41-94fd-fc9833405ed1 button');\n",
       "          quickchartButtonEl.style.display =\n",
       "            google.colab.kernel.accessAllowed ? 'block' : 'none';\n",
       "        })();\n",
       "      </script>\n",
       "    </div>\n",
       "\n",
       "    </div>\n",
       "  </div>\n"
      ],
      "text/plain": [
       "            GeneType                                 NucleotideSequence\n",
       "0             PSEUDO  <AGCTTAGCACAGTGGCAGTATCATAGGCAGTGAGGTTTATCCGAG...\n",
       "1  BIOLOGICAL_REGION  <CTGGAGCGGCCACGATGTGAACTGTCACCGGCCACTGCTGCTCCG...\n",
       "2  BIOLOGICAL_REGION  <TTCCCAATTTTTCCTCTGCTTTTTAATTTTCTAGTTTCCTTTTTC...\n",
       "3  BIOLOGICAL_REGION  <CGCCCAGGCTGGAGTGCAGTGGCGCCATCTCGGCTCACTGCAGGC...\n",
       "4              OTHER                     <AGCATATTGTGGTGGTGACTGCTATTCC>"
      ]
     },
     "execution_count": 6,
     "metadata": {},
     "output_type": "execute_result"
    }
   ],
   "source": [
    "#remove useless columns\n",
    "train_df = train_df.drop(['Unnamed: 0'], axis=1)\n",
    "train_df = train_df.drop(['NCBIGeneID'], axis=1)\n",
    "train_df = train_df.drop(['Symbol'], axis=1)\n",
    "train_df = train_df.drop(['Description'], axis=1)\n",
    "train_df = train_df.drop(['GeneGroupMethod'], axis=1)\n",
    "val_df = val_df.drop(['Unnamed: 0'], axis=1)\n",
    "val_df = val_df.drop(['NCBIGeneID'], axis=1)\n",
    "val_df = val_df.drop(['Symbol'], axis=1)\n",
    "val_df = val_df.drop(['Description'], axis=1)\n",
    "val_df = val_df.drop(['GeneGroupMethod'], axis=1)\n",
    "test_df = test_df.drop(['Unnamed: 0'], axis=1)\n",
    "test_df = test_df.drop(['NCBIGeneID'], axis=1)\n",
    "test_df = test_df.drop(['Symbol'], axis=1)\n",
    "test_df = test_df.drop(['Description'], axis=1)\n",
    "test_df = test_df.drop(['GeneGroupMethod'], axis=1)\n",
    "\n",
    "\n",
    "#dump first five raws on screen\n",
    "train_df.head()"
   ]
  },
  {
   "cell_type": "code",
   "execution_count": 7,
   "id": "2819c9a5",
   "metadata": {
    "executionInfo": {
     "elapsed": 4,
     "status": "ok",
     "timestamp": 1759566327256,
     "user": {
      "displayName": "Anna Braghetto",
      "userId": "08361497697639421184"
     },
     "user_tz": -120
    },
    "id": "2819c9a5"
   },
   "outputs": [],
   "source": [
    "#remove < and >\n",
    "\n",
    "train_df['NucleotideSequence'] = train_df['NucleotideSequence'].str.strip('<>')\n",
    "val_df['NucleotideSequence'] = val_df['NucleotideSequence'].str.strip('<>')\n",
    "test_df['NucleotideSequence'] = test_df['NucleotideSequence'].str.strip('<>')"
   ]
  },
  {
   "cell_type": "markdown",
   "id": "5b808c90",
   "metadata": {
    "id": "5b808c90"
   },
   "source": [
    "## EDA"
   ]
  },
  {
   "cell_type": "code",
   "execution_count": 8,
   "id": "a6539800",
   "metadata": {
    "executionInfo": {
     "elapsed": 382,
     "status": "ok",
     "timestamp": 1759566328089,
     "user": {
      "displayName": "Anna Braghetto",
      "userId": "08361497697639421184"
     },
     "user_tz": -120
    },
    "id": "a6539800"
   },
   "outputs": [],
   "source": [
    "#define seq eda object\n",
    "seq_eda = SequenceEDA(train_df, 'NucleotideSequence', 'GeneType')"
   ]
  },
  {
   "cell_type": "code",
   "execution_count": 9,
   "id": "7473c327",
   "metadata": {
    "colab": {
     "base_uri": "https://localhost:8080/",
     "height": 407
    },
    "executionInfo": {
     "elapsed": 795,
     "status": "ok",
     "timestamp": 1759566328897,
     "user": {
      "displayName": "Anna Braghetto",
      "userId": "08361497697639421184"
     },
     "user_tz": -120
    },
    "id": "7473c327",
    "outputId": "8b2102e5-d23d-42c7-d094-817a4ca11bc7"
   },
   "outputs": [
    {
     "data": {
      "image/png": "[encoded data removed]",
      "text/plain": [
       "<Figure size 600x400 with 1 Axes>"
      ]
     },
     "metadata": {},
     "output_type": "display_data"
    }
   ],
   "source": [
    "seq_eda.plot_nucleotide_frequencies()"
   ]
  },
  {
   "cell_type": "markdown",
   "id": "2ec5e632",
   "metadata": {
    "id": "2ec5e632"
   },
   "source": [
    "The overall distribution of nucleotide frequencies appears relatively flat, with no individual nucleotide showing a dominant prevalence across the dataset. This uniformity suggests an absence of strong compositional biases within the sequences and provides limited biological insight into the underlying structure or function of the nucleotide regions. In particular, the lack of distinctive patterns or enrichment in specific bases implies that the sequences, when considered globally, may not reflect highly specialized motifs or conserved regions typically associated with particular biological roles."
   ]
  },
  {
   "cell_type": "code",
   "execution_count": 10,
   "id": "fdb85843",
   "metadata": {
    "colab": {
     "base_uri": "https://localhost:8080/",
     "height": 997
    },
    "executionInfo": {
     "elapsed": 1079,
     "status": "ok",
     "timestamp": 1759566329979,
     "user": {
      "displayName": "Anna Braghetto",
      "userId": "08361497697639421184"
     },
     "user_tz": -120
    },
    "id": "fdb85843",
    "outputId": "dae44497-b646-4180-851e-1c797acca1d8"
   },
   "outputs": [
    {
     "data": {
      "image/png": "[encoded data removed]",
      "text/plain": [
       "<Figure size 1000x500 with 1 Axes>"
      ]
     },
     "metadata": {},
     "output_type": "display_data"
    },
    {
     "data": {
      "image/png": "[encoded data removed]",
      "text/plain": [
       "<Figure size 1200x500 with 1 Axes>"
      ]
     },
     "metadata": {},
     "output_type": "display_data"
    }
   ],
   "source": [
    "seq_eda.plot_sequence_length_distribution()"
   ]
  },
  {
   "cell_type": "markdown",
   "id": "C76-r0o9QhN7",
   "metadata": {
    "id": "C76-r0o9QhN7"
   },
   "source": [
    "The distribution of nucleotide sequence lengths is heterogeneous, with a prominent peak around 284 nucleotides. Most gene types exhibit relatively well-defined and consistent sequence lengths, suggesting a degree of structural uniformity within those categories. However, the gene type labeled as biological region shows considerable variability, characterized by a wide range of lengths and a significant number of outliers. This indicates that biological region may encompass a more diverse set of genomic elements, possibly including regulatory regions, enhancers, or non-coding sequences with less constrained structural requirements."
   ]
  },
  {
   "cell_type": "markdown",
   "id": "1b3f4205",
   "metadata": {
    "id": "1b3f4205"
   },
   "source": [
    "## Prediction"
   ]
  },
  {
   "cell_type": "code",
   "execution_count": 11,
   "id": "c166d35a",
   "metadata": {
    "executionInfo": {
     "elapsed": 3,
     "status": "ok",
     "timestamp": 1759566329985,
     "user": {
      "displayName": "Anna Braghetto",
      "userId": "08361497697639421184"
     },
     "user_tz": -120
    },
    "id": "c166d35a"
   },
   "outputs": [],
   "source": [
    "#build object for preprocessing\n",
    "train_prepro = SequencePreprocess(train_df)\n",
    "valid_prepro = SequencePreprocess(val_df)\n",
    "test_prepro = SequencePreprocess(test_df)"
   ]
  },
  {
   "cell_type": "markdown",
   "id": "3f5a735a",
   "metadata": {
    "id": "3f5a735a"
   },
   "source": [
    "### Tokenization"
   ]
  },
  {
   "cell_type": "code",
   "execution_count": 12,
   "id": "e17b2d25",
   "metadata": {
    "colab": {
     "base_uri": "https://localhost:8080/"
    },
    "executionInfo": {
     "elapsed": 1617,
     "status": "ok",
     "timestamp": 1759566332166,
     "user": {
      "displayName": "Anna Braghetto",
      "userId": "08361497697639421184"
     },
     "user_tz": -120
    },
    "id": "e17b2d25",
    "outputId": "da38bef1-71e1-4a7d-d4c9-fd8badaaf389"
   },
   "outputs": [
    {
     "name": "stdout",
     "output_type": "stream",
     "text": [
      "['AGCTTA', 'GCTTAG', 'CTTAGC', 'TTAGCA', 'TAGCAC', 'AGCACA', 'GCACAG', 'CACAGT', 'ACAGTG', 'CAGTGG', 'AGTGGC', 'GTGGCA', 'TGGCAG', 'GGCAGT', 'GCAGTA', 'CAGTAT', 'AGTATC', 'GTATCA', 'TATCAT', 'ATCATA', 'TCATAG', 'CATAGG', 'ATAGGC', 'TAGGCA', 'AGGCAG', 'GGCAGT', 'GCAGTG', 'CAGTGA', 'AGTGAG', 'GTGAGG', 'TGAGGT', 'GAGGTT', 'AGGTTT', 'GGTTTA', 'GTTTAT', 'TTTATC', 'TTATCC', 'TATCCG', 'ATCCGA', 'TCCGAG', 'CCGAGG', 'CGAGGC', 'GAGGCG', 'AGGCGT', 'GGCGTG', 'GCGTGA', 'CGTGAT', 'GTGATT', 'TGATTA', 'GATTAT', 'ATTATT', 'TTATTG', 'TATTGC', 'ATTGCC', 'TTGCCA', 'TGCCAA', 'GCCAAT', 'CCAATT', 'CAATTG', 'AATTGA', 'ATTGAA', 'TTGAAA', 'TGAAAA', 'GAAAAC', 'AAAACT', 'AAACTT', 'AACTTT', 'ACTTTT', 'CTTTTC', 'TTTTCT', 'TTTCTC', 'TTCTCG', 'TCTCGA', 'CTCGAT', 'TCGATA', 'CGATAC', 'GATACC', 'ATACCC', 'TACCCT', 'ACCCTT', 'CCCTTC', 'CCTTCT', 'CTTCTG', 'TTCTGT', 'TCTGTG', 'CTGTGA', 'TGTGAT', 'GTGATG', 'TGATGA', 'GATGAC', 'ATGACT', 'TGACTT', 'GACTTG', 'ACTTGC', 'CTTGCA', 'TTGCAA', 'TGCAAT', 'GCAATG', 'CAATGT', 'AATGTA', 'ATGTAG', 'TGTAGT', 'GTAGTC', 'TAGTCA', 'AGTCAG', 'GTCAGC', 'TCAGCA', 'CAGCAT', 'AGCATT', 'GCATTG', 'CATTGG', 'ATTGGC', 'TTGGCA', 'TGGCAA', 'GGCAAG', 'GCAAGG', 'CAAGGT', 'AAGGTT', 'AGGTTT', 'GGTTTT', 'GTTTTT']\n"
     ]
    }
   ],
   "source": [
    "#tokenize the sequences with k-mers\n",
    "train_prepro.tokenize('NucleotideSequence')\n",
    "valid_prepro.tokenize('NucleotideSequence')\n",
    "test_prepro.tokenize('NucleotideSequence')\n",
    "\n",
    "#print one sample on screen\n",
    "print(train_prepro.tokens[0])"
   ]
  },
  {
   "cell_type": "markdown",
   "id": "da1467b5",
   "metadata": {
    "id": "da1467b5"
   },
   "source": [
    "### Encoding"
   ]
  },
  {
   "cell_type": "code",
   "execution_count": 13,
   "id": "0636565b",
   "metadata": {
    "colab": {
     "base_uri": "https://localhost:8080/"
    },
    "executionInfo": {
     "elapsed": 702,
     "status": "ok",
     "timestamp": 1759566332871,
     "user": {
      "displayName": "Anna Braghetto",
      "userId": "08361497697639421184"
     },
     "user_tz": -120
    },
    "id": "0636565b",
    "outputId": "8825cfbe-ec42-49d7-aab4-21518a1436d6"
   },
   "outputs": [
    {
     "name": "stdout",
     "output_type": "stream",
     "text": [
      "[637, 2547, 1994, 3877, 3218, 581, 2323, 1100, 303, 1211, 746, 2981, 3731, 2636, 2349, 1204, 718, 2869, 3284, 845, 3379, 1227, 810, 3237, 659, 2636, 2351, 1209, 739, 2955, 3628, 2224, 704, 2813, 3060, 4046, 3894, 3287, 857, 3427, 1419, 1578, 2215, 668, 2671, 2489, 1764, 2960, 3645, 2292, 976, 3903, 3322, 998, 3989, 3665, 2372, 1296, 1087, 249, 993, 3969, 3585, 2050, 8, 32, 128, 512, 2046, 4088, 4062, 3959, 3545, 1892, 3469, 1586, 2246, 790, 3160, 352, 1406, 1528, 2015, 3964, 3567, 1977, 3812, 2959, 3641, 2274, 904, 3616, 2175, 506, 2021, 3985, 3652, 2319, 1084, 237, 947, 3788, 2862, 3253, 723, 2890, 3365, 1172, 592, 2367, 1275, 1002, 4005, 3729, 2627, 2315, 1068, 176, 704, 2816, 3072]\n"
     ]
    }
   ],
   "source": [
    "#encoding the sequences\n",
    "train_prepro.encode()\n",
    "valid_prepro.encode()\n",
    "test_prepro.encode()\n",
    "\n",
    "#print one sample on screen\n",
    "print(train_prepro.encoding[0])"
   ]
  },
  {
   "cell_type": "markdown",
   "id": "00049bdb",
   "metadata": {
    "id": "00049bdb"
   },
   "source": [
    "### Padding"
   ]
  },
  {
   "cell_type": "code",
   "execution_count": 14,
   "id": "f44353db",
   "metadata": {
    "colab": {
     "base_uri": "https://localhost:8080/"
    },
    "executionInfo": {
     "elapsed": 722,
     "status": "ok",
     "timestamp": 1759566333547,
     "user": {
      "displayName": "Anna Braghetto",
      "userId": "08361497697639421184"
     },
     "user_tz": -120
    },
    "id": "f44353db",
    "outputId": "d0c3e3d8-12b0-4773-c3c7-0daf30d5175b"
   },
   "outputs": [
    {
     "name": "stdout",
     "output_type": "stream",
     "text": [
      "[ 637 2547 1994 3877 3218  581 2323 1100  303 1211  746 2981 3731 2636\n",
      " 2349 1204  718 2869 3284  845 3379 1227  810 3237  659 2636 2351 1209\n",
      "  739 2955 3628 2224  704 2813 3060 4046 3894 3287  857 3427 1419 1578\n",
      " 2215  668 2671 2489 1764 2960 3645 2292  976 3903 3322  998 3989 3665\n",
      " 2372 1296 1087  249  993 3969 3585 2050    8   32  128  512 2046 4088\n",
      " 4062 3959 3545 1892 3469 1586 2246  790 3160  352 1406 1528 2015 3964\n",
      " 3567 1977 3812 2959 3641 2274  904 3616 2175  506 2021 3985 3652 2319\n",
      " 1084  237  947 3788 2862 3253  723 2890 3365 1172  592 2367 1275 1002\n",
      " 4005 3729 2627 2315 1068  176  704 2816 3072    0    0    0    0    0\n",
      "    0    0    0    0    0    0    0    0    0    0    0    0    0    0\n",
      "    0    0    0    0    0    0    0    0    0    0    0    0    0    0\n",
      "    0    0    0    0    0    0    0    0    0    0    0    0    0    0\n",
      "    0    0    0    0    0    0    0    0    0    0    0    0    0    0\n",
      "    0    0    0    0    0    0    0    0    0    0    0    0    0    0\n",
      "    0    0    0    0    0    0    0    0    0    0    0    0    0    0\n",
      "    0    0    0    0    0    0    0    0    0    0    0    0    0    0\n",
      "    0    0    0    0    0    0    0    0    0    0    0    0    0    0\n",
      "    0    0    0    0    0    0    0    0    0    0    0    0    0    0\n",
      "    0    0    0    0    0    0    0    0    0    0    0    0    0    0\n",
      "    0    0    0    0    0    0    0    0    0    0    0    0    0    0\n",
      "    0    0    0    0    0    0    0    0    0    0    0    0    0    0\n",
      "    0    0    0    0    0    0    0    0    0    0    0    0    0    0\n",
      "    0    0    0    0    0    0    0    0    0    0    0    0    0    0\n",
      "    0    0    0    0    0    0    0    0    0    0    0    0    0    0\n",
      "    0    0    0    0    0    0    0    0    0    0    0    0    0    0\n",
      "    0    0    0    0    0    0    0    0    0    0    0    0    0    0\n",
      "    0    0    0    0    0    0    0    0    0    0    0    0    0    0\n",
      "    0    0    0    0    0    0    0    0    0    0    0    0    0    0\n",
      "    0    0    0    0    0    0    0    0    0    0    0    0    0    0\n",
      "    0    0    0    0    0    0    0    0    0    0    0    0    0    0\n",
      "    0    0    0    0    0    0    0    0    0    0    0    0    0    0\n",
      "    0    0    0    0    0    0    0    0    0    0    0    0    0    0\n",
      "    0    0    0    0    0    0    0    0    0    0    0    0    0    0\n",
      "    0    0    0    0    0    0    0    0    0    0    0    0    0    0\n",
      "    0    0    0    0    0    0    0    0    0    0    0    0    0    0\n",
      "    0    0    0    0    0    0    0    0    0    0    0    0    0    0\n",
      "    0    0    0    0    0    0    0    0    0    0    0    0    0    0\n",
      "    0    0    0    0    0    0    0    0    0    0    0    0    0    0\n",
      "    0    0    0    0    0    0    0    0    0    0    0    0    0    0\n",
      "    0    0    0    0    0    0    0    0    0    0    0    0    0    0\n",
      "    0    0    0    0    0    0    0    0    0    0    0    0    0    0\n",
      "    0    0    0    0    0    0    0    0    0    0    0    0    0    0\n",
      "    0    0    0    0    0    0    0    0    0    0    0    0    0    0\n",
      "    0    0    0    0    0    0    0    0    0    0    0    0    0    0\n",
      "    0    0    0    0    0    0    0    0    0    0    0    0    0    0\n",
      "    0    0    0    0    0    0    0    0    0    0    0    0    0    0\n",
      "    0    0    0    0    0    0    0    0    0    0    0    0    0    0\n",
      "    0    0    0    0    0    0    0    0    0    0    0    0    0    0\n",
      "    0    0    0    0    0    0    0    0    0    0    0    0    0    0\n",
      "    0    0    0    0    0    0    0    0    0    0    0    0    0    0\n",
      "    0    0    0    0    0    0    0    0    0    0    0    0    0    0\n",
      "    0    0    0    0    0    0    0    0    0    0    0    0    0    0\n",
      "    0    0    0    0    0    0    0    0    0    0    0    0    0    0\n",
      "    0    0    0    0    0    0    0    0    0    0    0    0    0    0\n",
      "    0    0    0    0    0    0    0    0    0    0    0    0    0    0\n",
      "    0    0    0    0    0    0    0    0    0    0    0    0    0    0\n",
      "    0    0    0    0    0    0    0    0    0    0    0    0    0    0\n",
      "    0    0    0    0    0    0    0    0    0    0    0    0    0    0\n",
      "    0    0    0    0    0    0    0    0    0    0    0    0    0    0\n",
      "    0    0    0    0    0    0    0    0    0    0    0    0    0    0\n",
      "    0    0    0    0    0    0    0    0    0    0    0    0    0    0\n",
      "    0    0    0    0    0    0    0    0    0    0    0    0    0    0\n",
      "    0    0    0    0    0    0    0    0    0    0    0    0    0    0\n",
      "    0    0    0    0    0    0    0    0    0    0    0    0    0    0\n",
      "    0    0    0    0    0    0    0    0    0    0    0    0    0    0\n",
      "    0    0    0    0    0    0    0    0    0    0    0    0    0    0\n",
      "    0    0    0    0    0    0    0    0    0    0    0    0    0    0\n",
      "    0    0    0    0    0    0    0    0    0    0    0    0    0    0\n",
      "    0    0    0    0    0    0    0    0    0    0    0    0    0    0\n",
      "    0    0    0    0    0    0    0    0    0    0    0    0    0    0\n",
      "    0    0    0    0    0    0    0    0    0    0    0    0    0    0\n",
      "    0]\n",
      "Max sequence length: 995\n"
     ]
    }
   ],
   "source": [
    "#maximum length of dna sequence\n",
    "max_len = max(len(sublist) for sublist in train_prepro.tokens)\n",
    "\n",
    "train_prepro.pad_sequences(max_len)\n",
    "valid_prepro.pad_sequences(max_len)\n",
    "test_prepro.pad_sequences(max_len)\n",
    "\n",
    "#print one sample on screen\n",
    "print(train_prepro.padded[0])\n",
    "print('Max sequence length:', max_len)"
   ]
  },
  {
   "cell_type": "markdown",
   "id": "36b41c29",
   "metadata": {
    "id": "36b41c29"
   },
   "source": [
    "### Create y"
   ]
  },
  {
   "cell_type": "code",
   "execution_count": 15,
   "id": "7058e55c",
   "metadata": {
    "executionInfo": {
     "elapsed": 5,
     "status": "ok",
     "timestamp": 1759566333609,
     "user": {
      "displayName": "Anna Braghetto",
      "userId": "08361497697639421184"
     },
     "user_tz": -120
    },
    "id": "7058e55c"
   },
   "outputs": [],
   "source": [
    "y_train = train_prepro.create_y()\n",
    "y_val = valid_prepro.create_y()\n",
    "y_test = test_prepro.create_y()"
   ]
  },
  {
   "cell_type": "markdown",
   "id": "c2abe5ee",
   "metadata": {
    "id": "c2abe5ee"
   },
   "source": [
    "### Get training, validation and test set"
   ]
  },
  {
   "cell_type": "code",
   "execution_count": 16,
   "id": "f98a8093",
   "metadata": {
    "colab": {
     "base_uri": "https://localhost:8080/"
    },
    "executionInfo": {
     "elapsed": 38,
     "status": "ok",
     "timestamp": 1759566333655,
     "user": {
      "displayName": "Anna Braghetto",
      "userId": "08361497697639421184"
     },
     "user_tz": -120
    },
    "id": "f98a8093",
    "outputId": "e79378d5-21a6-4c6e-96cd-d96c20f59059"
   },
   "outputs": [
    {
     "name": "stdout",
     "output_type": "stream",
     "text": [
      "X_train shape: (22593, 995)\n",
      "X_val shape: (4577, 995)\n",
      "X_test shape: (8326, 995)\n"
     ]
    }
   ],
   "source": [
    "X_train = train_prepro.padded\n",
    "X_val = valid_prepro.padded\n",
    "X_test = test_prepro.padded\n",
    "print('X_train shape:', X_train.shape)\n",
    "print('X_val shape:', X_val.shape)\n",
    "print('X_test shape:', X_test.shape)"
   ]
  },
  {
   "cell_type": "markdown",
   "id": "dacfce0b",
   "metadata": {
    "id": "dacfce0b"
   },
   "source": [
    "### Transformer model"
   ]
  },
  {
   "cell_type": "code",
   "execution_count": 17,
   "id": "56ee40ed",
   "metadata": {
    "colab": {
     "base_uri": "https://localhost:8080/",
     "height": 844
    },
    "executionInfo": {
     "elapsed": 1834,
     "status": "ok",
     "timestamp": 1759566336703,
     "user": {
      "displayName": "Anna Braghetto",
      "userId": "08361497697639421184"
     },
     "user_tz": -120
    },
    "id": "56ee40ed",
    "outputId": "4990b417-d9d9-4255-a2e1-aaaac85a9d7d"
   },
   "outputs": [
    {
     "data": {
      "text/html": [
       "<pre style=\"white-space:pre;overflow-x:auto;line-height:normal;font-family:Menlo,'DejaVu Sans Mono',consolas,'Courier New',monospace\"><span style=\"font-weight: bold\">Model: \"functional\"</span>\n",
       "</pre>\n"
      ],
      "text/plain": [
       "\u001b[1mModel: \"functional\"\u001b[0m\n"
      ]
     },
     "metadata": {},
     "output_type": "display_data"
    },
    {
     "data": {
      "text/html": [
       "<pre style=\"white-space:pre;overflow-x:auto;line-height:normal;font-family:Menlo,'DejaVu Sans Mono',consolas,'Courier New',monospace\">┏━━━━━━━━━━━━━━━━━━━━━┳━━━━━━━━━━━━━━━━━━━┳━━━━━━━━━━━━┳━━━━━━━━━━━━━━━━━━━┓\n",
       "┃<span style=\"font-weight: bold\"> Layer (type)        </span>┃<span style=\"font-weight: bold\"> Output Shape      </span>┃<span style=\"font-weight: bold\">    Param # </span>┃<span style=\"font-weight: bold\"> Connected to      </span>┃\n",
       "┡━━━━━━━━━━━━━━━━━━━━━╇━━━━━━━━━━━━━━━━━━━╇━━━━━━━━━━━━╇━━━━━━━━━━━━━━━━━━━┩\n",
       "│ input_layer         │ (<span style=\"color: #00d7ff; text-decoration-color: #00d7ff\">None</span>, <span style=\"color: #00af00; text-decoration-color: #00af00\">995</span>)       │          <span style=\"color: #00af00; text-decoration-color: #00af00\">0</span> │ -                 │\n",
       "│ (<span style=\"color: #0087ff; text-decoration-color: #0087ff\">InputLayer</span>)        │                   │            │                   │\n",
       "├─────────────────────┼───────────────────┼────────────┼───────────────────┤\n",
       "│ lambda (<span style=\"color: #0087ff; text-decoration-color: #0087ff\">Lambda</span>)     │ (<span style=\"color: #00d7ff; text-decoration-color: #00d7ff\">None</span>, <span style=\"color: #00af00; text-decoration-color: #00af00\">995</span>)       │          <span style=\"color: #00af00; text-decoration-color: #00af00\">0</span> │ input_layer[<span style=\"color: #00af00; text-decoration-color: #00af00\">0</span>][<span style=\"color: #00af00; text-decoration-color: #00af00\">0</span>] │\n",
       "├─────────────────────┼───────────────────┼────────────┼───────────────────┤\n",
       "│ embedding           │ (<span style=\"color: #00d7ff; text-decoration-color: #00d7ff\">None</span>, <span style=\"color: #00af00; text-decoration-color: #00af00\">995</span>, <span style=\"color: #00af00; text-decoration-color: #00af00\">128</span>)  │    <span style=\"color: #00af00; text-decoration-color: #00af00\">524,416</span> │ input_layer[<span style=\"color: #00af00; text-decoration-color: #00af00\">0</span>][<span style=\"color: #00af00; text-decoration-color: #00af00\">0</span>] │\n",
       "│ (<span style=\"color: #0087ff; text-decoration-color: #0087ff\">Embedding</span>)         │                   │            │                   │\n",
       "├─────────────────────┼───────────────────┼────────────┼───────────────────┤\n",
       "│ lambda_1 (<span style=\"color: #0087ff; text-decoration-color: #0087ff\">Lambda</span>)   │ (<span style=\"color: #00d7ff; text-decoration-color: #00d7ff\">None</span>, <span style=\"color: #00af00; text-decoration-color: #00af00\">1</span>, <span style=\"color: #00af00; text-decoration-color: #00af00\">1</span>, <span style=\"color: #00af00; text-decoration-color: #00af00\">995</span>) │          <span style=\"color: #00af00; text-decoration-color: #00af00\">0</span> │ lambda[<span style=\"color: #00af00; text-decoration-color: #00af00\">0</span>][<span style=\"color: #00af00; text-decoration-color: #00af00\">0</span>]      │\n",
       "├─────────────────────┼───────────────────┼────────────┼───────────────────┤\n",
       "│ add (<span style=\"color: #0087ff; text-decoration-color: #0087ff\">Add</span>)           │ (<span style=\"color: #00d7ff; text-decoration-color: #00d7ff\">None</span>, <span style=\"color: #00af00; text-decoration-color: #00af00\">995</span>, <span style=\"color: #00af00; text-decoration-color: #00af00\">128</span>)  │          <span style=\"color: #00af00; text-decoration-color: #00af00\">0</span> │ embedding[<span style=\"color: #00af00; text-decoration-color: #00af00\">0</span>][<span style=\"color: #00af00; text-decoration-color: #00af00\">0</span>]   │\n",
       "├─────────────────────┼───────────────────┼────────────┼───────────────────┤\n",
       "│ lambda_2 (<span style=\"color: #0087ff; text-decoration-color: #0087ff\">Lambda</span>)   │ (<span style=\"color: #00d7ff; text-decoration-color: #00d7ff\">None</span>, <span style=\"color: #00af00; text-decoration-color: #00af00\">1</span>, <span style=\"color: #00af00; text-decoration-color: #00af00\">995</span>,    │          <span style=\"color: #00af00; text-decoration-color: #00af00\">0</span> │ lambda_1[<span style=\"color: #00af00; text-decoration-color: #00af00\">0</span>][<span style=\"color: #00af00; text-decoration-color: #00af00\">0</span>]    │\n",
       "│                     │ <span style=\"color: #00af00; text-decoration-color: #00af00\">995</span>)              │            │                   │\n",
       "├─────────────────────┼───────────────────┼────────────┼───────────────────┤\n",
       "│ multi_head_attenti… │ (<span style=\"color: #00d7ff; text-decoration-color: #00d7ff\">None</span>, <span style=\"color: #00af00; text-decoration-color: #00af00\">995</span>, <span style=\"color: #00af00; text-decoration-color: #00af00\">128</span>)  │    <span style=\"color: #00af00; text-decoration-color: #00af00\">527,488</span> │ add[<span style=\"color: #00af00; text-decoration-color: #00af00\">0</span>][<span style=\"color: #00af00; text-decoration-color: #00af00\">0</span>],        │\n",
       "│ (<span style=\"color: #0087ff; text-decoration-color: #0087ff\">MultiHeadAttentio…</span> │                   │            │ add[<span style=\"color: #00af00; text-decoration-color: #00af00\">0</span>][<span style=\"color: #00af00; text-decoration-color: #00af00\">0</span>],        │\n",
       "│                     │                   │            │ lambda_2[<span style=\"color: #00af00; text-decoration-color: #00af00\">0</span>][<span style=\"color: #00af00; text-decoration-color: #00af00\">0</span>]    │\n",
       "├─────────────────────┼───────────────────┼────────────┼───────────────────┤\n",
       "│ add_1 (<span style=\"color: #0087ff; text-decoration-color: #0087ff\">Add</span>)         │ (<span style=\"color: #00d7ff; text-decoration-color: #00d7ff\">None</span>, <span style=\"color: #00af00; text-decoration-color: #00af00\">995</span>, <span style=\"color: #00af00; text-decoration-color: #00af00\">128</span>)  │          <span style=\"color: #00af00; text-decoration-color: #00af00\">0</span> │ add[<span style=\"color: #00af00; text-decoration-color: #00af00\">0</span>][<span style=\"color: #00af00; text-decoration-color: #00af00\">0</span>],        │\n",
       "│                     │                   │            │ multi_head_atten… │\n",
       "├─────────────────────┼───────────────────┼────────────┼───────────────────┤\n",
       "│ layer_normalization │ (<span style=\"color: #00d7ff; text-decoration-color: #00d7ff\">None</span>, <span style=\"color: #00af00; text-decoration-color: #00af00\">995</span>, <span style=\"color: #00af00; text-decoration-color: #00af00\">128</span>)  │        <span style=\"color: #00af00; text-decoration-color: #00af00\">256</span> │ add_1[<span style=\"color: #00af00; text-decoration-color: #00af00\">0</span>][<span style=\"color: #00af00; text-decoration-color: #00af00\">0</span>]       │\n",
       "│ (<span style=\"color: #0087ff; text-decoration-color: #0087ff\">LayerNormalizatio…</span> │                   │            │                   │\n",
       "├─────────────────────┼───────────────────┼────────────┼───────────────────┤\n",
       "│ dense (<span style=\"color: #0087ff; text-decoration-color: #0087ff\">Dense</span>)       │ (<span style=\"color: #00d7ff; text-decoration-color: #00d7ff\">None</span>, <span style=\"color: #00af00; text-decoration-color: #00af00\">995</span>, <span style=\"color: #00af00; text-decoration-color: #00af00\">512</span>)  │     <span style=\"color: #00af00; text-decoration-color: #00af00\">66,048</span> │ layer_normalizat… │\n",
       "├─────────────────────┼───────────────────┼────────────┼───────────────────┤\n",
       "│ dense_1 (<span style=\"color: #0087ff; text-decoration-color: #0087ff\">Dense</span>)     │ (<span style=\"color: #00d7ff; text-decoration-color: #00d7ff\">None</span>, <span style=\"color: #00af00; text-decoration-color: #00af00\">995</span>, <span style=\"color: #00af00; text-decoration-color: #00af00\">128</span>)  │     <span style=\"color: #00af00; text-decoration-color: #00af00\">65,664</span> │ dense[<span style=\"color: #00af00; text-decoration-color: #00af00\">0</span>][<span style=\"color: #00af00; text-decoration-color: #00af00\">0</span>]       │\n",
       "├─────────────────────┼───────────────────┼────────────┼───────────────────┤\n",
       "│ add_2 (<span style=\"color: #0087ff; text-decoration-color: #0087ff\">Add</span>)         │ (<span style=\"color: #00d7ff; text-decoration-color: #00d7ff\">None</span>, <span style=\"color: #00af00; text-decoration-color: #00af00\">995</span>, <span style=\"color: #00af00; text-decoration-color: #00af00\">128</span>)  │          <span style=\"color: #00af00; text-decoration-color: #00af00\">0</span> │ layer_normalizat… │\n",
       "│                     │                   │            │ dense_1[<span style=\"color: #00af00; text-decoration-color: #00af00\">0</span>][<span style=\"color: #00af00; text-decoration-color: #00af00\">0</span>]     │\n",
       "├─────────────────────┼───────────────────┼────────────┼───────────────────┤\n",
       "│ layer_normalizatio… │ (<span style=\"color: #00d7ff; text-decoration-color: #00d7ff\">None</span>, <span style=\"color: #00af00; text-decoration-color: #00af00\">995</span>, <span style=\"color: #00af00; text-decoration-color: #00af00\">128</span>)  │        <span style=\"color: #00af00; text-decoration-color: #00af00\">256</span> │ add_2[<span style=\"color: #00af00; text-decoration-color: #00af00\">0</span>][<span style=\"color: #00af00; text-decoration-color: #00af00\">0</span>]       │\n",
       "│ (<span style=\"color: #0087ff; text-decoration-color: #0087ff\">LayerNormalizatio…</span> │                   │            │                   │\n",
       "├─────────────────────┼───────────────────┼────────────┼───────────────────┤\n",
       "│ dense_2 (<span style=\"color: #0087ff; text-decoration-color: #0087ff\">Dense</span>)     │ (<span style=\"color: #00d7ff; text-decoration-color: #00d7ff\">None</span>, <span style=\"color: #00af00; text-decoration-color: #00af00\">995</span>, <span style=\"color: #00af00; text-decoration-color: #00af00\">4097</span>) │    <span style=\"color: #00af00; text-decoration-color: #00af00\">528,513</span> │ layer_normalizat… │\n",
       "└─────────────────────┴───────────────────┴────────────┴───────────────────┘\n",
       "</pre>\n"
      ],
      "text/plain": [
       "┏━━━━━━━━━━━━━━━━━━━━━┳━━━━━━━━━━━━━━━━━━━┳━━━━━━━━━━━━┳━━━━━━━━━━━━━━━━━━━┓\n",
       "┃\u001b[1m \u001b[0m\u001b[1mLayer (type)       \u001b[0m\u001b[1m \u001b[0m┃\u001b[1m \u001b[0m\u001b[1mOutput Shape     \u001b[0m\u001b[1m \u001b[0m┃\u001b[1m \u001b[0m\u001b[1m   Param #\u001b[0m\u001b[1m \u001b[0m┃\u001b[1m \u001b[0m\u001b[1mConnected to     \u001b[0m\u001b[1m \u001b[0m┃\n",
       "┡━━━━━━━━━━━━━━━━━━━━━╇━━━━━━━━━━━━━━━━━━━╇━━━━━━━━━━━━╇━━━━━━━━━━━━━━━━━━━┩\n",
       "│ input_layer         │ (\u001b[38;5;45mNone\u001b[0m, \u001b[38;5;34m995\u001b[0m)       │          \u001b[38;5;34m0\u001b[0m │ -                 │\n",
       "│ (\u001b[38;5;33mInputLayer\u001b[0m)        │                   │            │                   │\n",
       "├─────────────────────┼───────────────────┼────────────┼───────────────────┤\n",
       "│ lambda (\u001b[38;5;33mLambda\u001b[0m)     │ (\u001b[38;5;45mNone\u001b[0m, \u001b[38;5;34m995\u001b[0m)       │          \u001b[38;5;34m0\u001b[0m │ input_layer[\u001b[38;5;34m0\u001b[0m][\u001b[38;5;34m0\u001b[0m] │\n",
       "├─────────────────────┼───────────────────┼────────────┼───────────────────┤\n",
       "│ embedding           │ (\u001b[38;5;45mNone\u001b[0m, \u001b[38;5;34m995\u001b[0m, \u001b[38;5;34m128\u001b[0m)  │    \u001b[38;5;34m524,416\u001b[0m │ input_layer[\u001b[38;5;34m0\u001b[0m][\u001b[38;5;34m0\u001b[0m] │\n",
       "│ (\u001b[38;5;33mEmbedding\u001b[0m)         │                   │            │                   │\n",
       "├─────────────────────┼───────────────────┼────────────┼───────────────────┤\n",
       "│ lambda_1 (\u001b[38;5;33mLambda\u001b[0m)   │ (\u001b[38;5;45mNone\u001b[0m, \u001b[38;5;34m1\u001b[0m, \u001b[38;5;34m1\u001b[0m, \u001b[38;5;34m995\u001b[0m) │          \u001b[38;5;34m0\u001b[0m │ lambda[\u001b[38;5;34m0\u001b[0m][\u001b[38;5;34m0\u001b[0m]      │\n",
       "├─────────────────────┼───────────────────┼────────────┼───────────────────┤\n",
       "│ add (\u001b[38;5;33mAdd\u001b[0m)           │ (\u001b[38;5;45mNone\u001b[0m, \u001b[38;5;34m995\u001b[0m, \u001b[38;5;34m128\u001b[0m)  │          \u001b[38;5;34m0\u001b[0m │ embedding[\u001b[38;5;34m0\u001b[0m][\u001b[38;5;34m0\u001b[0m]   │\n",
       "├─────────────────────┼───────────────────┼────────────┼───────────────────┤\n",
       "│ lambda_2 (\u001b[38;5;33mLambda\u001b[0m)   │ (\u001b[38;5;45mNone\u001b[0m, \u001b[38;5;34m1\u001b[0m, \u001b[38;5;34m995\u001b[0m,    │          \u001b[38;5;34m0\u001b[0m │ lambda_1[\u001b[38;5;34m0\u001b[0m][\u001b[38;5;34m0\u001b[0m]    │\n",
       "│                     │ \u001b[38;5;34m995\u001b[0m)              │            │                   │\n",
       "├─────────────────────┼───────────────────┼────────────┼───────────────────┤\n",
       "│ multi_head_attenti… │ (\u001b[38;5;45mNone\u001b[0m, \u001b[38;5;34m995\u001b[0m, \u001b[38;5;34m128\u001b[0m)  │    \u001b[38;5;34m527,488\u001b[0m │ add[\u001b[38;5;34m0\u001b[0m][\u001b[38;5;34m0\u001b[0m],        │\n",
       "│ (\u001b[38;5;33mMultiHeadAttentio…\u001b[0m │                   │            │ add[\u001b[38;5;34m0\u001b[0m][\u001b[38;5;34m0\u001b[0m],        │\n",
       "│                     │                   │            │ lambda_2[\u001b[38;5;34m0\u001b[0m][\u001b[38;5;34m0\u001b[0m]    │\n",
       "├─────────────────────┼───────────────────┼────────────┼───────────────────┤\n",
       "│ add_1 (\u001b[38;5;33mAdd\u001b[0m)         │ (\u001b[38;5;45mNone\u001b[0m, \u001b[38;5;34m995\u001b[0m, \u001b[38;5;34m128\u001b[0m)  │          \u001b[38;5;34m0\u001b[0m │ add[\u001b[38;5;34m0\u001b[0m][\u001b[38;5;34m0\u001b[0m],        │\n",
       "│                     │                   │            │ multi_head_atten… │\n",
       "├─────────────────────┼───────────────────┼────────────┼───────────────────┤\n",
       "│ layer_normalization │ (\u001b[38;5;45mNone\u001b[0m, \u001b[38;5;34m995\u001b[0m, \u001b[38;5;34m128\u001b[0m)  │        \u001b[38;5;34m256\u001b[0m │ add_1[\u001b[38;5;34m0\u001b[0m][\u001b[38;5;34m0\u001b[0m]       │\n",
       "│ (\u001b[38;5;33mLayerNormalizatio…\u001b[0m │                   │            │                   │\n",
       "├─────────────────────┼───────────────────┼────────────┼───────────────────┤\n",
       "│ dense (\u001b[38;5;33mDense\u001b[0m)       │ (\u001b[38;5;45mNone\u001b[0m, \u001b[38;5;34m995\u001b[0m, \u001b[38;5;34m512\u001b[0m)  │     \u001b[38;5;34m66,048\u001b[0m │ layer_normalizat… │\n",
       "├─────────────────────┼───────────────────┼────────────┼───────────────────┤\n",
       "│ dense_1 (\u001b[38;5;33mDense\u001b[0m)     │ (\u001b[38;5;45mNone\u001b[0m, \u001b[38;5;34m995\u001b[0m, \u001b[38;5;34m128\u001b[0m)  │     \u001b[38;5;34m65,664\u001b[0m │ dense[\u001b[38;5;34m0\u001b[0m][\u001b[38;5;34m0\u001b[0m]       │\n",
       "├─────────────────────┼───────────────────┼────────────┼───────────────────┤\n",
       "│ add_2 (\u001b[38;5;33mAdd\u001b[0m)         │ (\u001b[38;5;45mNone\u001b[0m, \u001b[38;5;34m995\u001b[0m, \u001b[38;5;34m128\u001b[0m)  │          \u001b[38;5;34m0\u001b[0m │ layer_normalizat… │\n",
       "│                     │                   │            │ dense_1[\u001b[38;5;34m0\u001b[0m][\u001b[38;5;34m0\u001b[0m]     │\n",
       "├─────────────────────┼───────────────────┼────────────┼───────────────────┤\n",
       "│ layer_normalizatio… │ (\u001b[38;5;45mNone\u001b[0m, \u001b[38;5;34m995\u001b[0m, \u001b[38;5;34m128\u001b[0m)  │        \u001b[38;5;34m256\u001b[0m │ add_2[\u001b[38;5;34m0\u001b[0m][\u001b[38;5;34m0\u001b[0m]       │\n",
       "│ (\u001b[38;5;33mLayerNormalizatio…\u001b[0m │                   │            │                   │\n",
       "├─────────────────────┼───────────────────┼────────────┼───────────────────┤\n",
       "│ dense_2 (\u001b[38;5;33mDense\u001b[0m)     │ (\u001b[38;5;45mNone\u001b[0m, \u001b[38;5;34m995\u001b[0m, \u001b[38;5;34m4097\u001b[0m) │    \u001b[38;5;34m528,513\u001b[0m │ layer_normalizat… │\n",
       "└─────────────────────┴───────────────────┴────────────┴───────────────────┘\n"
      ]
     },
     "metadata": {},
     "output_type": "display_data"
    },
    {
     "data": {
      "text/html": [
       "<pre style=\"white-space:pre;overflow-x:auto;line-height:normal;font-family:Menlo,'DejaVu Sans Mono',consolas,'Courier New',monospace\"><span style=\"font-weight: bold\"> Total params: </span><span style=\"color: #00af00; text-decoration-color: #00af00\">1,712,641</span> (6.53 MB)\n",
       "</pre>\n"
      ],
      "text/plain": [
       "\u001b[1m Total params: \u001b[0m\u001b[38;5;34m1,712,641\u001b[0m (6.53 MB)\n"
      ]
     },
     "metadata": {},
     "output_type": "display_data"
    },
    {
     "data": {
      "text/html": [
       "<pre style=\"white-space:pre;overflow-x:auto;line-height:normal;font-family:Menlo,'DejaVu Sans Mono',consolas,'Courier New',monospace\"><span style=\"font-weight: bold\"> Trainable params: </span><span style=\"color: #00af00; text-decoration-color: #00af00\">1,712,641</span> (6.53 MB)\n",
       "</pre>\n"
      ],
      "text/plain": [
       "\u001b[1m Trainable params: \u001b[0m\u001b[38;5;34m1,712,641\u001b[0m (6.53 MB)\n"
      ]
     },
     "metadata": {},
     "output_type": "display_data"
    },
    {
     "data": {
      "text/html": [
       "<pre style=\"white-space:pre;overflow-x:auto;line-height:normal;font-family:Menlo,'DejaVu Sans Mono',consolas,'Courier New',monospace\"><span style=\"font-weight: bold\"> Non-trainable params: </span><span style=\"color: #00af00; text-decoration-color: #00af00\">0</span> (0.00 B)\n",
       "</pre>\n"
      ],
      "text/plain": [
       "\u001b[1m Non-trainable params: \u001b[0m\u001b[38;5;34m0\u001b[0m (0.00 B)\n"
      ]
     },
     "metadata": {},
     "output_type": "display_data"
    }
   ],
   "source": [
    "transformer = TransformerGenerator(\n",
    "    vocab_size=4097,  #k-mer 6 + 1 for padding\n",
    "    max_len=max_len)\n",
    "\n",
    "transformer.build(num_layers=1)\n",
    "transformer.compile()"
   ]
  },
  {
   "cell_type": "markdown",
   "id": "30a93268",
   "metadata": {
    "id": "30a93268"
   },
   "source": [
    "### Fit model"
   ]
  },
  {
   "cell_type": "code",
   "execution_count": 18,
   "id": "381a5e29",
   "metadata": {
    "colab": {
     "base_uri": "https://localhost:8080/"
    },
    "executionInfo": {
     "elapsed": 2456541,
     "status": "ok",
     "timestamp": 1759568793247,
     "user": {
      "displayName": "Anna Braghetto",
      "userId": "08361497697639421184"
     },
     "user_tz": -120
    },
    "id": "381a5e29",
    "outputId": "1d3cb9bb-f2b1-4ca7-cc77-eb218f50bf45"
   },
   "outputs": [
    {
     "name": "stdout",
     "output_type": "stream",
     "text": [
      "Epoch 1/100\n",
      "\u001b[1m707/707\u001b[0m \u001b[32m━━━━━━━━━━━━━━━━━━━━\u001b[0m\u001b[37m\u001b[0m \u001b[1m97s\u001b[0m 85ms/step - loss: 3.0187 - masked_accuracy: 0.3003 - val_loss: 1.3427 - val_masked_accuracy: 0.3414 - learning_rate: 0.0010\n",
      "Epoch 2/100\n",
      "\u001b[1m707/707\u001b[0m \u001b[32m━━━━━━━━━━━━━━━━━━━━\u001b[0m\u001b[37m\u001b[0m \u001b[1m24s\u001b[0m 34ms/step - loss: 1.3343 - masked_accuracy: 0.3497 - val_loss: 1.2246 - val_masked_accuracy: 0.4464 - learning_rate: 0.0010\n",
      "Epoch 3/100\n",
      "\u001b[1m707/707\u001b[0m \u001b[32m━━━━━━━━━━━━━━━━━━━━\u001b[0m\u001b[37m\u001b[0m \u001b[1m24s\u001b[0m 34ms/step - loss: 1.1352 - masked_accuracy: 0.4987 - val_loss: 0.7546 - val_masked_accuracy: 0.7304 - learning_rate: 0.0010\n",
      "Epoch 4/100\n",
      "\u001b[1m707/707\u001b[0m \u001b[32m━━━━━━━━━━━━━━━━━━━━\u001b[0m\u001b[37m\u001b[0m \u001b[1m24s\u001b[0m 34ms/step - loss: 0.5449 - masked_accuracy: 0.7987 - val_loss: 0.2736 - val_masked_accuracy: 0.8931 - learning_rate: 0.0010\n",
      "Epoch 5/100\n",
      "\u001b[1m707/707\u001b[0m \u001b[32m━━━━━━━━━━━━━━━━━━━━\u001b[0m\u001b[37m\u001b[0m \u001b[1m24s\u001b[0m 34ms/step - loss: 0.2859 - masked_accuracy: 0.8898 - val_loss: 0.2246 - val_masked_accuracy: 0.9018 - learning_rate: 0.0010\n",
      "Epoch 6/100\n",
      "\u001b[1m707/707\u001b[0m \u001b[32m━━━━━━━━━━━━━━━━━━━━\u001b[0m\u001b[37m\u001b[0m \u001b[1m24s\u001b[0m 34ms/step - loss: 0.2406 - masked_accuracy: 0.8978 - val_loss: 0.2083 - val_masked_accuracy: 0.9040 - learning_rate: 0.0010\n",
      "Epoch 7/100\n",
      "\u001b[1m707/707\u001b[0m \u001b[32m━━━━━━━━━━━━━━━━━━━━\u001b[0m\u001b[37m\u001b[0m \u001b[1m24s\u001b[0m 34ms/step - loss: 0.2220 - masked_accuracy: 0.9011 - val_loss: 0.1963 - val_masked_accuracy: 0.9062 - learning_rate: 0.0010\n",
      "Epoch 8/100\n",
      "\u001b[1m707/707\u001b[0m \u001b[32m━━━━━━━━━━━━━━━━━━━━\u001b[0m\u001b[37m\u001b[0m \u001b[1m24s\u001b[0m 34ms/step - loss: 0.2092 - masked_accuracy: 0.9033 - val_loss: 0.1889 - val_masked_accuracy: 0.9080 - learning_rate: 0.0010\n",
      "Epoch 9/100\n",
      "\u001b[1m707/707\u001b[0m \u001b[32m━━━━━━━━━━━━━━━━━━━━\u001b[0m\u001b[37m\u001b[0m \u001b[1m24s\u001b[0m 34ms/step - loss: 0.1990 - masked_accuracy: 0.9060 - val_loss: 0.1845 - val_masked_accuracy: 0.9092 - learning_rate: 0.0010\n",
      "Epoch 10/100\n",
      "\u001b[1m707/707\u001b[0m \u001b[32m━━━━━━━━━━━━━━━━━━━━\u001b[0m\u001b[37m\u001b[0m \u001b[1m24s\u001b[0m 34ms/step - loss: 0.1942 - masked_accuracy: 0.9069 - val_loss: 0.1775 - val_masked_accuracy: 0.9117 - learning_rate: 0.0010\n",
      "Epoch 11/100\n",
      "\u001b[1m707/707\u001b[0m \u001b[32m━━━━━━━━━━━━━━━━━━━━\u001b[0m\u001b[37m\u001b[0m \u001b[1m24s\u001b[0m 34ms/step - loss: 0.1890 - masked_accuracy: 0.9086 - val_loss: 0.1773 - val_masked_accuracy: 0.9122 - learning_rate: 0.0010\n",
      "Epoch 12/100\n",
      "\u001b[1m707/707\u001b[0m \u001b[32m━━━━━━━━━━━━━━━━━━━━\u001b[0m\u001b[37m\u001b[0m \u001b[1m24s\u001b[0m 34ms/step - loss: 0.1834 - masked_accuracy: 0.9105 - val_loss: 0.1715 - val_masked_accuracy: 0.9141 - learning_rate: 0.0010\n",
      "Epoch 13/100\n",
      "\u001b[1m707/707\u001b[0m \u001b[32m━━━━━━━━━━━━━━━━━━━━\u001b[0m\u001b[37m\u001b[0m \u001b[1m24s\u001b[0m 34ms/step - loss: 0.1813 - masked_accuracy: 0.9115 - val_loss: 0.1688 - val_masked_accuracy: 0.9154 - learning_rate: 0.0010\n",
      "Epoch 14/100\n",
      "\u001b[1m707/707\u001b[0m \u001b[32m━━━━━━━━━━━━━━━━━━━━\u001b[0m\u001b[37m\u001b[0m \u001b[1m24s\u001b[0m 34ms/step - loss: 0.1775 - masked_accuracy: 0.9128 - val_loss: 0.1693 - val_masked_accuracy: 0.9158 - learning_rate: 0.0010\n",
      "Epoch 15/100\n",
      "\u001b[1m707/707\u001b[0m \u001b[32m━━━━━━━━━━━━━━━━━━━━\u001b[0m\u001b[37m\u001b[0m \u001b[1m24s\u001b[0m 34ms/step - loss: 0.1762 - masked_accuracy: 0.9139 - val_loss: 0.1640 - val_masked_accuracy: 0.9184 - learning_rate: 0.0010\n",
      "Epoch 16/100\n",
      "\u001b[1m707/707\u001b[0m \u001b[32m━━━━━━━━━━━━━━━━━━━━\u001b[0m\u001b[37m\u001b[0m \u001b[1m24s\u001b[0m 34ms/step - loss: 0.1739 - masked_accuracy: 0.9147 - val_loss: 0.1612 - val_masked_accuracy: 0.9199 - learning_rate: 0.0010\n",
      "Epoch 17/100\n",
      "\u001b[1m707/707\u001b[0m \u001b[32m━━━━━━━━━━━━━━━━━━━━\u001b[0m\u001b[37m\u001b[0m \u001b[1m24s\u001b[0m 34ms/step - loss: 0.1706 - masked_accuracy: 0.9163 - val_loss: 0.1604 - val_masked_accuracy: 0.9202 - learning_rate: 0.0010\n",
      "Epoch 18/100\n",
      "\u001b[1m707/707\u001b[0m \u001b[32m━━━━━━━━━━━━━━━━━━━━\u001b[0m\u001b[37m\u001b[0m \u001b[1m24s\u001b[0m 34ms/step - loss: 0.1680 - masked_accuracy: 0.9179 - val_loss: 0.1575 - val_masked_accuracy: 0.9221 - learning_rate: 0.0010\n",
      "Epoch 19/100\n",
      "\u001b[1m707/707\u001b[0m \u001b[32m━━━━━━━━━━━━━━━━━━━━\u001b[0m\u001b[37m\u001b[0m \u001b[1m24s\u001b[0m 34ms/step - loss: 0.1667 - masked_accuracy: 0.9187 - val_loss: 0.1539 - val_masked_accuracy: 0.9240 - learning_rate: 0.0010\n",
      "Epoch 20/100\n",
      "\u001b[1m707/707\u001b[0m \u001b[32m━━━━━━━━━━━━━━━━━━━━\u001b[0m\u001b[37m\u001b[0m \u001b[1m24s\u001b[0m 34ms/step - loss: 0.1627 - masked_accuracy: 0.9208 - val_loss: 0.1515 - val_masked_accuracy: 0.9253 - learning_rate: 0.0010\n",
      "Epoch 21/100\n",
      "\u001b[1m707/707\u001b[0m \u001b[32m━━━━━━━━━━━━━━━━━━━━\u001b[0m\u001b[37m\u001b[0m \u001b[1m24s\u001b[0m 34ms/step - loss: 0.1607 - masked_accuracy: 0.9217 - val_loss: 0.1512 - val_masked_accuracy: 0.9256 - learning_rate: 0.0010\n",
      "Epoch 22/100\n",
      "\u001b[1m707/707\u001b[0m \u001b[32m━━━━━━━━━━━━━━━━━━━━\u001b[0m\u001b[37m\u001b[0m \u001b[1m24s\u001b[0m 34ms/step - loss: 0.1615 - masked_accuracy: 0.9219 - val_loss: 0.1479 - val_masked_accuracy: 0.9277 - learning_rate: 0.0010\n",
      "Epoch 23/100\n",
      "\u001b[1m707/707\u001b[0m \u001b[32m━━━━━━━━━━━━━━━━━━━━\u001b[0m\u001b[37m\u001b[0m \u001b[1m24s\u001b[0m 34ms/step - loss: 0.1564 - masked_accuracy: 0.9243 - val_loss: 0.1445 - val_masked_accuracy: 0.9297 - learning_rate: 0.0010\n",
      "Epoch 24/100\n",
      "\u001b[1m707/707\u001b[0m \u001b[32m━━━━━━━━━━━━━━━━━━━━\u001b[0m\u001b[37m\u001b[0m \u001b[1m24s\u001b[0m 34ms/step - loss: 0.1556 - masked_accuracy: 0.9251 - val_loss: 0.1458 - val_masked_accuracy: 0.9295 - learning_rate: 0.0010\n",
      "Epoch 25/100\n",
      "\u001b[1m707/707\u001b[0m \u001b[32m━━━━━━━━━━━━━━━━━━━━\u001b[0m\u001b[37m\u001b[0m \u001b[1m24s\u001b[0m 34ms/step - loss: 0.1579 - masked_accuracy: 0.9247 - val_loss: 0.1435 - val_masked_accuracy: 0.9304 - learning_rate: 0.0010\n",
      "Epoch 26/100\n",
      "\u001b[1m707/707\u001b[0m \u001b[32m━━━━━━━━━━━━━━━━━━━━\u001b[0m\u001b[37m\u001b[0m \u001b[1m24s\u001b[0m 34ms/step - loss: 0.1534 - masked_accuracy: 0.9268 - val_loss: 0.1437 - val_masked_accuracy: 0.9307 - learning_rate: 0.0010\n",
      "Epoch 27/100\n",
      "\u001b[1m707/707\u001b[0m \u001b[32m━━━━━━━━━━━━━━━━━━━━\u001b[0m\u001b[37m\u001b[0m \u001b[1m24s\u001b[0m 34ms/step - loss: 0.1512 - masked_accuracy: 0.9280 - val_loss: 0.1404 - val_masked_accuracy: 0.9326 - learning_rate: 0.0010\n",
      "Epoch 28/100\n",
      "\u001b[1m707/707\u001b[0m \u001b[32m━━━━━━━━━━━━━━━━━━━━\u001b[0m\u001b[37m\u001b[0m \u001b[1m24s\u001b[0m 34ms/step - loss: 0.1503 - masked_accuracy: 0.9286 - val_loss: 0.1369 - val_masked_accuracy: 0.9344 - learning_rate: 0.0010\n",
      "Epoch 29/100\n",
      "\u001b[1m707/707\u001b[0m \u001b[32m━━━━━━━━━━━━━━━━━━━━\u001b[0m\u001b[37m\u001b[0m \u001b[1m24s\u001b[0m 34ms/step - loss: 0.1479 - masked_accuracy: 0.9297 - val_loss: 0.1370 - val_masked_accuracy: 0.9348 - learning_rate: 0.0010\n",
      "Epoch 30/100\n",
      "\u001b[1m707/707\u001b[0m \u001b[32m━━━━━━━━━━━━━━━━━━━━\u001b[0m\u001b[37m\u001b[0m \u001b[1m24s\u001b[0m 34ms/step - loss: 0.1470 - masked_accuracy: 0.9307 - val_loss: 0.1348 - val_masked_accuracy: 0.9361 - learning_rate: 0.0010\n",
      "Epoch 31/100\n",
      "\u001b[1m707/707\u001b[0m \u001b[32m━━━━━━━━━━━━━━━━━━━━\u001b[0m\u001b[37m\u001b[0m \u001b[1m24s\u001b[0m 34ms/step - loss: 0.1452 - masked_accuracy: 0.9318 - val_loss: 0.1328 - val_masked_accuracy: 0.9370 - learning_rate: 0.0010\n",
      "Epoch 32/100\n",
      "\u001b[1m707/707\u001b[0m \u001b[32m━━━━━━━━━━━━━━━━━━━━\u001b[0m\u001b[37m\u001b[0m \u001b[1m24s\u001b[0m 34ms/step - loss: 0.1435 - masked_accuracy: 0.9330 - val_loss: 0.1296 - val_masked_accuracy: 0.9389 - learning_rate: 0.0010\n",
      "Epoch 33/100\n",
      "\u001b[1m707/707\u001b[0m \u001b[32m━━━━━━━━━━━━━━━━━━━━\u001b[0m\u001b[37m\u001b[0m \u001b[1m24s\u001b[0m 34ms/step - loss: 0.1416 - masked_accuracy: 0.9336 - val_loss: 0.1324 - val_masked_accuracy: 0.9381 - learning_rate: 0.0010\n",
      "Epoch 34/100\n",
      "\u001b[1m707/707\u001b[0m \u001b[32m━━━━━━━━━━━━━━━━━━━━\u001b[0m\u001b[37m\u001b[0m \u001b[1m24s\u001b[0m 34ms/step - loss: 0.1422 - masked_accuracy: 0.9339 - val_loss: 0.1291 - val_masked_accuracy: 0.9392 - learning_rate: 0.0010\n",
      "Epoch 35/100\n",
      "\u001b[1m707/707\u001b[0m \u001b[32m━━━━━━━━━━━━━━━━━━━━\u001b[0m\u001b[37m\u001b[0m \u001b[1m24s\u001b[0m 34ms/step - loss: 0.1385 - masked_accuracy: 0.9355 - val_loss: 0.1265 - val_masked_accuracy: 0.9410 - learning_rate: 0.0010\n",
      "Epoch 36/100\n",
      "\u001b[1m707/707\u001b[0m \u001b[32m━━━━━━━━━━━━━━━━━━━━\u001b[0m\u001b[37m\u001b[0m \u001b[1m24s\u001b[0m 34ms/step - loss: 0.1393 - masked_accuracy: 0.9357 - val_loss: 0.1250 - val_masked_accuracy: 0.9418 - learning_rate: 0.0010\n",
      "Epoch 37/100\n",
      "\u001b[1m707/707\u001b[0m \u001b[32m━━━━━━━━━━━━━━━━━━━━\u001b[0m\u001b[37m\u001b[0m \u001b[1m24s\u001b[0m 34ms/step - loss: 0.1373 - masked_accuracy: 0.9366 - val_loss: 0.1210 - val_masked_accuracy: 0.9443 - learning_rate: 0.0010\n",
      "Epoch 38/100\n",
      "\u001b[1m707/707\u001b[0m \u001b[32m━━━━━━━━━━━━━━━━━━━━\u001b[0m\u001b[37m\u001b[0m \u001b[1m24s\u001b[0m 34ms/step - loss: 0.1327 - masked_accuracy: 0.9389 - val_loss: 0.1221 - val_masked_accuracy: 0.9434 - learning_rate: 0.0010\n",
      "Epoch 39/100\n",
      "\u001b[1m707/707\u001b[0m \u001b[32m━━━━━━━━━━━━━━━━━━━━\u001b[0m\u001b[37m\u001b[0m \u001b[1m24s\u001b[0m 34ms/step - loss: 0.1334 - masked_accuracy: 0.9391 - val_loss: 0.1191 - val_masked_accuracy: 0.9454 - learning_rate: 0.0010\n",
      "Epoch 40/100\n",
      "\u001b[1m707/707\u001b[0m \u001b[32m━━━━━━━━━━━━━━━━━━━━\u001b[0m\u001b[37m\u001b[0m \u001b[1m24s\u001b[0m 34ms/step - loss: 0.1304 - masked_accuracy: 0.9403 - val_loss: 0.1169 - val_masked_accuracy: 0.9467 - learning_rate: 0.0010\n",
      "Epoch 41/100\n",
      "\u001b[1m707/707\u001b[0m \u001b[32m━━━━━━━━━━━━━━━━━━━━\u001b[0m\u001b[37m\u001b[0m \u001b[1m24s\u001b[0m 34ms/step - loss: 0.1309 - masked_accuracy: 0.9404 - val_loss: 0.1173 - val_masked_accuracy: 0.9464 - learning_rate: 0.0010\n",
      "Epoch 42/100\n",
      "\u001b[1m707/707\u001b[0m \u001b[32m━━━━━━━━━━━━━━━━━━━━\u001b[0m\u001b[37m\u001b[0m \u001b[1m24s\u001b[0m 34ms/step - loss: 0.1300 - masked_accuracy: 0.9410 - val_loss: 0.1147 - val_masked_accuracy: 0.9478 - learning_rate: 0.0010\n",
      "Epoch 43/100\n",
      "\u001b[1m707/707\u001b[0m \u001b[32m━━━━━━━━━━━━━━━━━━━━\u001b[0m\u001b[37m\u001b[0m \u001b[1m24s\u001b[0m 34ms/step - loss: 0.1271 - masked_accuracy: 0.9425 - val_loss: 0.1142 - val_masked_accuracy: 0.9483 - learning_rate: 0.0010\n",
      "Epoch 44/100\n",
      "\u001b[1m707/707\u001b[0m \u001b[32m━━━━━━━━━━━━━━━━━━━━\u001b[0m\u001b[37m\u001b[0m \u001b[1m24s\u001b[0m 34ms/step - loss: 0.1256 - masked_accuracy: 0.9433 - val_loss: 0.1112 - val_masked_accuracy: 0.9499 - learning_rate: 0.0010\n",
      "Epoch 45/100\n",
      "\u001b[1m707/707\u001b[0m \u001b[32m━━━━━━━━━━━━━━━━━━━━\u001b[0m\u001b[37m\u001b[0m \u001b[1m24s\u001b[0m 34ms/step - loss: 0.1251 - masked_accuracy: 0.9438 - val_loss: 0.1099 - val_masked_accuracy: 0.9505 - learning_rate: 0.0010\n",
      "Epoch 46/100\n",
      "\u001b[1m707/707\u001b[0m \u001b[32m━━━━━━━━━━━━━━━━━━━━\u001b[0m\u001b[37m\u001b[0m \u001b[1m24s\u001b[0m 34ms/step - loss: 0.1226 - masked_accuracy: 0.9451 - val_loss: 0.1093 - val_masked_accuracy: 0.9511 - learning_rate: 0.0010\n",
      "Epoch 47/100\n",
      "\u001b[1m707/707\u001b[0m \u001b[32m━━━━━━━━━━━━━━━━━━━━\u001b[0m\u001b[37m\u001b[0m \u001b[1m24s\u001b[0m 34ms/step - loss: 0.1219 - masked_accuracy: 0.9458 - val_loss: 0.1074 - val_masked_accuracy: 0.9520 - learning_rate: 0.0010\n",
      "Epoch 48/100\n",
      "\u001b[1m707/707\u001b[0m \u001b[32m━━━━━━━━━━━━━━━━━━━━\u001b[0m\u001b[37m\u001b[0m \u001b[1m24s\u001b[0m 34ms/step - loss: 0.1209 - masked_accuracy: 0.9464 - val_loss: 0.1050 - val_masked_accuracy: 0.9535 - learning_rate: 0.0010\n",
      "Epoch 49/100\n",
      "\u001b[1m707/707\u001b[0m \u001b[32m━━━━━━━━━━━━━━━━━━━━\u001b[0m\u001b[37m\u001b[0m \u001b[1m24s\u001b[0m 34ms/step - loss: 0.1172 - masked_accuracy: 0.9478 - val_loss: 0.1035 - val_masked_accuracy: 0.9540 - learning_rate: 0.0010\n",
      "Epoch 50/100\n",
      "\u001b[1m707/707\u001b[0m \u001b[32m━━━━━━━━━━━━━━━━━━━━\u001b[0m\u001b[37m\u001b[0m \u001b[1m24s\u001b[0m 34ms/step - loss: 0.1178 - masked_accuracy: 0.9480 - val_loss: 0.1017 - val_masked_accuracy: 0.9551 - learning_rate: 0.0010\n",
      "Epoch 51/100\n",
      "\u001b[1m707/707\u001b[0m \u001b[32m━━━━━━━━━━━━━━━━━━━━\u001b[0m\u001b[37m\u001b[0m \u001b[1m24s\u001b[0m 34ms/step - loss: 0.1140 - masked_accuracy: 0.9496 - val_loss: 0.0999 - val_masked_accuracy: 0.9564 - learning_rate: 0.0010\n",
      "Epoch 52/100\n",
      "\u001b[1m707/707\u001b[0m \u001b[32m━━━━━━━━━━━━━━━━━━━━\u001b[0m\u001b[37m\u001b[0m \u001b[1m24s\u001b[0m 34ms/step - loss: 0.1131 - masked_accuracy: 0.9503 - val_loss: 0.0987 - val_masked_accuracy: 0.9567 - learning_rate: 0.0010\n",
      "Epoch 53/100\n",
      "\u001b[1m707/707\u001b[0m \u001b[32m━━━━━━━━━━━━━━━━━━━━\u001b[0m\u001b[37m\u001b[0m \u001b[1m24s\u001b[0m 34ms/step - loss: 0.1130 - masked_accuracy: 0.9508 - val_loss: 0.0982 - val_masked_accuracy: 0.9570 - learning_rate: 0.0010\n",
      "Epoch 54/100\n",
      "\u001b[1m707/707\u001b[0m \u001b[32m━━━━━━━━━━━━━━━━━━━━\u001b[0m\u001b[37m\u001b[0m \u001b[1m24s\u001b[0m 34ms/step - loss: 0.1098 - masked_accuracy: 0.9520 - val_loss: 0.0951 - val_masked_accuracy: 0.9588 - learning_rate: 0.0010\n",
      "Epoch 55/100\n",
      "\u001b[1m707/707\u001b[0m \u001b[32m━━━━━━━━━━━━━━━━━━━━\u001b[0m\u001b[37m\u001b[0m \u001b[1m24s\u001b[0m 34ms/step - loss: 0.1088 - masked_accuracy: 0.9529 - val_loss: 0.0941 - val_masked_accuracy: 0.9591 - learning_rate: 0.0010\n",
      "Epoch 56/100\n",
      "\u001b[1m707/707\u001b[0m \u001b[32m━━━━━━━━━━━━━━━━━━━━\u001b[0m\u001b[37m\u001b[0m \u001b[1m24s\u001b[0m 34ms/step - loss: 0.1090 - masked_accuracy: 0.9529 - val_loss: 0.0914 - val_masked_accuracy: 0.9608 - learning_rate: 0.0010\n",
      "Epoch 57/100\n",
      "\u001b[1m707/707\u001b[0m \u001b[32m━━━━━━━━━━━━━━━━━━━━\u001b[0m\u001b[37m\u001b[0m \u001b[1m24s\u001b[0m 34ms/step - loss: 0.1062 - masked_accuracy: 0.9543 - val_loss: 0.0888 - val_masked_accuracy: 0.9618 - learning_rate: 0.0010\n",
      "Epoch 58/100\n",
      "\u001b[1m707/707\u001b[0m \u001b[32m━━━━━━━━━━━━━━━━━━━━\u001b[0m\u001b[37m\u001b[0m \u001b[1m24s\u001b[0m 34ms/step - loss: 0.1018 - masked_accuracy: 0.9562 - val_loss: 0.0893 - val_masked_accuracy: 0.9618 - learning_rate: 0.0010\n",
      "Epoch 59/100\n",
      "\u001b[1m707/707\u001b[0m \u001b[32m━━━━━━━━━━━━━━━━━━━━\u001b[0m\u001b[37m\u001b[0m \u001b[1m24s\u001b[0m 34ms/step - loss: 0.1026 - masked_accuracy: 0.9562 - val_loss: 0.0854 - val_masked_accuracy: 0.9637 - learning_rate: 0.0010\n",
      "Epoch 60/100\n",
      "\u001b[1m707/707\u001b[0m \u001b[32m━━━━━━━━━━━━━━━━━━━━\u001b[0m\u001b[37m\u001b[0m \u001b[1m24s\u001b[0m 34ms/step - loss: 0.0983 - masked_accuracy: 0.9580 - val_loss: 0.0853 - val_masked_accuracy: 0.9639 - learning_rate: 0.0010\n",
      "Epoch 61/100\n",
      "\u001b[1m707/707\u001b[0m \u001b[32m━━━━━━━━━━━━━━━━━━━━\u001b[0m\u001b[37m\u001b[0m \u001b[1m24s\u001b[0m 34ms/step - loss: 0.0982 - masked_accuracy: 0.9583 - val_loss: 0.0839 - val_masked_accuracy: 0.9647 - learning_rate: 0.0010\n",
      "Epoch 62/100\n",
      "\u001b[1m707/707\u001b[0m \u001b[32m━━━━━━━━━━━━━━━━━━━━\u001b[0m\u001b[37m\u001b[0m \u001b[1m24s\u001b[0m 34ms/step - loss: 0.0973 - masked_accuracy: 0.9590 - val_loss: 0.0817 - val_masked_accuracy: 0.9654 - learning_rate: 0.0010\n",
      "Epoch 63/100\n",
      "\u001b[1m707/707\u001b[0m \u001b[32m━━━━━━━━━━━━━━━━━━━━\u001b[0m\u001b[37m\u001b[0m \u001b[1m24s\u001b[0m 34ms/step - loss: 0.0953 - masked_accuracy: 0.9600 - val_loss: 0.0783 - val_masked_accuracy: 0.9671 - learning_rate: 0.0010\n",
      "Epoch 64/100\n",
      "\u001b[1m707/707\u001b[0m \u001b[32m━━━━━━━━━━━━━━━━━━━━\u001b[0m\u001b[37m\u001b[0m \u001b[1m24s\u001b[0m 34ms/step - loss: 0.0939 - masked_accuracy: 0.9605 - val_loss: 0.0776 - val_masked_accuracy: 0.9675 - learning_rate: 0.0010\n",
      "Epoch 65/100\n",
      "\u001b[1m707/707\u001b[0m \u001b[32m━━━━━━━━━━━━━━━━━━━━\u001b[0m\u001b[37m\u001b[0m \u001b[1m24s\u001b[0m 34ms/step - loss: 0.0908 - masked_accuracy: 0.9619 - val_loss: 0.0745 - val_masked_accuracy: 0.9689 - learning_rate: 0.0010\n",
      "Epoch 66/100\n",
      "\u001b[1m707/707\u001b[0m \u001b[32m━━━━━━━━━━━━━━━━━━━━\u001b[0m\u001b[37m\u001b[0m \u001b[1m24s\u001b[0m 34ms/step - loss: 0.0879 - masked_accuracy: 0.9633 - val_loss: 0.0733 - val_masked_accuracy: 0.9696 - learning_rate: 0.0010\n",
      "Epoch 67/100\n",
      "\u001b[1m707/707\u001b[0m \u001b[32m━━━━━━━━━━━━━━━━━━━━\u001b[0m\u001b[37m\u001b[0m \u001b[1m24s\u001b[0m 34ms/step - loss: 0.0880 - masked_accuracy: 0.9635 - val_loss: 0.0715 - val_masked_accuracy: 0.9702 - learning_rate: 0.0010\n",
      "Epoch 68/100\n",
      "\u001b[1m707/707\u001b[0m \u001b[32m━━━━━━━━━━━━━━━━━━━━\u001b[0m\u001b[37m\u001b[0m \u001b[1m24s\u001b[0m 34ms/step - loss: 0.0846 - masked_accuracy: 0.9649 - val_loss: 0.0708 - val_masked_accuracy: 0.9709 - learning_rate: 0.0010\n",
      "Epoch 69/100\n",
      "\u001b[1m707/707\u001b[0m \u001b[32m━━━━━━━━━━━━━━━━━━━━\u001b[0m\u001b[37m\u001b[0m \u001b[1m24s\u001b[0m 34ms/step - loss: 0.0846 - masked_accuracy: 0.9651 - val_loss: 0.0677 - val_masked_accuracy: 0.9720 - learning_rate: 0.0010\n",
      "Epoch 70/100\n",
      "\u001b[1m707/707\u001b[0m \u001b[32m━━━━━━━━━━━━━━━━━━━━\u001b[0m\u001b[37m\u001b[0m \u001b[1m24s\u001b[0m 33ms/step - loss: 0.0824 - masked_accuracy: 0.9660 - val_loss: 0.0657 - val_masked_accuracy: 0.9731 - learning_rate: 0.0010\n",
      "Epoch 71/100\n",
      "\u001b[1m707/707\u001b[0m \u001b[32m━━━━━━━━━━━━━━━━━━━━\u001b[0m\u001b[37m\u001b[0m \u001b[1m24s\u001b[0m 33ms/step - loss: 0.0803 - masked_accuracy: 0.9670 - val_loss: 0.0643 - val_masked_accuracy: 0.9736 - learning_rate: 0.0010\n",
      "Epoch 72/100\n",
      "\u001b[1m707/707\u001b[0m \u001b[32m━━━━━━━━━━━━━━━━━━━━\u001b[0m\u001b[37m\u001b[0m \u001b[1m24s\u001b[0m 33ms/step - loss: 0.0776 - masked_accuracy: 0.9681 - val_loss: 0.0654 - val_masked_accuracy: 0.9733 - learning_rate: 0.0010\n",
      "Epoch 73/100\n",
      "\u001b[1m707/707\u001b[0m \u001b[32m━━━━━━━━━━━━━━━━━━━━\u001b[0m\u001b[37m\u001b[0m \u001b[1m24s\u001b[0m 33ms/step - loss: 0.0774 - masked_accuracy: 0.9686 - val_loss: 0.0613 - val_masked_accuracy: 0.9752 - learning_rate: 0.0010\n",
      "Epoch 74/100\n",
      "\u001b[1m707/707\u001b[0m \u001b[32m━━━━━━━━━━━━━━━━━━━━\u001b[0m\u001b[37m\u001b[0m \u001b[1m24s\u001b[0m 34ms/step - loss: 0.0753 - masked_accuracy: 0.9694 - val_loss: 0.0596 - val_masked_accuracy: 0.9759 - learning_rate: 0.0010\n",
      "Epoch 75/100\n",
      "\u001b[1m707/707\u001b[0m \u001b[32m━━━━━━━━━━━━━━━━━━━━\u001b[0m\u001b[37m\u001b[0m \u001b[1m24s\u001b[0m 34ms/step - loss: 0.0731 - masked_accuracy: 0.9703 - val_loss: 0.0591 - val_masked_accuracy: 0.9762 - learning_rate: 0.0010\n",
      "Epoch 76/100\n",
      "\u001b[1m707/707\u001b[0m \u001b[32m━━━━━━━━━━━━━━━━━━━━\u001b[0m\u001b[37m\u001b[0m \u001b[1m24s\u001b[0m 34ms/step - loss: 0.0707 - masked_accuracy: 0.9714 - val_loss: 0.0565 - val_masked_accuracy: 0.9772 - learning_rate: 0.0010\n",
      "Epoch 77/100\n",
      "\u001b[1m707/707\u001b[0m \u001b[32m━━━━━━━━━━━━━━━━━━━━\u001b[0m\u001b[37m\u001b[0m \u001b[1m24s\u001b[0m 34ms/step - loss: 0.0711 - masked_accuracy: 0.9713 - val_loss: 0.0559 - val_masked_accuracy: 0.9775 - learning_rate: 0.0010\n",
      "Epoch 78/100\n",
      "\u001b[1m707/707\u001b[0m \u001b[32m━━━━━━━━━━━━━━━━━━━━\u001b[0m\u001b[37m\u001b[0m \u001b[1m24s\u001b[0m 34ms/step - loss: 0.0702 - masked_accuracy: 0.9718 - val_loss: 0.0564 - val_masked_accuracy: 0.9773 - learning_rate: 0.0010\n",
      "Epoch 79/100\n",
      "\u001b[1m707/707\u001b[0m \u001b[32m━━━━━━━━━━━━━━━━━━━━\u001b[0m\u001b[37m\u001b[0m \u001b[1m24s\u001b[0m 33ms/step - loss: 0.0670 - masked_accuracy: 0.9731 - val_loss: 0.0527 - val_masked_accuracy: 0.9790 - learning_rate: 0.0010\n",
      "Epoch 80/100\n",
      "\u001b[1m707/707\u001b[0m \u001b[32m━━━━━━━━━━━━━━━━━━━━\u001b[0m\u001b[37m\u001b[0m \u001b[1m24s\u001b[0m 34ms/step - loss: 0.0669 - masked_accuracy: 0.9733 - val_loss: 0.0517 - val_masked_accuracy: 0.9795 - learning_rate: 0.0010\n",
      "Epoch 81/100\n",
      "\u001b[1m707/707\u001b[0m \u001b[32m━━━━━━━━━━━━━━━━━━━━\u001b[0m\u001b[37m\u001b[0m \u001b[1m24s\u001b[0m 34ms/step - loss: 0.0646 - masked_accuracy: 0.9742 - val_loss: 0.0522 - val_masked_accuracy: 0.9793 - learning_rate: 0.0010\n",
      "Epoch 82/100\n",
      "\u001b[1m707/707\u001b[0m \u001b[32m━━━━━━━━━━━━━━━━━━━━\u001b[0m\u001b[37m\u001b[0m \u001b[1m24s\u001b[0m 34ms/step - loss: 0.0625 - masked_accuracy: 0.9751 - val_loss: 0.0497 - val_masked_accuracy: 0.9802 - learning_rate: 0.0010\n",
      "Epoch 83/100\n",
      "\u001b[1m707/707\u001b[0m \u001b[32m━━━━━━━━━━━━━━━━━━━━\u001b[0m\u001b[37m\u001b[0m \u001b[1m24s\u001b[0m 34ms/step - loss: 0.0637 - masked_accuracy: 0.9748 - val_loss: 0.0486 - val_masked_accuracy: 0.9807 - learning_rate: 0.0010\n",
      "Epoch 84/100\n",
      "\u001b[1m707/707\u001b[0m \u001b[32m━━━━━━━━━━━━━━━━━━━━\u001b[0m\u001b[37m\u001b[0m \u001b[1m24s\u001b[0m 34ms/step - loss: 0.0610 - masked_accuracy: 0.9758 - val_loss: 0.0483 - val_masked_accuracy: 0.9808 - learning_rate: 0.0010\n",
      "Epoch 85/100\n",
      "\u001b[1m707/707\u001b[0m \u001b[32m━━━━━━━━━━━━━━━━━━━━\u001b[0m\u001b[37m\u001b[0m \u001b[1m24s\u001b[0m 34ms/step - loss: 0.0602 - masked_accuracy: 0.9763 - val_loss: 0.0479 - val_masked_accuracy: 0.9809 - learning_rate: 0.0010\n",
      "Epoch 86/100\n",
      "\u001b[1m707/707\u001b[0m \u001b[32m━━━━━━━━━━━━━━━━━━━━\u001b[0m\u001b[37m\u001b[0m \u001b[1m24s\u001b[0m 33ms/step - loss: 0.0596 - masked_accuracy: 0.9766 - val_loss: 0.0462 - val_masked_accuracy: 0.9818 - learning_rate: 0.0010\n",
      "Epoch 87/100\n",
      "\u001b[1m707/707\u001b[0m \u001b[32m━━━━━━━━━━━━━━━━━━━━\u001b[0m\u001b[37m\u001b[0m \u001b[1m24s\u001b[0m 33ms/step - loss: 0.0585 - masked_accuracy: 0.9770 - val_loss: 0.0447 - val_masked_accuracy: 0.9826 - learning_rate: 0.0010\n",
      "Epoch 88/100\n",
      "\u001b[1m707/707\u001b[0m \u001b[32m━━━━━━━━━━━━━━━━━━━━\u001b[0m\u001b[37m\u001b[0m \u001b[1m24s\u001b[0m 33ms/step - loss: 0.0587 - masked_accuracy: 0.9770 - val_loss: 0.0431 - val_masked_accuracy: 0.9831 - learning_rate: 0.0010\n",
      "Epoch 89/100\n",
      "\u001b[1m707/707\u001b[0m \u001b[32m━━━━━━━━━━━━━━━━━━━━\u001b[0m\u001b[37m\u001b[0m \u001b[1m24s\u001b[0m 33ms/step - loss: 0.0552 - masked_accuracy: 0.9784 - val_loss: 0.0429 - val_masked_accuracy: 0.9831 - learning_rate: 0.0010\n",
      "Epoch 90/100\n",
      "\u001b[1m707/707\u001b[0m \u001b[32m━━━━━━━━━━━━━━━━━━━━\u001b[0m\u001b[37m\u001b[0m \u001b[1m24s\u001b[0m 33ms/step - loss: 0.0562 - masked_accuracy: 0.9780 - val_loss: 0.0419 - val_masked_accuracy: 0.9836 - learning_rate: 0.0010\n",
      "Epoch 91/100\n",
      "\u001b[1m707/707\u001b[0m \u001b[32m━━━━━━━━━━━━━━━━━━━━\u001b[0m\u001b[37m\u001b[0m \u001b[1m24s\u001b[0m 33ms/step - loss: 0.0540 - masked_accuracy: 0.9790 - val_loss: 0.0425 - val_masked_accuracy: 0.9835 - learning_rate: 0.0010\n",
      "Epoch 92/100\n",
      "\u001b[1m707/707\u001b[0m \u001b[32m━━━━━━━━━━━━━━━━━━━━\u001b[0m\u001b[37m\u001b[0m \u001b[1m24s\u001b[0m 33ms/step - loss: 0.0547 - masked_accuracy: 0.9788 - val_loss: 0.0403 - val_masked_accuracy: 0.9843 - learning_rate: 0.0010\n",
      "Epoch 93/100\n",
      "\u001b[1m707/707\u001b[0m \u001b[32m━━━━━━━━━━━━━━━━━━━━\u001b[0m\u001b[37m\u001b[0m \u001b[1m24s\u001b[0m 33ms/step - loss: 0.0528 - masked_accuracy: 0.9795 - val_loss: 0.0390 - val_masked_accuracy: 0.9848 - learning_rate: 0.0010\n",
      "Epoch 94/100\n",
      "\u001b[1m707/707\u001b[0m \u001b[32m━━━━━━━━━━━━━━━━━━━━\u001b[0m\u001b[37m\u001b[0m \u001b[1m24s\u001b[0m 33ms/step - loss: 0.0503 - masked_accuracy: 0.9804 - val_loss: 0.0384 - val_masked_accuracy: 0.9852 - learning_rate: 0.0010\n",
      "Epoch 95/100\n",
      "\u001b[1m707/707\u001b[0m \u001b[32m━━━━━━━━━━━━━━━━━━━━\u001b[0m\u001b[37m\u001b[0m \u001b[1m24s\u001b[0m 33ms/step - loss: 0.0496 - masked_accuracy: 0.9807 - val_loss: 0.0394 - val_masked_accuracy: 0.9847 - learning_rate: 0.0010\n",
      "Epoch 96/100\n",
      "\u001b[1m707/707\u001b[0m \u001b[32m━━━━━━━━━━━━━━━━━━━━\u001b[0m\u001b[37m\u001b[0m \u001b[1m24s\u001b[0m 33ms/step - loss: 0.0494 - masked_accuracy: 0.9808 - val_loss: 0.0372 - val_masked_accuracy: 0.9857 - learning_rate: 0.0010\n",
      "Epoch 97/100\n",
      "\u001b[1m707/707\u001b[0m \u001b[32m━━━━━━━━━━━━━━━━━━━━\u001b[0m\u001b[37m\u001b[0m \u001b[1m24s\u001b[0m 33ms/step - loss: 0.0509 - masked_accuracy: 0.9806 - val_loss: 0.0369 - val_masked_accuracy: 0.9857 - learning_rate: 0.0010\n",
      "Epoch 98/100\n",
      "\u001b[1m707/707\u001b[0m \u001b[32m━━━━━━━━━━━━━━━━━━━━\u001b[0m\u001b[37m\u001b[0m \u001b[1m24s\u001b[0m 33ms/step - loss: 0.0476 - masked_accuracy: 0.9816 - val_loss: 0.0361 - val_masked_accuracy: 0.9860 - learning_rate: 0.0010\n",
      "Epoch 99/100\n",
      "\u001b[1m707/707\u001b[0m \u001b[32m━━━━━━━━━━━━━━━━━━━━\u001b[0m\u001b[37m\u001b[0m \u001b[1m24s\u001b[0m 33ms/step - loss: 0.0468 - masked_accuracy: 0.9819 - val_loss: 0.0345 - val_masked_accuracy: 0.9866 - learning_rate: 0.0010\n",
      "Epoch 100/100\n",
      "\u001b[1m707/707\u001b[0m \u001b[32m━━━━━━━━━━━━━━━━━━━━\u001b[0m\u001b[37m\u001b[0m \u001b[1m24s\u001b[0m 33ms/step - loss: 0.0471 - masked_accuracy: 0.9819 - val_loss: 0.0344 - val_masked_accuracy: 0.9868 - learning_rate: 0.0010\n"
     ]
    }
   ],
   "source": [
    "transformer.fit(X_train,y_train,X_val,y_val)"
   ]
  },
  {
   "cell_type": "markdown",
   "id": "c4ca8dee",
   "metadata": {
    "id": "c4ca8dee"
   },
   "source": [
    "### Evaluate"
   ]
  },
  {
   "cell_type": "code",
   "execution_count": 19,
   "id": "2_joHY4EKGKB",
   "metadata": {
    "colab": {
     "base_uri": "https://localhost:8080/"
    },
    "executionInfo": {
     "elapsed": 19880,
     "status": "ok",
     "timestamp": 1759569036735,
     "user": {
      "displayName": "Anna Braghetto",
      "userId": "08361497697639421184"
     },
     "user_tz": -120
    },
    "id": "2_joHY4EKGKB",
    "outputId": "00d9733d-822d-4f8e-df71-e77b7a8d0310"
   },
   "outputs": [
    {
     "name": "stdout",
     "output_type": "stream",
     "text": [
      "\u001b[1m707/707\u001b[0m \u001b[32m━━━━━━━━━━━━━━━━━━━━\u001b[0m\u001b[37m\u001b[0m \u001b[1m8s\u001b[0m 11ms/step - loss: 0.0347 - masked_accuracy: 0.9867\n",
      "Train accuracy: 0.9868\n",
      "\u001b[1m261/261\u001b[0m \u001b[32m━━━━━━━━━━━━━━━━━━━━\u001b[0m\u001b[37m\u001b[0m \u001b[1m12s\u001b[0m 48ms/step - loss: 0.0487 - masked_accuracy: 0.9818\n",
      "Test accuracy: 0.9836\n"
     ]
    }
   ],
   "source": [
    "_, train_acc = transformer.model.evaluate(X_train, y_train, batch_size=32)\n",
    "print(f'Train accuracy: {train_acc:.4f}')\n",
    "_, test_acc = transformer.model.evaluate(X_test, y_test, batch_size=32)\n",
    "print(f'Test accuracy: {test_acc:.4f}')"
   ]
  },
  {
   "cell_type": "markdown",
   "id": "5d916baa",
   "metadata": {
    "id": "5d916baa"
   },
   "source": [
    "The model achieves a training and test accuracy close to 99%, indicating that it has learned to predict the next token in DNA sequences with high reliability.\n",
    "\n",
    "This level of performance suggests that the model has effectively captured the statistical patterns and dependencies present in the data, such as short-range correlations, recurring motifs, or sequence regularities.\n",
    "\n",
    "The near-identical accuracy on both training and test sets is a strong indication of the model's ability to generalize, rather than memorizing specific sequences. It also confirms that the architecture and training strategy are well-suited to the task."
   ]
  },
  {
   "cell_type": "code",
   "execution_count": 20,
   "id": "pcqLsNufZbRM",
   "metadata": {
    "colab": {
     "base_uri": "https://localhost:8080/"
    },
    "executionInfo": {
     "elapsed": 89446,
     "status": "ok",
     "timestamp": 1759569126244,
     "user": {
      "displayName": "Anna Braghetto",
      "userId": "08361497697639421184"
     },
     "user_tz": -120
    },
    "id": "pcqLsNufZbRM",
    "outputId": "77aa086d-d915-49ba-e64d-68d511836a19"
   },
   "outputs": [
    {
     "name": "stdout",
     "output_type": "stream",
     "text": [
      "Test perplexity: 1.05\n"
     ]
    }
   ],
   "source": [
    "test_perplexity = transformer.compute_perplexity(X_test, y_test, batch_size=16)\n",
    "print(f'Test perplexity: {test_perplexity:.2f}')"
   ]
  },
  {
   "cell_type": "markdown",
   "id": "58dba38f",
   "metadata": {
    "id": "58dba38f"
   },
   "source": [
    "In language modeling, perplexity measures the average branching factor: a perplexity close to 1 suggests that the model assigns very high probability to the correct next token in the sequence. This means that the model has a near-deterministic understanding of the training distribution, which is a strong indicator of convergence and overfitting is unlikely when such low perplexity is also reflected on the validation or test set.\n",
    "\n",
    "The model achieved a test set perplexity of 1.05, indicating that it is highly confident in its predictions and has effectively learned the statistical structure of the nucleotide sequences."
   ]
  },
  {
   "cell_type": "markdown",
   "id": "7843e8f9",
   "metadata": {
    "id": "7843e8f9"
   },
   "source": [
    "### Examples of generation"
   ]
  },
  {
   "cell_type": "code",
   "execution_count": 22,
   "id": "4951127f",
   "metadata": {
    "colab": {
     "base_uri": "https://localhost:8080/"
    },
    "executionInfo": {
     "elapsed": 10868,
     "status": "ok",
     "timestamp": 1759569541453,
     "user": {
      "displayName": "Anna Braghetto",
      "userId": "08361497697639421184"
     },
     "user_tz": -120
    },
    "id": "4951127f",
    "outputId": "9ba3a43f-ee72-48eb-81e0-7a6bd16a1b8f"
   },
   "outputs": [
    {
     "name": "stdout",
     "output_type": "stream",
     "text": [
      "Sample 1: AACGATTACTTTGTCTCTCTTTTCCTCTTTTCACCCTTTCCTCCCCATTCTGTAA\n",
      "Sequence length: 55, GC count: 22\n",
      "GC content: 40.00%\n",
      "\n",
      "Sample 2: AACGATTTTATCCTCCCCTCCTGCAATTACTCTCAGCGCTACTTCTACCCCCTTC\n",
      "Sequence length: 55, GC count: 27\n",
      "GC content: 49.09%\n",
      "\n",
      "Sample 3: AACGATTCTCCTTTACCTTTCCTTAATCCCCCCCGAATTCCTTTATCTTCCTTTT\n",
      "Sequence length: 55, GC count: 22\n",
      "GC content: 40.00%\n",
      "\n"
     ]
    }
   ],
   "source": [
    "#generate samples\n",
    "tokens = transformer.generate_samples(seed_seq=[100], num_samples=3, gen_len=50, temperature=1)\n",
    "\n",
    "#for each generated token sequence\n",
    "for i, token_seq in enumerate(tokens):\n",
    "    #detokenize the sequence\n",
    "    seq = detokenize(token_seq, k=6)\n",
    "    #get the dna string\n",
    "    dna_string = kmers_to_sequence(seq)\n",
    "    #calculate gc content\n",
    "    gc_count = dna_string.count('G') + dna_string.count('C')\n",
    "    #calculate gc percent\n",
    "    gc_percent = (gc_count / len(dna_string)) * 100\n",
    "    #print the results\n",
    "    print(f'Sample {i+1}: {dna_string}')\n",
    "    print(f'Sequence length: {len(dna_string)}, GC count: {gc_count}')\n",
    "    print(f'GC content: {gc_percent:.2f}%\\n')\n"
   ]
  },
  {
   "cell_type": "markdown",
   "id": "8b9638e1",
   "metadata": {
    "id": "8b9638e1"
   },
   "source": [
    "The generated DNA sequences are biologically plausible, with lengths consistent with the training dataset (55 nucleotides) and GC content ranging from 40% to 49%. All four nucleotides (A, T, G, C) are represented, and no impossible patterns are observed. These characteristics indicate that the model successfully captures the overall nucleotide distribution and sequence structure present in the training data."
   ]
  },
  {
   "cell_type": "markdown",
   "id": "A24TVLHMbo7e",
   "metadata": {
    "id": "A24TVLHMbo7e"
   },
   "source": []
  }
 ],
 "metadata": {
  "accelerator": "GPU",
  "colab": {
   "gpuType": "A100",
   "machine_shape": "hm",
   "provenance": []
  },
  "kernelspec": {
   "display_name": "base",
   "language": "python",
   "name": "python3"
  },
  "language_info": {
   "codemirror_mode": {
    "name": "ipython",
    "version": 3
   },
   "file_extension": ".py",
   "mimetype": "text/x-python",
   "name": "python",
   "nbconvert_exporter": "python",
   "pygments_lexer": "ipython3",
   "version": "3.12.2"
  }
 },
 "nbformat": 4,
 "nbformat_minor": 5
}
