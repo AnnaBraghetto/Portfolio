{
 "cells": [
  {
   "cell_type": "markdown",
   "id": "c4397b04-4f88-49a8-9a90-d1bfa77aff7f",
   "metadata": {},
   "source": [
    "# Interpretable machine learning of amino acid patterns in proteins: a statistical ensemble approach\n",
    "\n",
    "Anna Braghetto, Enzo Orlandini, and Marco Baiesi. “Interpretable machine learning of amino acid patterns in proteins: a statistical ensemble approach”. In: _Journal of Chemical Theory and Computation_ 19.11 (2023)\n",
    "\n",
    "[Link to paper](https://pubs.acs.org/doi/10.1021/acs.jctc.3c00383)"
   ]
  },
  {
   "cell_type": "code",
   "execution_count": null,
   "id": "34512007-66fa-4f11-8756-587af650f470",
   "metadata": {},
   "outputs": [],
   "source": []
  }
 ],
 "metadata": {
  "kernelspec": {
   "display_name": "Python 3 (ipykernel)",
   "language": "python",
   "name": "python3"
  },
  "language_info": {
   "codemirror_mode": {
    "name": "ipython",
    "version": 3
   },
   "file_extension": ".py",
   "mimetype": "text/x-python",
   "name": "python",
   "nbconvert_exporter": "python",
   "pygments_lexer": "ipython3",
   "version": "3.12.7"
  }
 },
 "nbformat": 4,
 "nbformat_minor": 5
}
