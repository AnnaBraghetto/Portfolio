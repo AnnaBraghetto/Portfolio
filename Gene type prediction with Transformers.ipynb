{
 "cells": [
  {
   "cell_type": "markdown",
   "id": "e5e7bdfe-d269-495e-a63e-0bad952c9af8",
   "metadata": {
    "id": "e5e7bdfe-d269-495e-a63e-0bad952c9af8"
   },
   "source": [
    "# Gene type prediction with Transformers\n",
    "\n",
    "Data collected from [Kaggle](https://www.kaggle.com/datasets/harshvardhan21/dna-sequence-prediction?resource=download&select=validation.csv) referes to nuocletide sequences and gene type encoded within them."
   ]
  },
  {
   "cell_type": "code",
   "execution_count": 29,
   "id": "K7A8uA39GbxJ",
   "metadata": {
    "colab": {
     "base_uri": "https://localhost:8080/"
    },
    "executionInfo": {
     "elapsed": 1412,
     "status": "ok",
     "timestamp": 1758727348798,
     "user": {
      "displayName": "Anna Braghetto",
      "userId": "08361497697639421184"
     },
     "user_tz": -120
    },
    "id": "K7A8uA39GbxJ",
    "outputId": "397de935-73db-4133-9d1b-37df29f02bd5"
   },
   "outputs": [
    {
     "name": "stdout",
     "output_type": "stream",
     "text": [
      "The history saving thread hit an unexpected error (OperationalError('attempt to write a readonly database')).History will not be written to the database.\n"
     ]
    }
   ],
   "source": [
    "import pandas as pd\n",
    "import numpy as np\n",
    "\n",
    "import matplotlib.pyplot as plt\n",
    "import seaborn as sns\n",
    "\n",
    "from sklearn.preprocessing import LabelEncoder\n",
    "from sklearn.metrics import confusion_matrix\n",
    "\n",
    "import tensorflow as tf\n",
    "from tensorflow import keras\n",
    "from keras import layers, models\n",
    "from keras.callbacks import EarlyStopping, ReduceLROnPlateau\n",
    "from keras.preprocessing.sequence import pad_sequences"
   ]
  },
  {
   "cell_type": "code",
   "execution_count": 3,
   "id": "59b5659e-bc3a-4740-8ea9-b6bbdfa890b8",
   "metadata": {
    "colab": {
     "base_uri": "https://localhost:8080/"
    },
    "executionInfo": {
     "elapsed": 1020,
     "status": "ok",
     "timestamp": 1758727349822,
     "user": {
      "displayName": "Anna Braghetto",
      "userId": "08361497697639421184"
     },
     "user_tz": -120
    },
    "id": "59b5659e-bc3a-4740-8ea9-b6bbdfa890b8",
    "outputId": "21c2594e-4903-41ad-e732-3cf24b64e279"
   },
   "outputs": [
    {
     "name": "stdout",
     "output_type": "stream",
     "text": [
      "Training data shape: (22593, 7)\n",
      "Validation data shape: (4577, 7)\n",
      "Test data shape: (8326, 7)\n"
     ]
    }
   ],
   "source": [
    "#load the datasets\n",
    "train_df = pd.read_csv('train.csv', encoding='ascii')\n",
    "val_df = pd.read_csv('validation.csv', encoding='ascii')\n",
    "test_df = pd.read_csv('test.csv', encoding='ascii')\n",
    "\n",
    "#dump on screen the shapes of the datasets\n",
    "print('Training data shape:', train_df.shape)\n",
    "print('Validation data shape:', val_df.shape)\n",
    "print('Test data shape:', test_df.shape)"
   ]
  },
  {
   "cell_type": "code",
   "execution_count": 4,
   "id": "f353e655",
   "metadata": {
    "colab": {
     "base_uri": "https://localhost:8080/",
     "height": 238
    },
    "executionInfo": {
     "elapsed": 391,
     "status": "ok",
     "timestamp": 1758727350217,
     "user": {
      "displayName": "Anna Braghetto",
      "userId": "08361497697639421184"
     },
     "user_tz": -120
    },
    "id": "f353e655",
    "outputId": "6868e9f9-5ba5-4f0d-8c14-51eb8a22fc53"
   },
   "outputs": [
    {
     "data": {
      "application/vnd.google.colaboratory.intrinsic+json": {
       "summary": "{\n  \"name\": \"train_df\",\n  \"rows\": 22593,\n  \"fields\": [\n    {\n      \"column\": \"Unnamed: 0\",\n      \"properties\": {\n        \"dtype\": \"number\",\n        \"std\": 5345,\n        \"min\": 0,\n        \"max\": 19021,\n        \"num_unique_values\": 18474,\n        \"samples\": [\n          17401,\n          17291,\n          9934\n        ],\n        \"semantic_type\": \"\",\n        \"description\": \"\"\n      }\n    },\n    {\n      \"column\": \"NCBIGeneID\",\n      \"properties\": {\n        \"dtype\": \"number\",\n        \"std\": 43289961,\n        \"min\": 63,\n        \"max\": 124909496,\n        \"num_unique_values\": 22593,\n        \"samples\": [\n          101060189,\n          107075232,\n          106480358\n        ],\n        \"semantic_type\": \"\",\n        \"description\": \"\"\n      }\n    },\n    {\n      \"column\": \"Symbol\",\n      \"properties\": {\n        \"dtype\": \"string\",\n        \"num_unique_values\": 22530,\n        \"samples\": [\n          \"HMGN2P10\",\n          \"RN7SL478P\",\n          \"RNA5SP35\"\n        ],\n        \"semantic_type\": \"\",\n        \"description\": \"\"\n      }\n    },\n    {\n      \"column\": \"Description\",\n      \"properties\": {\n        \"dtype\": \"string\",\n        \"num_unique_values\": 21034,\n        \"samples\": [\n          \"uncharacterized LOC124903626\",\n          \"eukaryotic translation initiation factor 3 subunit K pseudogene 2\",\n          \"peptidylprolyl isomerase A pseudogene 1\"\n        ],\n        \"semantic_type\": \"\",\n        \"description\": \"\"\n      }\n    },\n    {\n      \"column\": \"GeneType\",\n      \"properties\": {\n        \"dtype\": \"category\",\n        \"num_unique_values\": 10,\n        \"samples\": [\n          \"scRNA\",\n          \"BIOLOGICAL_REGION\",\n          \"ncRNA\"\n        ],\n        \"semantic_type\": \"\",\n        \"description\": \"\"\n      }\n    },\n    {\n      \"column\": \"GeneGroupMethod\",\n      \"properties\": {\n        \"dtype\": \"category\",\n        \"num_unique_values\": 1,\n        \"samples\": [\n          \"NCBI Ortholog\"\n        ],\n        \"semantic_type\": \"\",\n        \"description\": \"\"\n      }\n    },\n    {\n      \"column\": \"NucleotideSequence\",\n      \"properties\": {\n        \"dtype\": \"string\",\n        \"num_unique_values\": 21884,\n        \"samples\": [\n          \"<GGCTTCGTGGCTTAGCTGGTTAAAGCGCCTGTCTAGTAAACAGGAGATCCTGGGTTCGAATCCCAGCGAGGCCT>\"\n        ],\n        \"semantic_type\": \"\",\n        \"description\": \"\"\n      }\n    }\n  ]\n}",
       "type": "dataframe",
       "variable_name": "train_df"
      },
      "text/html": [
       "\n",
       "  <div id=\"df-c0630006-3848-4052-9cc9-b42bc20a3333\" class=\"colab-df-container\">\n",
       "    <div>\n",
       "<style scoped>\n",
       "    .dataframe tbody tr th:only-of-type {\n",
       "        vertical-align: middle;\n",
       "    }\n",
       "\n",
       "    .dataframe tbody tr th {\n",
       "        vertical-align: top;\n",
       "    }\n",
       "\n",
       "    .dataframe thead th {\n",
       "        text-align: right;\n",
       "    }\n",
       "</style>\n",
       "<table border=\"1\" class=\"dataframe\">\n",
       "  <thead>\n",
       "    <tr style=\"text-align: right;\">\n",
       "      <th></th>\n",
       "      <th>Unnamed: 0</th>\n",
       "      <th>NCBIGeneID</th>\n",
       "      <th>Symbol</th>\n",
       "      <th>Description</th>\n",
       "      <th>GeneType</th>\n",
       "      <th>GeneGroupMethod</th>\n",
       "      <th>NucleotideSequence</th>\n",
       "    </tr>\n",
       "  </thead>\n",
       "  <tbody>\n",
       "    <tr>\n",
       "      <th>0</th>\n",
       "      <td>0</td>\n",
       "      <td>106481178</td>\n",
       "      <td>RNU4-21P</td>\n",
       "      <td>RNA, U4 small nuclear 21, pseudogene</td>\n",
       "      <td>PSEUDO</td>\n",
       "      <td>NCBI Ortholog</td>\n",
       "      <td>&lt;AGCTTAGCACAGTGGCAGTATCATAGGCAGTGAGGTTTATCCGAG...</td>\n",
       "    </tr>\n",
       "    <tr>\n",
       "      <th>1</th>\n",
       "      <td>1</td>\n",
       "      <td>123477792</td>\n",
       "      <td>LOC123477792</td>\n",
       "      <td>Sharpr-MPRA regulatory region 12926</td>\n",
       "      <td>BIOLOGICAL_REGION</td>\n",
       "      <td>NCBI Ortholog</td>\n",
       "      <td>&lt;CTGGAGCGGCCACGATGTGAACTGTCACCGGCCACTGCTGCTCCG...</td>\n",
       "    </tr>\n",
       "    <tr>\n",
       "      <th>2</th>\n",
       "      <td>2</td>\n",
       "      <td>113174975</td>\n",
       "      <td>LOC113174975</td>\n",
       "      <td>Sharpr-MPRA regulatory region 7591</td>\n",
       "      <td>BIOLOGICAL_REGION</td>\n",
       "      <td>NCBI Ortholog</td>\n",
       "      <td>&lt;TTCCCAATTTTTCCTCTGCTTTTTAATTTTCTAGTTTCCTTTTTC...</td>\n",
       "    </tr>\n",
       "    <tr>\n",
       "      <th>3</th>\n",
       "      <td>3</td>\n",
       "      <td>116216107</td>\n",
       "      <td>LOC116216107</td>\n",
       "      <td>CRISPRi-validated cis-regulatory element chr10...</td>\n",
       "      <td>BIOLOGICAL_REGION</td>\n",
       "      <td>NCBI Ortholog</td>\n",
       "      <td>&lt;CGCCCAGGCTGGAGTGCAGTGGCGCCATCTCGGCTCACTGCAGGC...</td>\n",
       "    </tr>\n",
       "    <tr>\n",
       "      <th>4</th>\n",
       "      <td>4</td>\n",
       "      <td>28502</td>\n",
       "      <td>IGHD2-21</td>\n",
       "      <td>immunoglobulin heavy diversity 2-21</td>\n",
       "      <td>OTHER</td>\n",
       "      <td>NCBI Ortholog</td>\n",
       "      <td>&lt;AGCATATTGTGGTGGTGACTGCTATTCC&gt;</td>\n",
       "    </tr>\n",
       "  </tbody>\n",
       "</table>\n",
       "</div>\n",
       "    <div class=\"colab-df-buttons\">\n",
       "\n",
       "  <div class=\"colab-df-container\">\n",
       "    <button class=\"colab-df-convert\" onclick=\"convertToInteractive('df-c0630006-3848-4052-9cc9-b42bc20a3333')\"\n",
       "            title=\"Convert this dataframe to an interactive table.\"\n",
       "            style=\"display:none;\">\n",
       "\n",
       "  <svg xmlns=\"http://www.w3.org/2000/svg\" height=\"24px\" viewBox=\"0 -960 960 960\">\n",
       "    <path d=\"M120-120v-720h720v720H120Zm60-500h600v-160H180v160Zm220 220h160v-160H400v160Zm0 220h160v-160H400v160ZM180-400h160v-160H180v160Zm440 0h160v-160H620v160ZM180-180h160v-160H180v160Zm440 0h160v-160H620v160Z\"/>\n",
       "  </svg>\n",
       "    </button>\n",
       "\n",
       "  <style>\n",
       "    .colab-df-container {\n",
       "      display:flex;\n",
       "      gap: 12px;\n",
       "    }\n",
       "\n",
       "    .colab-df-convert {\n",
       "      background-color: #E8F0FE;\n",
       "      border: none;\n",
       "      border-radius: 50%;\n",
       "      cursor: pointer;\n",
       "      display: none;\n",
       "      fill: #1967D2;\n",
       "      height: 32px;\n",
       "      padding: 0 0 0 0;\n",
       "      width: 32px;\n",
       "    }\n",
       "\n",
       "    .colab-df-convert:hover {\n",
       "      background-color: #E2EBFA;\n",
       "      box-shadow: 0px 1px 2px rgba(60, 64, 67, 0.3), 0px 1px 3px 1px rgba(60, 64, 67, 0.15);\n",
       "      fill: #174EA6;\n",
       "    }\n",
       "\n",
       "    .colab-df-buttons div {\n",
       "      margin-bottom: 4px;\n",
       "    }\n",
       "\n",
       "    [theme=dark] .colab-df-convert {\n",
       "      background-color: #3B4455;\n",
       "      fill: #D2E3FC;\n",
       "    }\n",
       "\n",
       "    [theme=dark] .colab-df-convert:hover {\n",
       "      background-color: #434B5C;\n",
       "      box-shadow: 0px 1px 3px 1px rgba(0, 0, 0, 0.15);\n",
       "      filter: drop-shadow(0px 1px 2px rgba(0, 0, 0, 0.3));\n",
       "      fill: #FFFFFF;\n",
       "    }\n",
       "  </style>\n",
       "\n",
       "    <script>\n",
       "      const buttonEl =\n",
       "        document.querySelector('#df-c0630006-3848-4052-9cc9-b42bc20a3333 button.colab-df-convert');\n",
       "      buttonEl.style.display =\n",
       "        google.colab.kernel.accessAllowed ? 'block' : 'none';\n",
       "\n",
       "      async function convertToInteractive(key) {\n",
       "        const element = document.querySelector('#df-c0630006-3848-4052-9cc9-b42bc20a3333');\n",
       "        const dataTable =\n",
       "          await google.colab.kernel.invokeFunction('convertToInteractive',\n",
       "                                                    [key], {});\n",
       "        if (!dataTable) return;\n",
       "\n",
       "        const docLinkHtml = 'Like what you see? Visit the ' +\n",
       "          '<a target=\"_blank\" href=https://colab.research.google.com/notebooks/data_table.ipynb>data table notebook</a>'\n",
       "          + ' to learn more about interactive tables.';\n",
       "        element.innerHTML = '';\n",
       "        dataTable['output_type'] = 'display_data';\n",
       "        await google.colab.output.renderOutput(dataTable, element);\n",
       "        const docLink = document.createElement('div');\n",
       "        docLink.innerHTML = docLinkHtml;\n",
       "        element.appendChild(docLink);\n",
       "      }\n",
       "    </script>\n",
       "  </div>\n",
       "\n",
       "\n",
       "    <div id=\"df-895feabc-310c-446c-a287-769a4a75cc0e\">\n",
       "      <button class=\"colab-df-quickchart\" onclick=\"quickchart('df-895feabc-310c-446c-a287-769a4a75cc0e')\"\n",
       "                title=\"Suggest charts\"\n",
       "                style=\"display:none;\">\n",
       "\n",
       "<svg xmlns=\"http://www.w3.org/2000/svg\" height=\"24px\"viewBox=\"0 0 24 24\"\n",
       "     width=\"24px\">\n",
       "    <g>\n",
       "        <path d=\"M19 3H5c-1.1 0-2 .9-2 2v14c0 1.1.9 2 2 2h14c1.1 0 2-.9 2-2V5c0-1.1-.9-2-2-2zM9 17H7v-7h2v7zm4 0h-2V7h2v10zm4 0h-2v-4h2v4z\"/>\n",
       "    </g>\n",
       "</svg>\n",
       "      </button>\n",
       "\n",
       "<style>\n",
       "  .colab-df-quickchart {\n",
       "      --bg-color: #E8F0FE;\n",
       "      --fill-color: #1967D2;\n",
       "      --hover-bg-color: #E2EBFA;\n",
       "      --hover-fill-color: #174EA6;\n",
       "      --disabled-fill-color: #AAA;\n",
       "      --disabled-bg-color: #DDD;\n",
       "  }\n",
       "\n",
       "  [theme=dark] .colab-df-quickchart {\n",
       "      --bg-color: #3B4455;\n",
       "      --fill-color: #D2E3FC;\n",
       "      --hover-bg-color: #434B5C;\n",
       "      --hover-fill-color: #FFFFFF;\n",
       "      --disabled-bg-color: #3B4455;\n",
       "      --disabled-fill-color: #666;\n",
       "  }\n",
       "\n",
       "  .colab-df-quickchart {\n",
       "    background-color: var(--bg-color);\n",
       "    border: none;\n",
       "    border-radius: 50%;\n",
       "    cursor: pointer;\n",
       "    display: none;\n",
       "    fill: var(--fill-color);\n",
       "    height: 32px;\n",
       "    padding: 0;\n",
       "    width: 32px;\n",
       "  }\n",
       "\n",
       "  .colab-df-quickchart:hover {\n",
       "    background-color: var(--hover-bg-color);\n",
       "    box-shadow: 0 1px 2px rgba(60, 64, 67, 0.3), 0 1px 3px 1px rgba(60, 64, 67, 0.15);\n",
       "    fill: var(--button-hover-fill-color);\n",
       "  }\n",
       "\n",
       "  .colab-df-quickchart-complete:disabled,\n",
       "  .colab-df-quickchart-complete:disabled:hover {\n",
       "    background-color: var(--disabled-bg-color);\n",
       "    fill: var(--disabled-fill-color);\n",
       "    box-shadow: none;\n",
       "  }\n",
       "\n",
       "  .colab-df-spinner {\n",
       "    border: 2px solid var(--fill-color);\n",
       "    border-color: transparent;\n",
       "    border-bottom-color: var(--fill-color);\n",
       "    animation:\n",
       "      spin 1s steps(1) infinite;\n",
       "  }\n",
       "\n",
       "  @keyframes spin {\n",
       "    0% {\n",
       "      border-color: transparent;\n",
       "      border-bottom-color: var(--fill-color);\n",
       "      border-left-color: var(--fill-color);\n",
       "    }\n",
       "    20% {\n",
       "      border-color: transparent;\n",
       "      border-left-color: var(--fill-color);\n",
       "      border-top-color: var(--fill-color);\n",
       "    }\n",
       "    30% {\n",
       "      border-color: transparent;\n",
       "      border-left-color: var(--fill-color);\n",
       "      border-top-color: var(--fill-color);\n",
       "      border-right-color: var(--fill-color);\n",
       "    }\n",
       "    40% {\n",
       "      border-color: transparent;\n",
       "      border-right-color: var(--fill-color);\n",
       "      border-top-color: var(--fill-color);\n",
       "    }\n",
       "    60% {\n",
       "      border-color: transparent;\n",
       "      border-right-color: var(--fill-color);\n",
       "    }\n",
       "    80% {\n",
       "      border-color: transparent;\n",
       "      border-right-color: var(--fill-color);\n",
       "      border-bottom-color: var(--fill-color);\n",
       "    }\n",
       "    90% {\n",
       "      border-color: transparent;\n",
       "      border-bottom-color: var(--fill-color);\n",
       "    }\n",
       "  }\n",
       "</style>\n",
       "\n",
       "      <script>\n",
       "        async function quickchart(key) {\n",
       "          const quickchartButtonEl =\n",
       "            document.querySelector('#' + key + ' button');\n",
       "          quickchartButtonEl.disabled = true;  // To prevent multiple clicks.\n",
       "          quickchartButtonEl.classList.add('colab-df-spinner');\n",
       "          try {\n",
       "            const charts = await google.colab.kernel.invokeFunction(\n",
       "                'suggestCharts', [key], {});\n",
       "          } catch (error) {\n",
       "            console.error('Error during call to suggestCharts:', error);\n",
       "          }\n",
       "          quickchartButtonEl.classList.remove('colab-df-spinner');\n",
       "          quickchartButtonEl.classList.add('colab-df-quickchart-complete');\n",
       "        }\n",
       "        (() => {\n",
       "          let quickchartButtonEl =\n",
       "            document.querySelector('#df-895feabc-310c-446c-a287-769a4a75cc0e button');\n",
       "          quickchartButtonEl.style.display =\n",
       "            google.colab.kernel.accessAllowed ? 'block' : 'none';\n",
       "        })();\n",
       "      </script>\n",
       "    </div>\n",
       "\n",
       "    </div>\n",
       "  </div>\n"
      ],
      "text/plain": [
       "   Unnamed: 0  NCBIGeneID        Symbol  \\\n",
       "0           0   106481178      RNU4-21P   \n",
       "1           1   123477792  LOC123477792   \n",
       "2           2   113174975  LOC113174975   \n",
       "3           3   116216107  LOC116216107   \n",
       "4           4       28502      IGHD2-21   \n",
       "\n",
       "                                         Description           GeneType  \\\n",
       "0               RNA, U4 small nuclear 21, pseudogene             PSEUDO   \n",
       "1                Sharpr-MPRA regulatory region 12926  BIOLOGICAL_REGION   \n",
       "2                 Sharpr-MPRA regulatory region 7591  BIOLOGICAL_REGION   \n",
       "3  CRISPRi-validated cis-regulatory element chr10...  BIOLOGICAL_REGION   \n",
       "4                immunoglobulin heavy diversity 2-21              OTHER   \n",
       "\n",
       "  GeneGroupMethod                                 NucleotideSequence  \n",
       "0   NCBI Ortholog  <AGCTTAGCACAGTGGCAGTATCATAGGCAGTGAGGTTTATCCGAG...  \n",
       "1   NCBI Ortholog  <CTGGAGCGGCCACGATGTGAACTGTCACCGGCCACTGCTGCTCCG...  \n",
       "2   NCBI Ortholog  <TTCCCAATTTTTCCTCTGCTTTTTAATTTTCTAGTTTCCTTTTTC...  \n",
       "3   NCBI Ortholog  <CGCCCAGGCTGGAGTGCAGTGGCGCCATCTCGGCTCACTGCAGGC...  \n",
       "4   NCBI Ortholog                     <AGCATATTGTGGTGGTGACTGCTATTCC>  "
      ]
     },
     "execution_count": 4,
     "metadata": {},
     "output_type": "execute_result"
    }
   ],
   "source": [
    "#dump first five rwas on screen\n",
    "train_df.head()"
   ]
  },
  {
   "cell_type": "code",
   "execution_count": 5,
   "id": "2819c9a5",
   "metadata": {
    "colab": {
     "base_uri": "https://localhost:8080/",
     "height": 238
    },
    "executionInfo": {
     "elapsed": 282,
     "status": "ok",
     "timestamp": 1758727350509,
     "user": {
      "displayName": "Anna Braghetto",
      "userId": "08361497697639421184"
     },
     "user_tz": -120
    },
    "id": "2819c9a5",
    "outputId": "cf167c0f-0d00-468f-dd53-fec4a7d14cbb"
   },
   "outputs": [
    {
     "data": {
      "application/vnd.google.colaboratory.intrinsic+json": {
       "summary": "{\n  \"name\": \"train_df\",\n  \"rows\": 22593,\n  \"fields\": [\n    {\n      \"column\": \"Unnamed: 0\",\n      \"properties\": {\n        \"dtype\": \"number\",\n        \"std\": 5345,\n        \"min\": 0,\n        \"max\": 19021,\n        \"num_unique_values\": 18474,\n        \"samples\": [\n          17401,\n          17291,\n          9934\n        ],\n        \"semantic_type\": \"\",\n        \"description\": \"\"\n      }\n    },\n    {\n      \"column\": \"NCBIGeneID\",\n      \"properties\": {\n        \"dtype\": \"number\",\n        \"std\": 43289961,\n        \"min\": 63,\n        \"max\": 124909496,\n        \"num_unique_values\": 22593,\n        \"samples\": [\n          101060189,\n          107075232,\n          106480358\n        ],\n        \"semantic_type\": \"\",\n        \"description\": \"\"\n      }\n    },\n    {\n      \"column\": \"Symbol\",\n      \"properties\": {\n        \"dtype\": \"string\",\n        \"num_unique_values\": 22530,\n        \"samples\": [\n          \"HMGN2P10\",\n          \"RN7SL478P\",\n          \"RNA5SP35\"\n        ],\n        \"semantic_type\": \"\",\n        \"description\": \"\"\n      }\n    },\n    {\n      \"column\": \"Description\",\n      \"properties\": {\n        \"dtype\": \"string\",\n        \"num_unique_values\": 21034,\n        \"samples\": [\n          \"uncharacterized LOC124903626\",\n          \"eukaryotic translation initiation factor 3 subunit K pseudogene 2\",\n          \"peptidylprolyl isomerase A pseudogene 1\"\n        ],\n        \"semantic_type\": \"\",\n        \"description\": \"\"\n      }\n    },\n    {\n      \"column\": \"GeneType\",\n      \"properties\": {\n        \"dtype\": \"category\",\n        \"num_unique_values\": 10,\n        \"samples\": [\n          \"scRNA\",\n          \"BIOLOGICAL_REGION\",\n          \"ncRNA\"\n        ],\n        \"semantic_type\": \"\",\n        \"description\": \"\"\n      }\n    },\n    {\n      \"column\": \"GeneGroupMethod\",\n      \"properties\": {\n        \"dtype\": \"category\",\n        \"num_unique_values\": 1,\n        \"samples\": [\n          \"NCBI Ortholog\"\n        ],\n        \"semantic_type\": \"\",\n        \"description\": \"\"\n      }\n    },\n    {\n      \"column\": \"NucleotideSequence\",\n      \"properties\": {\n        \"dtype\": \"string\",\n        \"num_unique_values\": 21884,\n        \"samples\": [\n          \"GGCTTCGTGGCTTAGCTGGTTAAAGCGCCTGTCTAGTAAACAGGAGATCCTGGGTTCGAATCCCAGCGAGGCCT\"\n        ],\n        \"semantic_type\": \"\",\n        \"description\": \"\"\n      }\n    }\n  ]\n}",
       "type": "dataframe",
       "variable_name": "train_df"
      },
      "text/html": [
       "\n",
       "  <div id=\"df-ed7ce947-4e20-46ed-842d-0a407f2137a5\" class=\"colab-df-container\">\n",
       "    <div>\n",
       "<style scoped>\n",
       "    .dataframe tbody tr th:only-of-type {\n",
       "        vertical-align: middle;\n",
       "    }\n",
       "\n",
       "    .dataframe tbody tr th {\n",
       "        vertical-align: top;\n",
       "    }\n",
       "\n",
       "    .dataframe thead th {\n",
       "        text-align: right;\n",
       "    }\n",
       "</style>\n",
       "<table border=\"1\" class=\"dataframe\">\n",
       "  <thead>\n",
       "    <tr style=\"text-align: right;\">\n",
       "      <th></th>\n",
       "      <th>Unnamed: 0</th>\n",
       "      <th>NCBIGeneID</th>\n",
       "      <th>Symbol</th>\n",
       "      <th>Description</th>\n",
       "      <th>GeneType</th>\n",
       "      <th>GeneGroupMethod</th>\n",
       "      <th>NucleotideSequence</th>\n",
       "    </tr>\n",
       "  </thead>\n",
       "  <tbody>\n",
       "    <tr>\n",
       "      <th>0</th>\n",
       "      <td>0</td>\n",
       "      <td>106481178</td>\n",
       "      <td>RNU4-21P</td>\n",
       "      <td>RNA, U4 small nuclear 21, pseudogene</td>\n",
       "      <td>PSEUDO</td>\n",
       "      <td>NCBI Ortholog</td>\n",
       "      <td>AGCTTAGCACAGTGGCAGTATCATAGGCAGTGAGGTTTATCCGAGG...</td>\n",
       "    </tr>\n",
       "    <tr>\n",
       "      <th>1</th>\n",
       "      <td>1</td>\n",
       "      <td>123477792</td>\n",
       "      <td>LOC123477792</td>\n",
       "      <td>Sharpr-MPRA regulatory region 12926</td>\n",
       "      <td>BIOLOGICAL_REGION</td>\n",
       "      <td>NCBI Ortholog</td>\n",
       "      <td>CTGGAGCGGCCACGATGTGAACTGTCACCGGCCACTGCTGCTCCGA...</td>\n",
       "    </tr>\n",
       "    <tr>\n",
       "      <th>2</th>\n",
       "      <td>2</td>\n",
       "      <td>113174975</td>\n",
       "      <td>LOC113174975</td>\n",
       "      <td>Sharpr-MPRA regulatory region 7591</td>\n",
       "      <td>BIOLOGICAL_REGION</td>\n",
       "      <td>NCBI Ortholog</td>\n",
       "      <td>TTCCCAATTTTTCCTCTGCTTTTTAATTTTCTAGTTTCCTTTTTCC...</td>\n",
       "    </tr>\n",
       "    <tr>\n",
       "      <th>3</th>\n",
       "      <td>3</td>\n",
       "      <td>116216107</td>\n",
       "      <td>LOC116216107</td>\n",
       "      <td>CRISPRi-validated cis-regulatory element chr10...</td>\n",
       "      <td>BIOLOGICAL_REGION</td>\n",
       "      <td>NCBI Ortholog</td>\n",
       "      <td>CGCCCAGGCTGGAGTGCAGTGGCGCCATCTCGGCTCACTGCAGGCT...</td>\n",
       "    </tr>\n",
       "    <tr>\n",
       "      <th>4</th>\n",
       "      <td>4</td>\n",
       "      <td>28502</td>\n",
       "      <td>IGHD2-21</td>\n",
       "      <td>immunoglobulin heavy diversity 2-21</td>\n",
       "      <td>OTHER</td>\n",
       "      <td>NCBI Ortholog</td>\n",
       "      <td>AGCATATTGTGGTGGTGACTGCTATTCC</td>\n",
       "    </tr>\n",
       "  </tbody>\n",
       "</table>\n",
       "</div>\n",
       "    <div class=\"colab-df-buttons\">\n",
       "\n",
       "  <div class=\"colab-df-container\">\n",
       "    <button class=\"colab-df-convert\" onclick=\"convertToInteractive('df-ed7ce947-4e20-46ed-842d-0a407f2137a5')\"\n",
       "            title=\"Convert this dataframe to an interactive table.\"\n",
       "            style=\"display:none;\">\n",
       "\n",
       "  <svg xmlns=\"http://www.w3.org/2000/svg\" height=\"24px\" viewBox=\"0 -960 960 960\">\n",
       "    <path d=\"M120-120v-720h720v720H120Zm60-500h600v-160H180v160Zm220 220h160v-160H400v160Zm0 220h160v-160H400v160ZM180-400h160v-160H180v160Zm440 0h160v-160H620v160ZM180-180h160v-160H180v160Zm440 0h160v-160H620v160Z\"/>\n",
       "  </svg>\n",
       "    </button>\n",
       "\n",
       "  <style>\n",
       "    .colab-df-container {\n",
       "      display:flex;\n",
       "      gap: 12px;\n",
       "    }\n",
       "\n",
       "    .colab-df-convert {\n",
       "      background-color: #E8F0FE;\n",
       "      border: none;\n",
       "      border-radius: 50%;\n",
       "      cursor: pointer;\n",
       "      display: none;\n",
       "      fill: #1967D2;\n",
       "      height: 32px;\n",
       "      padding: 0 0 0 0;\n",
       "      width: 32px;\n",
       "    }\n",
       "\n",
       "    .colab-df-convert:hover {\n",
       "      background-color: #E2EBFA;\n",
       "      box-shadow: 0px 1px 2px rgba(60, 64, 67, 0.3), 0px 1px 3px 1px rgba(60, 64, 67, 0.15);\n",
       "      fill: #174EA6;\n",
       "    }\n",
       "\n",
       "    .colab-df-buttons div {\n",
       "      margin-bottom: 4px;\n",
       "    }\n",
       "\n",
       "    [theme=dark] .colab-df-convert {\n",
       "      background-color: #3B4455;\n",
       "      fill: #D2E3FC;\n",
       "    }\n",
       "\n",
       "    [theme=dark] .colab-df-convert:hover {\n",
       "      background-color: #434B5C;\n",
       "      box-shadow: 0px 1px 3px 1px rgba(0, 0, 0, 0.15);\n",
       "      filter: drop-shadow(0px 1px 2px rgba(0, 0, 0, 0.3));\n",
       "      fill: #FFFFFF;\n",
       "    }\n",
       "  </style>\n",
       "\n",
       "    <script>\n",
       "      const buttonEl =\n",
       "        document.querySelector('#df-ed7ce947-4e20-46ed-842d-0a407f2137a5 button.colab-df-convert');\n",
       "      buttonEl.style.display =\n",
       "        google.colab.kernel.accessAllowed ? 'block' : 'none';\n",
       "\n",
       "      async function convertToInteractive(key) {\n",
       "        const element = document.querySelector('#df-ed7ce947-4e20-46ed-842d-0a407f2137a5');\n",
       "        const dataTable =\n",
       "          await google.colab.kernel.invokeFunction('convertToInteractive',\n",
       "                                                    [key], {});\n",
       "        if (!dataTable) return;\n",
       "\n",
       "        const docLinkHtml = 'Like what you see? Visit the ' +\n",
       "          '<a target=\"_blank\" href=https://colab.research.google.com/notebooks/data_table.ipynb>data table notebook</a>'\n",
       "          + ' to learn more about interactive tables.';\n",
       "        element.innerHTML = '';\n",
       "        dataTable['output_type'] = 'display_data';\n",
       "        await google.colab.output.renderOutput(dataTable, element);\n",
       "        const docLink = document.createElement('div');\n",
       "        docLink.innerHTML = docLinkHtml;\n",
       "        element.appendChild(docLink);\n",
       "      }\n",
       "    </script>\n",
       "  </div>\n",
       "\n",
       "\n",
       "    <div id=\"df-07240e67-e1ca-4c62-aa66-7ebb7586bf27\">\n",
       "      <button class=\"colab-df-quickchart\" onclick=\"quickchart('df-07240e67-e1ca-4c62-aa66-7ebb7586bf27')\"\n",
       "                title=\"Suggest charts\"\n",
       "                style=\"display:none;\">\n",
       "\n",
       "<svg xmlns=\"http://www.w3.org/2000/svg\" height=\"24px\"viewBox=\"0 0 24 24\"\n",
       "     width=\"24px\">\n",
       "    <g>\n",
       "        <path d=\"M19 3H5c-1.1 0-2 .9-2 2v14c0 1.1.9 2 2 2h14c1.1 0 2-.9 2-2V5c0-1.1-.9-2-2-2zM9 17H7v-7h2v7zm4 0h-2V7h2v10zm4 0h-2v-4h2v4z\"/>\n",
       "    </g>\n",
       "</svg>\n",
       "      </button>\n",
       "\n",
       "<style>\n",
       "  .colab-df-quickchart {\n",
       "      --bg-color: #E8F0FE;\n",
       "      --fill-color: #1967D2;\n",
       "      --hover-bg-color: #E2EBFA;\n",
       "      --hover-fill-color: #174EA6;\n",
       "      --disabled-fill-color: #AAA;\n",
       "      --disabled-bg-color: #DDD;\n",
       "  }\n",
       "\n",
       "  [theme=dark] .colab-df-quickchart {\n",
       "      --bg-color: #3B4455;\n",
       "      --fill-color: #D2E3FC;\n",
       "      --hover-bg-color: #434B5C;\n",
       "      --hover-fill-color: #FFFFFF;\n",
       "      --disabled-bg-color: #3B4455;\n",
       "      --disabled-fill-color: #666;\n",
       "  }\n",
       "\n",
       "  .colab-df-quickchart {\n",
       "    background-color: var(--bg-color);\n",
       "    border: none;\n",
       "    border-radius: 50%;\n",
       "    cursor: pointer;\n",
       "    display: none;\n",
       "    fill: var(--fill-color);\n",
       "    height: 32px;\n",
       "    padding: 0;\n",
       "    width: 32px;\n",
       "  }\n",
       "\n",
       "  .colab-df-quickchart:hover {\n",
       "    background-color: var(--hover-bg-color);\n",
       "    box-shadow: 0 1px 2px rgba(60, 64, 67, 0.3), 0 1px 3px 1px rgba(60, 64, 67, 0.15);\n",
       "    fill: var(--button-hover-fill-color);\n",
       "  }\n",
       "\n",
       "  .colab-df-quickchart-complete:disabled,\n",
       "  .colab-df-quickchart-complete:disabled:hover {\n",
       "    background-color: var(--disabled-bg-color);\n",
       "    fill: var(--disabled-fill-color);\n",
       "    box-shadow: none;\n",
       "  }\n",
       "\n",
       "  .colab-df-spinner {\n",
       "    border: 2px solid var(--fill-color);\n",
       "    border-color: transparent;\n",
       "    border-bottom-color: var(--fill-color);\n",
       "    animation:\n",
       "      spin 1s steps(1) infinite;\n",
       "  }\n",
       "\n",
       "  @keyframes spin {\n",
       "    0% {\n",
       "      border-color: transparent;\n",
       "      border-bottom-color: var(--fill-color);\n",
       "      border-left-color: var(--fill-color);\n",
       "    }\n",
       "    20% {\n",
       "      border-color: transparent;\n",
       "      border-left-color: var(--fill-color);\n",
       "      border-top-color: var(--fill-color);\n",
       "    }\n",
       "    30% {\n",
       "      border-color: transparent;\n",
       "      border-left-color: var(--fill-color);\n",
       "      border-top-color: var(--fill-color);\n",
       "      border-right-color: var(--fill-color);\n",
       "    }\n",
       "    40% {\n",
       "      border-color: transparent;\n",
       "      border-right-color: var(--fill-color);\n",
       "      border-top-color: var(--fill-color);\n",
       "    }\n",
       "    60% {\n",
       "      border-color: transparent;\n",
       "      border-right-color: var(--fill-color);\n",
       "    }\n",
       "    80% {\n",
       "      border-color: transparent;\n",
       "      border-right-color: var(--fill-color);\n",
       "      border-bottom-color: var(--fill-color);\n",
       "    }\n",
       "    90% {\n",
       "      border-color: transparent;\n",
       "      border-bottom-color: var(--fill-color);\n",
       "    }\n",
       "  }\n",
       "</style>\n",
       "\n",
       "      <script>\n",
       "        async function quickchart(key) {\n",
       "          const quickchartButtonEl =\n",
       "            document.querySelector('#' + key + ' button');\n",
       "          quickchartButtonEl.disabled = true;  // To prevent multiple clicks.\n",
       "          quickchartButtonEl.classList.add('colab-df-spinner');\n",
       "          try {\n",
       "            const charts = await google.colab.kernel.invokeFunction(\n",
       "                'suggestCharts', [key], {});\n",
       "          } catch (error) {\n",
       "            console.error('Error during call to suggestCharts:', error);\n",
       "          }\n",
       "          quickchartButtonEl.classList.remove('colab-df-spinner');\n",
       "          quickchartButtonEl.classList.add('colab-df-quickchart-complete');\n",
       "        }\n",
       "        (() => {\n",
       "          let quickchartButtonEl =\n",
       "            document.querySelector('#df-07240e67-e1ca-4c62-aa66-7ebb7586bf27 button');\n",
       "          quickchartButtonEl.style.display =\n",
       "            google.colab.kernel.accessAllowed ? 'block' : 'none';\n",
       "        })();\n",
       "      </script>\n",
       "    </div>\n",
       "\n",
       "    </div>\n",
       "  </div>\n"
      ],
      "text/plain": [
       "   Unnamed: 0  NCBIGeneID        Symbol  \\\n",
       "0           0   106481178      RNU4-21P   \n",
       "1           1   123477792  LOC123477792   \n",
       "2           2   113174975  LOC113174975   \n",
       "3           3   116216107  LOC116216107   \n",
       "4           4       28502      IGHD2-21   \n",
       "\n",
       "                                         Description           GeneType  \\\n",
       "0               RNA, U4 small nuclear 21, pseudogene             PSEUDO   \n",
       "1                Sharpr-MPRA regulatory region 12926  BIOLOGICAL_REGION   \n",
       "2                 Sharpr-MPRA regulatory region 7591  BIOLOGICAL_REGION   \n",
       "3  CRISPRi-validated cis-regulatory element chr10...  BIOLOGICAL_REGION   \n",
       "4                immunoglobulin heavy diversity 2-21              OTHER   \n",
       "\n",
       "  GeneGroupMethod                                 NucleotideSequence  \n",
       "0   NCBI Ortholog  AGCTTAGCACAGTGGCAGTATCATAGGCAGTGAGGTTTATCCGAGG...  \n",
       "1   NCBI Ortholog  CTGGAGCGGCCACGATGTGAACTGTCACCGGCCACTGCTGCTCCGA...  \n",
       "2   NCBI Ortholog  TTCCCAATTTTTCCTCTGCTTTTTAATTTTCTAGTTTCCTTTTTCC...  \n",
       "3   NCBI Ortholog  CGCCCAGGCTGGAGTGCAGTGGCGCCATCTCGGCTCACTGCAGGCT...  \n",
       "4   NCBI Ortholog                       AGCATATTGTGGTGGTGACTGCTATTCC  "
      ]
     },
     "execution_count": 5,
     "metadata": {},
     "output_type": "execute_result"
    }
   ],
   "source": [
    "#remove < and >\n",
    "\n",
    "train_df['NucleotideSequence'] = train_df['NucleotideSequence'].str.strip('<>')\n",
    "val_df['NucleotideSequence'] = val_df['NucleotideSequence'].str.strip('<>')\n",
    "test_df['NucleotideSequence'] = test_df['NucleotideSequence'].str.strip('<>')\n",
    "\n",
    "#dump first five rwas on screen\n",
    "train_df.head()"
   ]
  },
  {
   "cell_type": "markdown",
   "id": "5b808c90",
   "metadata": {
    "id": "5b808c90"
   },
   "source": [
    "## Gene type distribution"
   ]
  },
  {
   "cell_type": "code",
   "execution_count": 6,
   "id": "a6539800",
   "metadata": {
    "colab": {
     "base_uri": "https://localhost:8080/",
     "height": 507
    },
    "executionInfo": {
     "elapsed": 287,
     "status": "ok",
     "timestamp": 1758727350841,
     "user": {
      "displayName": "Anna Braghetto",
      "userId": "08361497697639421184"
     },
     "user_tz": -120
    },
    "id": "a6539800",
    "outputId": "3dd8dbc1-f2a6-49a3-8b0b-eed1f40af188"
   },
   "outputs": [
    {
     "data": {
      "image/png": "[encoded data removed]",
      "text/plain": [
       "<Figure size 1000x500 with 1 Axes>"
      ]
     },
     "metadata": {},
     "output_type": "display_data"
    }
   ],
   "source": [
    "#plot the distribution of GeneType\n",
    "plt.figure(figsize=(10,5))\n",
    "sns.countplot(y='GeneType', data=train_df, order=train_df['GeneType'].value_counts().index)\n",
    "plt.xlabel('Count')\n",
    "plt.ylabel('GeneType')\n",
    "plt.tight_layout()\n",
    "plt.show()"
   ]
  },
  {
   "cell_type": "markdown",
   "id": "C76-r0o9QhN7",
   "metadata": {
    "id": "C76-r0o9QhN7"
   },
   "source": [
    "From the plot, it is immediately apparent that the dataset is highly imbalanced. The distribution of samples across the different classes is extremely uneven, with the largest class containing nearly 10,000 samples, while the smallest class has only a single sample. This pronounced disparity highlights a significant challenge for any classification model, as the model may become biased toward the majority class and struggle to correctly predict the minority classes."
   ]
  },
  {
   "cell_type": "markdown",
   "id": "1b3f4205",
   "metadata": {
    "id": "1b3f4205"
   },
   "source": [
    "## Prediction"
   ]
  },
  {
   "cell_type": "markdown",
   "id": "3f5a735a",
   "metadata": {
    "id": "3f5a735a"
   },
   "source": [
    "### Tokenization"
   ]
  },
  {
   "cell_type": "code",
   "execution_count": 7,
   "id": "e17b2d25",
   "metadata": {
    "colab": {
     "base_uri": "https://localhost:8080/"
    },
    "executionInfo": {
     "elapsed": 3782,
     "status": "ok",
     "timestamp": 1758727354602,
     "user": {
      "displayName": "Anna Braghetto",
      "userId": "08361497697639421184"
     },
     "user_tz": -120
    },
    "id": "e17b2d25",
    "outputId": "36e0ca5b-ab8b-45b8-c7af-dddc7cb770a3"
   },
   "outputs": [
    {
     "data": {
      "text/plain": [
       "['AGCTTA',\n",
       " 'GCTTAG',\n",
       " 'CTTAGC',\n",
       " 'TTAGCA',\n",
       " 'TAGCAC',\n",
       " 'AGCACA',\n",
       " 'GCACAG',\n",
       " 'CACAGT',\n",
       " 'ACAGTG',\n",
       " 'CAGTGG']"
      ]
     },
     "execution_count": 7,
     "metadata": {},
     "output_type": "execute_result"
    }
   ],
   "source": [
    "#k-mer\n",
    "def generate_kmers(sequence, k=6):\n",
    "    return [sequence[i:i+k] for i in range(len(sequence) - k + 1)]\n",
    "\n",
    "def generate_kmers_batch(sequences, k=6):\n",
    "    \"\"\"\n",
    "    sequences: list of strings, e.g. [\"ATGCGT\", \"GGCTAAGT\"]\n",
    "    returns: list of lists of k-mers\n",
    "    \"\"\"\n",
    "    return [generate_kmers(seq, k) for seq in sequences]\n",
    "\n",
    "train_df['k-mer'] = generate_kmers_batch(train_df['NucleotideSequence'])\n",
    "val_df['k-mer'] = generate_kmers_batch(val_df['NucleotideSequence'])\n",
    "test_df['k-mer'] = generate_kmers_batch(test_df['NucleotideSequence'])\n",
    "\n",
    "#dump on screen the example of k mer: start\n",
    "train_df['k-mer'][0][:10]"
   ]
  },
  {
   "cell_type": "markdown",
   "id": "da1467b5",
   "metadata": {
    "id": "da1467b5"
   },
   "source": [
    "### Label encoding"
   ]
  },
  {
   "cell_type": "code",
   "execution_count": 10,
   "id": "0636565b",
   "metadata": {
    "executionInfo": {
     "elapsed": 61,
     "status": "ok",
     "timestamp": 1758727384734,
     "user": {
      "displayName": "Anna Braghetto",
      "userId": "08361497697639421184"
     },
     "user_tz": -120
    },
    "id": "0636565b"
   },
   "outputs": [],
   "source": [
    "from itertools import product\n",
    "\n",
    "#all possible k-mers for dna\n",
    "k = 6\n",
    "nucleotides = ['A','C','G','T']\n",
    "all_kmers = [''.join(p) for p in product(nucleotides, repeat=k)]\n",
    "\n",
    "#map k-mer to id (0 reserved for padding)\n",
    "kmer2id = {kmer: idx+1 for idx, kmer in enumerate(all_kmers)}\n",
    "\n",
    "def kmer_seq_to_ids(seq, kmer2id):\n",
    "    return [kmer2id[k] for k in seq]"
   ]
  },
  {
   "cell_type": "code",
   "execution_count": 11,
   "id": "aa018626",
   "metadata": {
    "colab": {
     "base_uri": "https://localhost:8080/"
    },
    "executionInfo": {
     "elapsed": 1880,
     "status": "ok",
     "timestamp": 1758727387061,
     "user": {
      "displayName": "Anna Braghetto",
      "userId": "08361497697639421184"
     },
     "user_tz": -120
    },
    "id": "aa018626",
    "outputId": "59ccc95d-a52d-40e4-e4d8-0269d183277b"
   },
   "outputs": [
    {
     "data": {
      "text/plain": [
       "[637, 2547, 1994, 3877, 3218, 581, 2323, 1100, 303, 1211]"
      ]
     },
     "execution_count": 11,
     "metadata": {},
     "output_type": "execute_result"
    }
   ],
   "source": [
    "#convert to ID\n",
    "X_train = [kmer_seq_to_ids(seq, kmer2id) for seq in train_df['k-mer']]\n",
    "X_val = [kmer_seq_to_ids(seq, kmer2id) for seq in val_df['k-mer']]\n",
    "X_test = [kmer_seq_to_ids(seq, kmer2id) for seq in test_df['k-mer']]\n",
    "\n",
    "#dump on screen the example of ID: start\n",
    "X_train[0][:10]"
   ]
  },
  {
   "cell_type": "code",
   "execution_count": 12,
   "id": "9bc48928",
   "metadata": {
    "executionInfo": {
     "elapsed": 3,
     "status": "ok",
     "timestamp": 1758727387563,
     "user": {
      "displayName": "Anna Braghetto",
      "userId": "08361497697639421184"
     },
     "user_tz": -120
    },
    "id": "9bc48928"
   },
   "outputs": [],
   "source": [
    "#initialize label encoder\n",
    "le = LabelEncoder()\n",
    "\n",
    "#fit and transform labels into numeric ids\n",
    "le.fit(train_df['GeneType'])\n",
    "y_train = le.transform(train_df['GeneType'])\n",
    "y_val = le.transform(val_df['GeneType'])\n",
    "y_test = le.transform(test_df['GeneType'])"
   ]
  },
  {
   "cell_type": "markdown",
   "id": "00049bdb",
   "metadata": {
    "id": "00049bdb"
   },
   "source": [
    "### Padding"
   ]
  },
  {
   "cell_type": "code",
   "execution_count": 13,
   "id": "f44353db",
   "metadata": {
    "executionInfo": {
     "elapsed": 555,
     "status": "ok",
     "timestamp": 1758727388123,
     "user": {
      "displayName": "Anna Braghetto",
      "userId": "08361497697639421184"
     },
     "user_tz": -120
    },
    "id": "f44353db"
   },
   "outputs": [],
   "source": [
    "#maximum length of dna sequence\n",
    "max_len = max_len = max(train_df['k-mer'].apply(len))\n",
    "\n",
    "#pad sequences\n",
    "X_train = pad_sequences(X_train, maxlen=max_len, padding='post', truncating='post')\n",
    "X_val = pad_sequences(X_val, maxlen=max_len, padding='post', truncating='post')\n",
    "X_test = pad_sequences(X_test, maxlen=max_len, padding='post', truncating='post')"
   ]
  },
  {
   "cell_type": "markdown",
   "id": "dacfce0b",
   "metadata": {
    "id": "dacfce0b"
   },
   "source": [
    "### Transformer model"
   ]
  },
  {
   "cell_type": "code",
   "execution_count": 14,
   "id": "56ee40ed",
   "metadata": {
    "colab": {
     "base_uri": "https://localhost:8080/",
     "height": 788
    },
    "executionInfo": {
     "elapsed": 1289,
     "status": "ok",
     "timestamp": 1758727389415,
     "user": {
      "displayName": "Anna Braghetto",
      "userId": "08361497697639421184"
     },
     "user_tz": -120
    },
    "id": "56ee40ed",
    "outputId": "1794b524-0f73-4a94-d0c3-3a89a648a22c"
   },
   "outputs": [
    {
     "data": {
      "text/html": [
       "<pre style=\"white-space:pre;overflow-x:auto;line-height:normal;font-family:Menlo,'DejaVu Sans Mono',consolas,'Courier New',monospace\"><span style=\"font-weight: bold\">Model: \"functional\"</span>\n",
       "</pre>\n"
      ],
      "text/plain": [
       "\u001b[1mModel: \"functional\"\u001b[0m\n"
      ]
     },
     "metadata": {},
     "output_type": "display_data"
    },
    {
     "data": {
      "text/html": [
       "<pre style=\"white-space:pre;overflow-x:auto;line-height:normal;font-family:Menlo,'DejaVu Sans Mono',consolas,'Courier New',monospace\">┏━━━━━━━━━━━━━━━━━━━━━┳━━━━━━━━━━━━━━━━━━━┳━━━━━━━━━━━━┳━━━━━━━━━━━━━━━━━━━┓\n",
       "┃<span style=\"font-weight: bold\"> Layer (type)        </span>┃<span style=\"font-weight: bold\"> Output Shape      </span>┃<span style=\"font-weight: bold\">    Param # </span>┃<span style=\"font-weight: bold\"> Connected to      </span>┃\n",
       "┡━━━━━━━━━━━━━━━━━━━━━╇━━━━━━━━━━━━━━━━━━━╇━━━━━━━━━━━━╇━━━━━━━━━━━━━━━━━━━┩\n",
       "│ input_layer         │ (<span style=\"color: #00d7ff; text-decoration-color: #00d7ff\">None</span>, <span style=\"color: #00af00; text-decoration-color: #00af00\">995</span>)       │          <span style=\"color: #00af00; text-decoration-color: #00af00\">0</span> │ -                 │\n",
       "│ (<span style=\"color: #0087ff; text-decoration-color: #0087ff\">InputLayer</span>)        │                   │            │                   │\n",
       "├─────────────────────┼───────────────────┼────────────┼───────────────────┤\n",
       "│ embedding           │ (<span style=\"color: #00d7ff; text-decoration-color: #00d7ff\">None</span>, <span style=\"color: #00af00; text-decoration-color: #00af00\">995</span>, <span style=\"color: #00af00; text-decoration-color: #00af00\">128</span>)  │    <span style=\"color: #00af00; text-decoration-color: #00af00\">524,416</span> │ input_layer[<span style=\"color: #00af00; text-decoration-color: #00af00\">0</span>][<span style=\"color: #00af00; text-decoration-color: #00af00\">0</span>] │\n",
       "│ (<span style=\"color: #0087ff; text-decoration-color: #0087ff\">Embedding</span>)         │                   │            │                   │\n",
       "├─────────────────────┼───────────────────┼────────────┼───────────────────┤\n",
       "│ multi_head_attenti… │ (<span style=\"color: #00d7ff; text-decoration-color: #00d7ff\">None</span>, <span style=\"color: #00af00; text-decoration-color: #00af00\">995</span>, <span style=\"color: #00af00; text-decoration-color: #00af00\">128</span>)  │    <span style=\"color: #00af00; text-decoration-color: #00af00\">263,808</span> │ embedding[<span style=\"color: #00af00; text-decoration-color: #00af00\">0</span>][<span style=\"color: #00af00; text-decoration-color: #00af00\">0</span>],  │\n",
       "│ (<span style=\"color: #0087ff; text-decoration-color: #0087ff\">MultiHeadAttentio…</span> │                   │            │ embedding[<span style=\"color: #00af00; text-decoration-color: #00af00\">0</span>][<span style=\"color: #00af00; text-decoration-color: #00af00\">0</span>]   │\n",
       "├─────────────────────┼───────────────────┼────────────┼───────────────────┤\n",
       "│ dropout_1 (<span style=\"color: #0087ff; text-decoration-color: #0087ff\">Dropout</span>) │ (<span style=\"color: #00d7ff; text-decoration-color: #00d7ff\">None</span>, <span style=\"color: #00af00; text-decoration-color: #00af00\">995</span>, <span style=\"color: #00af00; text-decoration-color: #00af00\">128</span>)  │          <span style=\"color: #00af00; text-decoration-color: #00af00\">0</span> │ multi_head_atten… │\n",
       "├─────────────────────┼───────────────────┼────────────┼───────────────────┤\n",
       "│ add (<span style=\"color: #0087ff; text-decoration-color: #0087ff\">Add</span>)           │ (<span style=\"color: #00d7ff; text-decoration-color: #00d7ff\">None</span>, <span style=\"color: #00af00; text-decoration-color: #00af00\">995</span>, <span style=\"color: #00af00; text-decoration-color: #00af00\">128</span>)  │          <span style=\"color: #00af00; text-decoration-color: #00af00\">0</span> │ embedding[<span style=\"color: #00af00; text-decoration-color: #00af00\">0</span>][<span style=\"color: #00af00; text-decoration-color: #00af00\">0</span>],  │\n",
       "│                     │                   │            │ dropout_1[<span style=\"color: #00af00; text-decoration-color: #00af00\">0</span>][<span style=\"color: #00af00; text-decoration-color: #00af00\">0</span>]   │\n",
       "├─────────────────────┼───────────────────┼────────────┼───────────────────┤\n",
       "│ layer_normalization │ (<span style=\"color: #00d7ff; text-decoration-color: #00d7ff\">None</span>, <span style=\"color: #00af00; text-decoration-color: #00af00\">995</span>, <span style=\"color: #00af00; text-decoration-color: #00af00\">128</span>)  │        <span style=\"color: #00af00; text-decoration-color: #00af00\">256</span> │ add[<span style=\"color: #00af00; text-decoration-color: #00af00\">0</span>][<span style=\"color: #00af00; text-decoration-color: #00af00\">0</span>]         │\n",
       "│ (<span style=\"color: #0087ff; text-decoration-color: #0087ff\">LayerNormalizatio…</span> │                   │            │                   │\n",
       "├─────────────────────┼───────────────────┼────────────┼───────────────────┤\n",
       "│ dense (<span style=\"color: #0087ff; text-decoration-color: #0087ff\">Dense</span>)       │ (<span style=\"color: #00d7ff; text-decoration-color: #00d7ff\">None</span>, <span style=\"color: #00af00; text-decoration-color: #00af00\">995</span>, <span style=\"color: #00af00; text-decoration-color: #00af00\">256</span>)  │     <span style=\"color: #00af00; text-decoration-color: #00af00\">33,024</span> │ layer_normalizat… │\n",
       "├─────────────────────┼───────────────────┼────────────┼───────────────────┤\n",
       "│ dense_1 (<span style=\"color: #0087ff; text-decoration-color: #0087ff\">Dense</span>)     │ (<span style=\"color: #00d7ff; text-decoration-color: #00d7ff\">None</span>, <span style=\"color: #00af00; text-decoration-color: #00af00\">995</span>, <span style=\"color: #00af00; text-decoration-color: #00af00\">128</span>)  │     <span style=\"color: #00af00; text-decoration-color: #00af00\">32,896</span> │ dense[<span style=\"color: #00af00; text-decoration-color: #00af00\">0</span>][<span style=\"color: #00af00; text-decoration-color: #00af00\">0</span>]       │\n",
       "├─────────────────────┼───────────────────┼────────────┼───────────────────┤\n",
       "│ dropout_2 (<span style=\"color: #0087ff; text-decoration-color: #0087ff\">Dropout</span>) │ (<span style=\"color: #00d7ff; text-decoration-color: #00d7ff\">None</span>, <span style=\"color: #00af00; text-decoration-color: #00af00\">995</span>, <span style=\"color: #00af00; text-decoration-color: #00af00\">128</span>)  │          <span style=\"color: #00af00; text-decoration-color: #00af00\">0</span> │ dense_1[<span style=\"color: #00af00; text-decoration-color: #00af00\">0</span>][<span style=\"color: #00af00; text-decoration-color: #00af00\">0</span>]     │\n",
       "├─────────────────────┼───────────────────┼────────────┼───────────────────┤\n",
       "│ add_1 (<span style=\"color: #0087ff; text-decoration-color: #0087ff\">Add</span>)         │ (<span style=\"color: #00d7ff; text-decoration-color: #00d7ff\">None</span>, <span style=\"color: #00af00; text-decoration-color: #00af00\">995</span>, <span style=\"color: #00af00; text-decoration-color: #00af00\">128</span>)  │          <span style=\"color: #00af00; text-decoration-color: #00af00\">0</span> │ layer_normalizat… │\n",
       "│                     │                   │            │ dropout_2[<span style=\"color: #00af00; text-decoration-color: #00af00\">0</span>][<span style=\"color: #00af00; text-decoration-color: #00af00\">0</span>]   │\n",
       "├─────────────────────┼───────────────────┼────────────┼───────────────────┤\n",
       "│ layer_normalizatio… │ (<span style=\"color: #00d7ff; text-decoration-color: #00d7ff\">None</span>, <span style=\"color: #00af00; text-decoration-color: #00af00\">995</span>, <span style=\"color: #00af00; text-decoration-color: #00af00\">128</span>)  │        <span style=\"color: #00af00; text-decoration-color: #00af00\">256</span> │ add_1[<span style=\"color: #00af00; text-decoration-color: #00af00\">0</span>][<span style=\"color: #00af00; text-decoration-color: #00af00\">0</span>]       │\n",
       "│ (<span style=\"color: #0087ff; text-decoration-color: #0087ff\">LayerNormalizatio…</span> │                   │            │                   │\n",
       "├─────────────────────┼───────────────────┼────────────┼───────────────────┤\n",
       "│ global_average_poo… │ (<span style=\"color: #00d7ff; text-decoration-color: #00d7ff\">None</span>, <span style=\"color: #00af00; text-decoration-color: #00af00\">128</span>)       │          <span style=\"color: #00af00; text-decoration-color: #00af00\">0</span> │ layer_normalizat… │\n",
       "│ (<span style=\"color: #0087ff; text-decoration-color: #0087ff\">GlobalAveragePool…</span> │                   │            │                   │\n",
       "├─────────────────────┼───────────────────┼────────────┼───────────────────┤\n",
       "│ dense_2 (<span style=\"color: #0087ff; text-decoration-color: #0087ff\">Dense</span>)     │ (<span style=\"color: #00d7ff; text-decoration-color: #00d7ff\">None</span>, <span style=\"color: #00af00; text-decoration-color: #00af00\">103</span>)       │     <span style=\"color: #00af00; text-decoration-color: #00af00\">13,287</span> │ global_average_p… │\n",
       "└─────────────────────┴───────────────────┴────────────┴───────────────────┘\n",
       "</pre>\n"
      ],
      "text/plain": [
       "┏━━━━━━━━━━━━━━━━━━━━━┳━━━━━━━━━━━━━━━━━━━┳━━━━━━━━━━━━┳━━━━━━━━━━━━━━━━━━━┓\n",
       "┃\u001b[1m \u001b[0m\u001b[1mLayer (type)       \u001b[0m\u001b[1m \u001b[0m┃\u001b[1m \u001b[0m\u001b[1mOutput Shape     \u001b[0m\u001b[1m \u001b[0m┃\u001b[1m \u001b[0m\u001b[1m   Param #\u001b[0m\u001b[1m \u001b[0m┃\u001b[1m \u001b[0m\u001b[1mConnected to     \u001b[0m\u001b[1m \u001b[0m┃\n",
       "┡━━━━━━━━━━━━━━━━━━━━━╇━━━━━━━━━━━━━━━━━━━╇━━━━━━━━━━━━╇━━━━━━━━━━━━━━━━━━━┩\n",
       "│ input_layer         │ (\u001b[38;5;45mNone\u001b[0m, \u001b[38;5;34m995\u001b[0m)       │          \u001b[38;5;34m0\u001b[0m │ -                 │\n",
       "│ (\u001b[38;5;33mInputLayer\u001b[0m)        │                   │            │                   │\n",
       "├─────────────────────┼───────────────────┼────────────┼───────────────────┤\n",
       "│ embedding           │ (\u001b[38;5;45mNone\u001b[0m, \u001b[38;5;34m995\u001b[0m, \u001b[38;5;34m128\u001b[0m)  │    \u001b[38;5;34m524,416\u001b[0m │ input_layer[\u001b[38;5;34m0\u001b[0m][\u001b[38;5;34m0\u001b[0m] │\n",
       "│ (\u001b[38;5;33mEmbedding\u001b[0m)         │                   │            │                   │\n",
       "├─────────────────────┼───────────────────┼────────────┼───────────────────┤\n",
       "│ multi_head_attenti… │ (\u001b[38;5;45mNone\u001b[0m, \u001b[38;5;34m995\u001b[0m, \u001b[38;5;34m128\u001b[0m)  │    \u001b[38;5;34m263,808\u001b[0m │ embedding[\u001b[38;5;34m0\u001b[0m][\u001b[38;5;34m0\u001b[0m],  │\n",
       "│ (\u001b[38;5;33mMultiHeadAttentio…\u001b[0m │                   │            │ embedding[\u001b[38;5;34m0\u001b[0m][\u001b[38;5;34m0\u001b[0m]   │\n",
       "├─────────────────────┼───────────────────┼────────────┼───────────────────┤\n",
       "│ dropout_1 (\u001b[38;5;33mDropout\u001b[0m) │ (\u001b[38;5;45mNone\u001b[0m, \u001b[38;5;34m995\u001b[0m, \u001b[38;5;34m128\u001b[0m)  │          \u001b[38;5;34m0\u001b[0m │ multi_head_atten… │\n",
       "├─────────────────────┼───────────────────┼────────────┼───────────────────┤\n",
       "│ add (\u001b[38;5;33mAdd\u001b[0m)           │ (\u001b[38;5;45mNone\u001b[0m, \u001b[38;5;34m995\u001b[0m, \u001b[38;5;34m128\u001b[0m)  │          \u001b[38;5;34m0\u001b[0m │ embedding[\u001b[38;5;34m0\u001b[0m][\u001b[38;5;34m0\u001b[0m],  │\n",
       "│                     │                   │            │ dropout_1[\u001b[38;5;34m0\u001b[0m][\u001b[38;5;34m0\u001b[0m]   │\n",
       "├─────────────────────┼───────────────────┼────────────┼───────────────────┤\n",
       "│ layer_normalization │ (\u001b[38;5;45mNone\u001b[0m, \u001b[38;5;34m995\u001b[0m, \u001b[38;5;34m128\u001b[0m)  │        \u001b[38;5;34m256\u001b[0m │ add[\u001b[38;5;34m0\u001b[0m][\u001b[38;5;34m0\u001b[0m]         │\n",
       "│ (\u001b[38;5;33mLayerNormalizatio…\u001b[0m │                   │            │                   │\n",
       "├─────────────────────┼───────────────────┼────────────┼───────────────────┤\n",
       "│ dense (\u001b[38;5;33mDense\u001b[0m)       │ (\u001b[38;5;45mNone\u001b[0m, \u001b[38;5;34m995\u001b[0m, \u001b[38;5;34m256\u001b[0m)  │     \u001b[38;5;34m33,024\u001b[0m │ layer_normalizat… │\n",
       "├─────────────────────┼───────────────────┼────────────┼───────────────────┤\n",
       "│ dense_1 (\u001b[38;5;33mDense\u001b[0m)     │ (\u001b[38;5;45mNone\u001b[0m, \u001b[38;5;34m995\u001b[0m, \u001b[38;5;34m128\u001b[0m)  │     \u001b[38;5;34m32,896\u001b[0m │ dense[\u001b[38;5;34m0\u001b[0m][\u001b[38;5;34m0\u001b[0m]       │\n",
       "├─────────────────────┼───────────────────┼────────────┼───────────────────┤\n",
       "│ dropout_2 (\u001b[38;5;33mDropout\u001b[0m) │ (\u001b[38;5;45mNone\u001b[0m, \u001b[38;5;34m995\u001b[0m, \u001b[38;5;34m128\u001b[0m)  │          \u001b[38;5;34m0\u001b[0m │ dense_1[\u001b[38;5;34m0\u001b[0m][\u001b[38;5;34m0\u001b[0m]     │\n",
       "├─────────────────────┼───────────────────┼────────────┼───────────────────┤\n",
       "│ add_1 (\u001b[38;5;33mAdd\u001b[0m)         │ (\u001b[38;5;45mNone\u001b[0m, \u001b[38;5;34m995\u001b[0m, \u001b[38;5;34m128\u001b[0m)  │          \u001b[38;5;34m0\u001b[0m │ layer_normalizat… │\n",
       "│                     │                   │            │ dropout_2[\u001b[38;5;34m0\u001b[0m][\u001b[38;5;34m0\u001b[0m]   │\n",
       "├─────────────────────┼───────────────────┼────────────┼───────────────────┤\n",
       "│ layer_normalizatio… │ (\u001b[38;5;45mNone\u001b[0m, \u001b[38;5;34m995\u001b[0m, \u001b[38;5;34m128\u001b[0m)  │        \u001b[38;5;34m256\u001b[0m │ add_1[\u001b[38;5;34m0\u001b[0m][\u001b[38;5;34m0\u001b[0m]       │\n",
       "│ (\u001b[38;5;33mLayerNormalizatio…\u001b[0m │                   │            │                   │\n",
       "├─────────────────────┼───────────────────┼────────────┼───────────────────┤\n",
       "│ global_average_poo… │ (\u001b[38;5;45mNone\u001b[0m, \u001b[38;5;34m128\u001b[0m)       │          \u001b[38;5;34m0\u001b[0m │ layer_normalizat… │\n",
       "│ (\u001b[38;5;33mGlobalAveragePool…\u001b[0m │                   │            │                   │\n",
       "├─────────────────────┼───────────────────┼────────────┼───────────────────┤\n",
       "│ dense_2 (\u001b[38;5;33mDense\u001b[0m)     │ (\u001b[38;5;45mNone\u001b[0m, \u001b[38;5;34m103\u001b[0m)       │     \u001b[38;5;34m13,287\u001b[0m │ global_average_p… │\n",
       "└─────────────────────┴───────────────────┴────────────┴───────────────────┘\n"
      ]
     },
     "metadata": {},
     "output_type": "display_data"
    },
    {
     "data": {
      "text/html": [
       "<pre style=\"white-space:pre;overflow-x:auto;line-height:normal;font-family:Menlo,'DejaVu Sans Mono',consolas,'Courier New',monospace\"><span style=\"font-weight: bold\"> Total params: </span><span style=\"color: #00af00; text-decoration-color: #00af00\">867,943</span> (3.31 MB)\n",
       "</pre>\n"
      ],
      "text/plain": [
       "\u001b[1m Total params: \u001b[0m\u001b[38;5;34m867,943\u001b[0m (3.31 MB)\n"
      ]
     },
     "metadata": {},
     "output_type": "display_data"
    },
    {
     "data": {
      "text/html": [
       "<pre style=\"white-space:pre;overflow-x:auto;line-height:normal;font-family:Menlo,'DejaVu Sans Mono',consolas,'Courier New',monospace\"><span style=\"font-weight: bold\"> Trainable params: </span><span style=\"color: #00af00; text-decoration-color: #00af00\">867,943</span> (3.31 MB)\n",
       "</pre>\n"
      ],
      "text/plain": [
       "\u001b[1m Trainable params: \u001b[0m\u001b[38;5;34m867,943\u001b[0m (3.31 MB)\n"
      ]
     },
     "metadata": {},
     "output_type": "display_data"
    },
    {
     "data": {
      "text/html": [
       "<pre style=\"white-space:pre;overflow-x:auto;line-height:normal;font-family:Menlo,'DejaVu Sans Mono',consolas,'Courier New',monospace\"><span style=\"font-weight: bold\"> Non-trainable params: </span><span style=\"color: #00af00; text-decoration-color: #00af00\">0</span> (0.00 B)\n",
       "</pre>\n"
      ],
      "text/plain": [
       "\u001b[1m Non-trainable params: \u001b[0m\u001b[38;5;34m0\u001b[0m (0.00 B)\n"
      ]
     },
     "metadata": {},
     "output_type": "display_data"
    }
   ],
   "source": [
    "def build_kmer_transformer_model(vocab_size, max_len, embed_dim=64, num_heads=4, ff_dim=128, num_classes=2, dropout=0.1):\n",
    "    inputs = layers.Input(shape=(max_len,), dtype='int32')\n",
    "\n",
    "    #embedding layer with mask on padding (id=0)\n",
    "    x = layers.Embedding(input_dim=vocab_size, output_dim=embed_dim, mask_zero=True)(inputs)\n",
    "\n",
    "    #multi-head self-attention (mask handled automatically)\n",
    "    attn_output = layers.MultiHeadAttention(num_heads=num_heads, key_dim=embed_dim)(x, x)\n",
    "    attn_output = layers.Dropout(dropout)(attn_output)\n",
    "    x = layers.LayerNormalization(epsilon=1e-6)(x + attn_output)\n",
    "\n",
    "    #feedforward network\n",
    "    ffn = layers.Dense(ff_dim, activation='relu')(x)\n",
    "    ffn_output = layers.Dense(embed_dim)(ffn)\n",
    "    ffn_output = layers.Dropout(dropout)(ffn_output)\n",
    "    x = layers.LayerNormalization(epsilon=1e-6)(x + ffn_output)\n",
    "\n",
    "    #global average pooling\n",
    "    x = layers.GlobalAveragePooling1D()(x)\n",
    "\n",
    "    #final classification layer\n",
    "    outputs = layers.Dense(num_classes, activation='softmax')(x)\n",
    "\n",
    "    #build model\n",
    "    model = models.Model(inputs=inputs, outputs=outputs)\n",
    "    return model\n",
    "\n",
    "#example usage\n",
    "vocab_size = 4097   #k-mer 6 + 1 for padding\n",
    "num_classes = 103   #example number of classes\n",
    "\n",
    "model = build_kmer_transformer_model(\n",
    "    vocab_size=vocab_size,\n",
    "    max_len=max_len,\n",
    "    embed_dim=128,\n",
    "    num_heads=4,\n",
    "    ff_dim=256,\n",
    "    num_classes=num_classes,\n",
    "    dropout=0.1\n",
    ")\n",
    "\n",
    "model.compile(optimizer='adam', loss='sparse_categorical_crossentropy', metrics=['accuracy'])\n",
    "model.summary()\n"
   ]
  },
  {
   "cell_type": "code",
   "execution_count": 15,
   "id": "381a5e29",
   "metadata": {
    "colab": {
     "base_uri": "https://localhost:8080/"
    },
    "executionInfo": {
     "elapsed": 2510850,
     "status": "ok",
     "timestamp": 1758729900269,
     "user": {
      "displayName": "Anna Braghetto",
      "userId": "08361497697639421184"
     },
     "user_tz": -120
    },
    "id": "381a5e29",
    "outputId": "a67d0e56-ed78-422b-ebb7-2da06871e570"
   },
   "outputs": [
    {
     "name": "stdout",
     "output_type": "stream",
     "text": [
      "Epoch 1/100\n",
      "\u001b[1m707/707\u001b[0m \u001b[32m━━━━━━━━━━━━━━━━━━━━\u001b[0m\u001b[37m\u001b[0m \u001b[1m104s\u001b[0m 121ms/step - accuracy: 0.5894 - loss: 1.1821 - val_accuracy: 0.7527 - val_loss: 0.6773 - learning_rate: 0.0010\n",
      "Epoch 2/100\n",
      "\u001b[1m707/707\u001b[0m \u001b[32m━━━━━━━━━━━━━━━━━━━━\u001b[0m\u001b[37m\u001b[0m \u001b[1m80s\u001b[0m 113ms/step - accuracy: 0.8080 - loss: 0.5872 - val_accuracy: 0.8536 - val_loss: 0.4654 - learning_rate: 0.0010\n",
      "Epoch 3/100\n",
      "\u001b[1m707/707\u001b[0m \u001b[32m━━━━━━━━━━━━━━━━━━━━\u001b[0m\u001b[37m\u001b[0m \u001b[1m80s\u001b[0m 114ms/step - accuracy: 0.8630 - loss: 0.4430 - val_accuracy: 0.8589 - val_loss: 0.4157 - learning_rate: 0.0010\n",
      "Epoch 4/100\n",
      "\u001b[1m707/707\u001b[0m \u001b[32m━━━━━━━━━━━━━━━━━━━━\u001b[0m\u001b[37m\u001b[0m \u001b[1m80s\u001b[0m 113ms/step - accuracy: 0.8759 - loss: 0.4015 - val_accuracy: 0.9139 - val_loss: 0.2892 - learning_rate: 0.0010\n",
      "Epoch 5/100\n",
      "\u001b[1m707/707\u001b[0m \u001b[32m━━━━━━━━━━━━━━━━━━━━\u001b[0m\u001b[37m\u001b[0m \u001b[1m80s\u001b[0m 113ms/step - accuracy: 0.9066 - loss: 0.2988 - val_accuracy: 0.9141 - val_loss: 0.2517 - learning_rate: 0.0010\n",
      "Epoch 6/100\n",
      "\u001b[1m707/707\u001b[0m \u001b[32m━━━━━━━━━━━━━━━━━━━━\u001b[0m\u001b[37m\u001b[0m \u001b[1m80s\u001b[0m 113ms/step - accuracy: 0.9193 - loss: 0.2543 - val_accuracy: 0.9259 - val_loss: 0.2100 - learning_rate: 0.0010\n",
      "Epoch 7/100\n",
      "\u001b[1m707/707\u001b[0m \u001b[32m━━━━━━━━━━━━━━━━━━━━\u001b[0m\u001b[37m\u001b[0m \u001b[1m80s\u001b[0m 113ms/step - accuracy: 0.9322 - loss: 0.2208 - val_accuracy: 0.9408 - val_loss: 0.1766 - learning_rate: 0.0010\n",
      "Epoch 8/100\n",
      "\u001b[1m707/707\u001b[0m \u001b[32m━━━━━━━━━━━━━━━━━━━━\u001b[0m\u001b[37m\u001b[0m \u001b[1m80s\u001b[0m 113ms/step - accuracy: 0.9400 - loss: 0.1949 - val_accuracy: 0.7763 - val_loss: 0.6772 - learning_rate: 0.0010\n",
      "Epoch 9/100\n",
      "\u001b[1m707/707\u001b[0m \u001b[32m━━━━━━━━━━━━━━━━━━━━\u001b[0m\u001b[37m\u001b[0m \u001b[1m80s\u001b[0m 114ms/step - accuracy: 0.9243 - loss: 0.2345 - val_accuracy: 0.9447 - val_loss: 0.1700 - learning_rate: 0.0010\n",
      "Epoch 10/100\n",
      "\u001b[1m707/707\u001b[0m \u001b[32m━━━━━━━━━━━━━━━━━━━━\u001b[0m\u001b[37m\u001b[0m \u001b[1m82s\u001b[0m 114ms/step - accuracy: 0.9537 - loss: 0.1537 - val_accuracy: 0.8589 - val_loss: 0.3460 - learning_rate: 0.0010\n",
      "Epoch 11/100\n",
      "\u001b[1m707/707\u001b[0m \u001b[32m━━━━━━━━━━━━━━━━━━━━\u001b[0m\u001b[37m\u001b[0m \u001b[1m80s\u001b[0m 113ms/step - accuracy: 0.9313 - loss: 0.2057 - val_accuracy: 0.9458 - val_loss: 0.1544 - learning_rate: 0.0010\n",
      "Epoch 12/100\n",
      "\u001b[1m707/707\u001b[0m \u001b[32m━━━━━━━━━━━━━━━━━━━━\u001b[0m\u001b[37m\u001b[0m \u001b[1m80s\u001b[0m 113ms/step - accuracy: 0.9651 - loss: 0.1200 - val_accuracy: 0.9587 - val_loss: 0.1254 - learning_rate: 0.0010\n",
      "Epoch 13/100\n",
      "\u001b[1m707/707\u001b[0m \u001b[32m━━━━━━━━━━━━━━━━━━━━\u001b[0m\u001b[37m\u001b[0m \u001b[1m81s\u001b[0m 114ms/step - accuracy: 0.9641 - loss: 0.1183 - val_accuracy: 0.9716 - val_loss: 0.0956 - learning_rate: 0.0010\n",
      "Epoch 14/100\n",
      "\u001b[1m707/707\u001b[0m \u001b[32m━━━━━━━━━━━━━━━━━━━━\u001b[0m\u001b[37m\u001b[0m \u001b[1m80s\u001b[0m 113ms/step - accuracy: 0.9368 - loss: 0.1891 - val_accuracy: 0.9677 - val_loss: 0.1084 - learning_rate: 0.0010\n",
      "Epoch 15/100\n",
      "\u001b[1m707/707\u001b[0m \u001b[32m━━━━━━━━━━━━━━━━━━━━\u001b[0m\u001b[37m\u001b[0m \u001b[1m80s\u001b[0m 113ms/step - accuracy: 0.9738 - loss: 0.0911 - val_accuracy: 0.9753 - val_loss: 0.0939 - learning_rate: 0.0010\n",
      "Epoch 16/100\n",
      "\u001b[1m707/707\u001b[0m \u001b[32m━━━━━━━━━━━━━━━━━━━━\u001b[0m\u001b[37m\u001b[0m \u001b[1m80s\u001b[0m 114ms/step - accuracy: 0.9736 - loss: 0.0930 - val_accuracy: 0.9677 - val_loss: 0.1102 - learning_rate: 0.0010\n",
      "Epoch 17/100\n",
      "\u001b[1m707/707\u001b[0m \u001b[32m━━━━━━━━━━━━━━━━━━━━\u001b[0m\u001b[37m\u001b[0m \u001b[1m80s\u001b[0m 113ms/step - accuracy: 0.9715 - loss: 0.0979 - val_accuracy: 0.9690 - val_loss: 0.0985 - learning_rate: 0.0010\n",
      "Epoch 18/100\n",
      "\u001b[1m707/707\u001b[0m \u001b[32m━━━━━━━━━━━━━━━━━━━━\u001b[0m\u001b[37m\u001b[0m \u001b[1m80s\u001b[0m 113ms/step - accuracy: 0.9743 - loss: 0.0875 - val_accuracy: 0.9801 - val_loss: 0.0626 - learning_rate: 0.0010\n",
      "Epoch 19/100\n",
      "\u001b[1m707/707\u001b[0m \u001b[32m━━━━━━━━━━━━━━━━━━━━\u001b[0m\u001b[37m\u001b[0m \u001b[1m80s\u001b[0m 113ms/step - accuracy: 0.9792 - loss: 0.0696 - val_accuracy: 0.8510 - val_loss: 0.5113 - learning_rate: 0.0010\n",
      "Epoch 20/100\n",
      "\u001b[1m707/707\u001b[0m \u001b[32m━━━━━━━━━━━━━━━━━━━━\u001b[0m\u001b[37m\u001b[0m \u001b[1m80s\u001b[0m 114ms/step - accuracy: 0.8845 - loss: 0.3400 - val_accuracy: 0.9683 - val_loss: 0.1002 - learning_rate: 0.0010\n",
      "Epoch 21/100\n",
      "\u001b[1m707/707\u001b[0m \u001b[32m━━━━━━━━━━━━━━━━━━━━\u001b[0m\u001b[37m\u001b[0m \u001b[1m80s\u001b[0m 113ms/step - accuracy: 0.9695 - loss: 0.0957 - val_accuracy: 0.9698 - val_loss: 0.0923 - learning_rate: 0.0010\n",
      "Epoch 22/100\n",
      "\u001b[1m707/707\u001b[0m \u001b[32m━━━━━━━━━━━━━━━━━━━━\u001b[0m\u001b[37m\u001b[0m \u001b[1m80s\u001b[0m 113ms/step - accuracy: 0.9864 - loss: 0.0492 - val_accuracy: 0.9913 - val_loss: 0.0334 - learning_rate: 5.0000e-04\n",
      "Epoch 23/100\n",
      "\u001b[1m707/707\u001b[0m \u001b[32m━━━━━━━━━━━━━━━━━━━━\u001b[0m\u001b[37m\u001b[0m \u001b[1m80s\u001b[0m 114ms/step - accuracy: 0.9925 - loss: 0.0316 - val_accuracy: 0.9921 - val_loss: 0.0321 - learning_rate: 5.0000e-04\n",
      "Epoch 24/100\n",
      "\u001b[1m707/707\u001b[0m \u001b[32m━━━━━━━━━━━━━━━━━━━━\u001b[0m\u001b[37m\u001b[0m \u001b[1m80s\u001b[0m 113ms/step - accuracy: 0.9928 - loss: 0.0332 - val_accuracy: 0.9904 - val_loss: 0.0384 - learning_rate: 5.0000e-04\n",
      "Epoch 25/100\n",
      "\u001b[1m707/707\u001b[0m \u001b[32m━━━━━━━━━━━━━━━━━━━━\u001b[0m\u001b[37m\u001b[0m \u001b[1m80s\u001b[0m 113ms/step - accuracy: 0.9921 - loss: 0.0321 - val_accuracy: 0.9932 - val_loss: 0.0255 - learning_rate: 5.0000e-04\n",
      "Epoch 26/100\n",
      "\u001b[1m707/707\u001b[0m \u001b[32m━━━━━━━━━━━━━━━━━━━━\u001b[0m\u001b[37m\u001b[0m \u001b[1m80s\u001b[0m 113ms/step - accuracy: 0.9923 - loss: 0.0310 - val_accuracy: 0.9945 - val_loss: 0.0219 - learning_rate: 5.0000e-04\n",
      "Epoch 27/100\n",
      "\u001b[1m707/707\u001b[0m \u001b[32m━━━━━━━━━━━━━━━━━━━━\u001b[0m\u001b[37m\u001b[0m \u001b[1m80s\u001b[0m 113ms/step - accuracy: 0.9912 - loss: 0.0316 - val_accuracy: 0.9919 - val_loss: 0.0263 - learning_rate: 5.0000e-04\n",
      "Epoch 28/100\n",
      "\u001b[1m707/707\u001b[0m \u001b[32m━━━━━━━━━━━━━━━━━━━━\u001b[0m\u001b[37m\u001b[0m \u001b[1m80s\u001b[0m 114ms/step - accuracy: 0.9946 - loss: 0.0222 - val_accuracy: 0.9948 - val_loss: 0.0257 - learning_rate: 5.0000e-04\n",
      "Epoch 29/100\n",
      "\u001b[1m707/707\u001b[0m \u001b[32m━━━━━━━━━━━━━━━━━━━━\u001b[0m\u001b[37m\u001b[0m \u001b[1m80s\u001b[0m 113ms/step - accuracy: 0.9933 - loss: 0.0289 - val_accuracy: 0.9878 - val_loss: 0.0384 - learning_rate: 5.0000e-04\n",
      "Epoch 30/100\n",
      "\u001b[1m707/707\u001b[0m \u001b[32m━━━━━━━━━━━━━━━━━━━━\u001b[0m\u001b[37m\u001b[0m \u001b[1m80s\u001b[0m 113ms/step - accuracy: 0.9940 - loss: 0.0285 - val_accuracy: 0.9943 - val_loss: 0.0222 - learning_rate: 2.5000e-04\n",
      "Epoch 31/100\n",
      "\u001b[1m707/707\u001b[0m \u001b[32m━━━━━━━━━━━━━━━━━━━━\u001b[0m\u001b[37m\u001b[0m \u001b[1m80s\u001b[0m 114ms/step - accuracy: 0.9964 - loss: 0.0168 - val_accuracy: 0.9913 - val_loss: 0.0279 - learning_rate: 2.5000e-04\n"
     ]
    },
    {
     "data": {
      "text/plain": [
       "<keras.src.callbacks.history.History at 0x7b3b8eb10da0>"
      ]
     },
     "execution_count": 15,
     "metadata": {},
     "output_type": "execute_result"
    }
   ],
   "source": [
    "#early stopping\n",
    "early_stop = EarlyStopping(\n",
    "    monitor='val_loss',        #metric to monitor\n",
    "    patience=5,                #stop if no improvement after 5 epochs\n",
    "    restore_best_weights=True  #restore model weights from best epoch\n",
    ")\n",
    "\n",
    "#learning rate decay\n",
    "reduce_lr = ReduceLROnPlateau(\n",
    "    monitor='val_loss',        #metric to monitor\n",
    "    factor=0.5,                #reduce lr by factor\n",
    "    patience=3,                #wait 3 epochs before reducing\n",
    "    min_lr=1e-6                #minimum learning rate\n",
    ")\n",
    "\n",
    "\n",
    "\n",
    "model.fit(\n",
    "    X_train,\n",
    "    y_train,\n",
    "    batch_size=32,\n",
    "    epochs=100,\n",
    "    validation_data=(X_val, y_val),  #provide validation set explicitly\n",
    "    callbacks=[early_stop, reduce_lr]\n",
    ")"
   ]
  },
  {
   "cell_type": "code",
   "execution_count": 16,
   "id": "904d7652",
   "metadata": {
    "colab": {
     "base_uri": "https://localhost:8080/"
    },
    "executionInfo": {
     "elapsed": 38994,
     "status": "ok",
     "timestamp": 1758729939269,
     "user": {
      "displayName": "Anna Braghetto",
      "userId": "08361497697639421184"
     },
     "user_tz": -120
    },
    "id": "904d7652",
    "outputId": "f5bf09e7-e297-4a73-b6da-1ab09c88b902"
   },
   "outputs": [
    {
     "name": "stdout",
     "output_type": "stream",
     "text": [
      "\u001b[1m707/707\u001b[0m \u001b[32m━━━━━━━━━━━━━━━━━━━━\u001b[0m\u001b[37m\u001b[0m \u001b[1m27s\u001b[0m 38ms/step - accuracy: 0.9930 - loss: 0.0269\n",
      "Train accuracy: 0.9929624199867249\n",
      "\u001b[1m261/261\u001b[0m \u001b[32m━━━━━━━━━━━━━━━━━━━━\u001b[0m\u001b[37m\u001b[0m \u001b[1m12s\u001b[0m 45ms/step - accuracy: 0.9560 - loss: 0.3431\n",
      "Test accuracy: 0.9690127372741699\n"
     ]
    }
   ],
   "source": [
    "_,accuracy = model.evaluate(X_train,y_train)\n",
    "print('Train accuracy:',accuracy)\n",
    "_,accuracy = model.evaluate(X_test,y_test)\n",
    "print('Test accuracy:',accuracy)"
   ]
  },
  {
   "cell_type": "markdown",
   "id": "qAM76FehRf_-",
   "metadata": {
    "id": "qAM76FehRf_-"
   },
   "source": [
    "The test accuracy achieved by the model is 0.97, which is relatively high considering the number of classes (10) and the significant imbalance present in the dataset. Taking into account that some classes have only a few samples while others contain thousands, reaching this level of accuracy indicates that the transformer model is handling the data distribution effectively. It suggests that the model is able to capture meaningful patterns across both the majority and minority classes, despite the challenges posed by the uneven class frequencies. Overall, these results provide encouraging evidence that the transformer architecture is capable of learning robust representations even from datasets with highly skewed class distributions.\n",
    "\n",
    "Furthermore, considering that the training accuracy reaches 0.99, there is minimal indication of overfitting in the model. This stability in performance is likely supported by the implementation of early stopping, which monitors the validation loss and halts training when no further improvement is observed. As a result, the model maintains a balanced generalization capability, avoiding excessive memorization of the training data while still capturing the relevant patterns necessary for accurate predictions."
   ]
  },
  {
   "cell_type": "code",
   "execution_count": 17,
   "id": "3T_0pmMqHIoU",
   "metadata": {
    "colab": {
     "base_uri": "https://localhost:8080/",
     "height": 827
    },
    "executionInfo": {
     "elapsed": 12798,
     "status": "ok",
     "timestamp": 1758729952121,
     "user": {
      "displayName": "Anna Braghetto",
      "userId": "08361497697639421184"
     },
     "user_tz": -120
    },
    "id": "3T_0pmMqHIoU",
    "outputId": "8ea20004-11fe-49b7-be5e-931cdb384760"
   },
   "outputs": [
    {
     "name": "stdout",
     "output_type": "stream",
     "text": [
      "\u001b[1m261/261\u001b[0m \u001b[32m━━━━━━━━━━━━━━━━━━━━\u001b[0m\u001b[37m\u001b[0m \u001b[1m12s\u001b[0m 41ms/step\n"
     ]
    },
    {
     "data": {
      "image/png": "[encoded data removed]",
      "text/plain": [
       "<Figure size 1000x800 with 2 Axes>"
      ]
     },
     "metadata": {},
     "output_type": "display_data"
    }
   ],
   "source": [
    "y_probs = model.predict(X_test)             #predict probabilities\n",
    "y_pred = np.argmax(y_probs, axis=1)        #convert to class indices\n",
    "\n",
    "#compute confusion matrix\n",
    "cm = confusion_matrix(y_test, y_pred)\n",
    "\n",
    "#display confusion matrix\n",
    "plt.figure(figsize=(10,8))\n",
    "sns.heatmap(cm, annot=True, fmt='d', cmap='Blues')\n",
    "plt.title('Confusion Matrix: Test Data')\n",
    "plt.xlabel('Predicted GeneType')\n",
    "plt.ylabel('Actual GeneType')\n",
    "plt.tight_layout()\n",
    "plt.show()\n",
    "plt.show()"
   ]
  },
  {
   "cell_type": "markdown",
   "id": "ivcx6Xd5J0W1",
   "metadata": {
    "id": "ivcx6Xd5J0W1"
   },
   "source": [
    "With the exception of the least represented classes (6), all other classes appear to be generally well classified, as evidenced by the confusion matrix. The model demonstrates strong discriminative ability for the majority of classes, with high true positive rates and minimal confusion across most categories. The limited performance on classes 6 and 7 is likely attributable to their underrepresentation in the training set, which reduces the model’s ability to learn robust patterns for these categories."
   ]
  },
  {
   "cell_type": "code",
   "execution_count": null,
   "id": "2_joHY4EKGKB",
   "metadata": {
    "executionInfo": {
     "elapsed": 16313,
     "status": "aborted",
     "timestamp": 1758727354724,
     "user": {
      "displayName": "Anna Braghetto",
      "userId": "08361497697639421184"
     },
     "user_tz": -120
    },
    "id": "2_joHY4EKGKB"
   },
   "outputs": [],
   "source": []
  }
 ],
 "metadata": {
  "accelerator": "GPU",
  "colab": {
   "gpuType": "T4",
   "provenance": []
  },
  "kernelspec": {
   "display_name": "Python 3 (ipykernel)",
   "language": "python",
   "name": "python3"
  },
  "language_info": {
   "codemirror_mode": {
    "name": "ipython",
    "version": 3
   },
   "file_extension": ".py",
   "mimetype": "text/x-python",
   "name": "python",
   "nbconvert_exporter": "python",
   "pygments_lexer": "ipython3",
   "version": "3.12.7"
  }
 },
 "nbformat": 4,
 "nbformat_minor": 5
}
